{
 "cells": [
  {
   "cell_type": "markdown",
   "id": "c35b44d5",
   "metadata": {},
   "source": [
    "## Lab06\n",
    "110065508 李丞恩\n",
    "\n",
    "1. Loading of dataset\n",
    "2. Splitting of dataset to training and testing data (test_size = 20% of the whole dataset)\n",
    "3. Building of a self-designed Logistic Regression model (Complete the TODO parts provided below)\n",
    "4. Plotting of the confusion matrix. (Label 0 as positive)\n",
    "5. Computing the F1-score of this confusion matrix. The F1-score should be at least 0.75\n",
    "\n",
    "先說結論：我真的不知道怎麼樣用到0.75QQQ"
   ]
  },
  {
   "cell_type": "code",
   "execution_count": 1,
   "id": "a6d43d3b",
   "metadata": {},
   "outputs": [],
   "source": [
    "# inline plotting instead of popping out\n",
    "%matplotlib inline\n",
    "import matplotlib\n",
    "matplotlib.rcParams.update({'font.size': 22})\n",
    "plt = matplotlib.pyplot\n",
    "\n",
    "import os\n",
    "import numpy as np\n",
    "import pandas as pd\n",
    "\n",
    "from IPython.display import Image\n",
    "from IPython.display import display\n",
    "\n",
    "from numpy.linalg import norm\n",
    "from scipy import interp\n",
    "from sklearn.linear_model import LinearRegression\n",
    "from sklearn.metrics import auc, confusion_matrix, f1_score, precision_score, recall_score, roc_curve\n",
    "from sklearn.model_selection import train_test_split\n",
    "from sklearn.preprocessing import StandardScaler\n",
    "from cycler import cycler\n",
    "from sklearn.tree import DecisionTreeClassifier\n",
    "from sklearn.ensemble import RandomForestClassifier\n",
    "from sklearn.metrics import accuracy_score\n",
    "\n",
    "from lib import *\n",
    "if not os.path.exists(\"output_HW/\") : os.mkdir(\"output_HW/\")"
   ]
  },
  {
   "cell_type": "markdown",
   "id": "2de68830",
   "metadata": {},
   "source": [
    "## Loading of dataset"
   ]
  },
  {
   "cell_type": "code",
   "execution_count": 2,
   "id": "ccef4a88",
   "metadata": {},
   "outputs": [
    {
     "data": {
      "text/html": [
       "<div>\n",
       "<style scoped>\n",
       "    .dataframe tbody tr th:only-of-type {\n",
       "        vertical-align: middle;\n",
       "    }\n",
       "\n",
       "    .dataframe tbody tr th {\n",
       "        vertical-align: top;\n",
       "    }\n",
       "\n",
       "    .dataframe thead th {\n",
       "        text-align: right;\n",
       "    }\n",
       "</style>\n",
       "<table border=\"1\" class=\"dataframe\">\n",
       "  <thead>\n",
       "    <tr style=\"text-align: right;\">\n",
       "      <th></th>\n",
       "      <th>0</th>\n",
       "      <th>1</th>\n",
       "      <th>2</th>\n",
       "      <th>3</th>\n",
       "      <th>4</th>\n",
       "      <th>5</th>\n",
       "      <th>6</th>\n",
       "      <th>7</th>\n",
       "      <th>8</th>\n",
       "      <th>9</th>\n",
       "      <th>...</th>\n",
       "      <th>270</th>\n",
       "      <th>271</th>\n",
       "      <th>272</th>\n",
       "      <th>273</th>\n",
       "      <th>274</th>\n",
       "      <th>275</th>\n",
       "      <th>276</th>\n",
       "      <th>277</th>\n",
       "      <th>278</th>\n",
       "      <th>279</th>\n",
       "    </tr>\n",
       "  </thead>\n",
       "  <tbody>\n",
       "    <tr>\n",
       "      <th>0</th>\n",
       "      <td>75</td>\n",
       "      <td>0</td>\n",
       "      <td>190</td>\n",
       "      <td>80</td>\n",
       "      <td>91</td>\n",
       "      <td>193</td>\n",
       "      <td>371</td>\n",
       "      <td>174</td>\n",
       "      <td>121</td>\n",
       "      <td>-16</td>\n",
       "      <td>...</td>\n",
       "      <td>0.0</td>\n",
       "      <td>9.0</td>\n",
       "      <td>-0.9</td>\n",
       "      <td>0.0</td>\n",
       "      <td>0.0</td>\n",
       "      <td>0.9</td>\n",
       "      <td>2.9</td>\n",
       "      <td>23.3</td>\n",
       "      <td>49.4</td>\n",
       "      <td>8</td>\n",
       "    </tr>\n",
       "    <tr>\n",
       "      <th>1</th>\n",
       "      <td>56</td>\n",
       "      <td>1</td>\n",
       "      <td>165</td>\n",
       "      <td>64</td>\n",
       "      <td>81</td>\n",
       "      <td>174</td>\n",
       "      <td>401</td>\n",
       "      <td>149</td>\n",
       "      <td>39</td>\n",
       "      <td>25</td>\n",
       "      <td>...</td>\n",
       "      <td>0.0</td>\n",
       "      <td>8.5</td>\n",
       "      <td>0.0</td>\n",
       "      <td>0.0</td>\n",
       "      <td>0.0</td>\n",
       "      <td>0.2</td>\n",
       "      <td>2.1</td>\n",
       "      <td>20.4</td>\n",
       "      <td>38.8</td>\n",
       "      <td>6</td>\n",
       "    </tr>\n",
       "    <tr>\n",
       "      <th>2</th>\n",
       "      <td>54</td>\n",
       "      <td>0</td>\n",
       "      <td>172</td>\n",
       "      <td>95</td>\n",
       "      <td>138</td>\n",
       "      <td>163</td>\n",
       "      <td>386</td>\n",
       "      <td>185</td>\n",
       "      <td>102</td>\n",
       "      <td>96</td>\n",
       "      <td>...</td>\n",
       "      <td>0.0</td>\n",
       "      <td>9.5</td>\n",
       "      <td>-2.4</td>\n",
       "      <td>0.0</td>\n",
       "      <td>0.0</td>\n",
       "      <td>0.3</td>\n",
       "      <td>3.4</td>\n",
       "      <td>12.3</td>\n",
       "      <td>49.0</td>\n",
       "      <td>10</td>\n",
       "    </tr>\n",
       "  </tbody>\n",
       "</table>\n",
       "<p>3 rows × 280 columns</p>\n",
       "</div>"
      ],
      "text/plain": [
       "   0    1    2    3    4    5    6    7    8    9    ...  270  271  272  273  \\\n",
       "0   75    0  190   80   91  193  371  174  121  -16  ...  0.0  9.0 -0.9  0.0   \n",
       "1   56    1  165   64   81  174  401  149   39   25  ...  0.0  8.5  0.0  0.0   \n",
       "2   54    0  172   95  138  163  386  185  102   96  ...  0.0  9.5 -2.4  0.0   \n",
       "\n",
       "   274  275  276   277   278  279  \n",
       "0  0.0  0.9  2.9  23.3  49.4    8  \n",
       "1  0.0  0.2  2.1  20.4  38.8    6  \n",
       "2  0.0  0.3  3.4  12.3  49.0   10  \n",
       "\n",
       "[3 rows x 280 columns]"
      ]
     },
     "metadata": {},
     "output_type": "display_data"
    }
   ],
   "source": [
    "#load the data\n",
    "data = pd.read_csv('http://archive.ics.uci.edu/ml/machine-learning-databases/'\n",
    "                   'arrhythmia/arrhythmia.data', header=None, sep=',', engine='python')\n",
    "\n",
    "display(data.head(3))"
   ]
  },
  {
   "cell_type": "markdown",
   "id": "cf3ce6bb",
   "metadata": {},
   "source": [
    "How big is the dataset?"
   ]
  },
  {
   "cell_type": "code",
   "execution_count": 3,
   "id": "580dbe2f",
   "metadata": {},
   "outputs": [
    {
     "name": "stdout",
     "output_type": "stream",
     "text": [
      "452 rows and 280 columns\n"
     ]
    }
   ],
   "source": [
    "print('%d rows and %d columns' % (data.shape[0],data.shape[1]))"
   ]
  },
  {
   "cell_type": "markdown",
   "id": "b3a37410",
   "metadata": {},
   "source": [
    "The last column of the dataset is the class label. It contains the 16 ECG classifications:"
   ]
  },
  {
   "cell_type": "code",
   "execution_count": 4,
   "id": "d3f79171",
   "metadata": {},
   "outputs": [
    {
     "data": {
      "text/plain": [
       "array([ 1,  2,  3,  4,  5,  6,  7,  8,  9, 10, 14, 15, 16], dtype=int64)"
      ]
     },
     "execution_count": 4,
     "metadata": {},
     "output_type": "execute_result"
    }
   ],
   "source": [
    "np.unique(data[len(data.columns)-1])"
   ]
  },
  {
   "cell_type": "markdown",
   "id": "4ce85d2f",
   "metadata": {},
   "source": [
    "Let's make that column (class label) dichotomous.\n",
    "Value is 0 if ECG is normal, 1 otherwise"
   ]
  },
  {
   "cell_type": "code",
   "execution_count": 5,
   "id": "bd7c4d5a",
   "metadata": {},
   "outputs": [],
   "source": [
    "data['arrhythmia'] = data[len(data.columns)-1].map(lambda x: 0 if x==1 else 1)\n",
    "data = data.drop(len(data.columns)-2, axis=1)"
   ]
  },
  {
   "cell_type": "markdown",
   "id": "990c2793",
   "metadata": {},
   "source": [
    "Are the groups balanced?"
   ]
  },
  {
   "cell_type": "code",
   "execution_count": 6,
   "id": "13b3dea3",
   "metadata": {},
   "outputs": [
    {
     "data": {
      "text/plain": [
       "arrhythmia\n",
       "0    245\n",
       "1    207\n",
       "dtype: int64"
      ]
     },
     "execution_count": 6,
     "metadata": {},
     "output_type": "execute_result"
    }
   ],
   "source": [
    "data.groupby(['arrhythmia']).size()"
   ]
  },
  {
   "cell_type": "markdown",
   "id": "ea054785",
   "metadata": {},
   "source": [
    "Some columns have missing values denoted as '?'\n",
    "To make the preprocessing simpler, let's just retain the columns with numeric values."
   ]
  },
  {
   "cell_type": "code",
   "execution_count": 7,
   "id": "ec8026b4",
   "metadata": {},
   "outputs": [
    {
     "name": "stdout",
     "output_type": "stream",
     "text": [
      "452 rows and 275 columns\n"
     ]
    }
   ],
   "source": [
    "data = data._get_numeric_data()\n",
    "print('%d rows and %d columns' % (data.shape[0],data.shape[1]))"
   ]
  },
  {
   "cell_type": "code",
   "execution_count": 8,
   "id": "ece751b9",
   "metadata": {},
   "outputs": [
    {
     "data": {
      "text/html": [
       "<div>\n",
       "<style scoped>\n",
       "    .dataframe tbody tr th:only-of-type {\n",
       "        vertical-align: middle;\n",
       "    }\n",
       "\n",
       "    .dataframe tbody tr th {\n",
       "        vertical-align: top;\n",
       "    }\n",
       "\n",
       "    .dataframe thead th {\n",
       "        text-align: right;\n",
       "    }\n",
       "</style>\n",
       "<table border=\"1\" class=\"dataframe\">\n",
       "  <thead>\n",
       "    <tr style=\"text-align: right;\">\n",
       "      <th></th>\n",
       "      <th>0</th>\n",
       "      <th>1</th>\n",
       "      <th>2</th>\n",
       "      <th>3</th>\n",
       "      <th>4</th>\n",
       "      <th>5</th>\n",
       "      <th>6</th>\n",
       "      <th>7</th>\n",
       "      <th>8</th>\n",
       "      <th>9</th>\n",
       "      <th>...</th>\n",
       "      <th>270</th>\n",
       "      <th>271</th>\n",
       "      <th>272</th>\n",
       "      <th>273</th>\n",
       "      <th>274</th>\n",
       "      <th>275</th>\n",
       "      <th>276</th>\n",
       "      <th>277</th>\n",
       "      <th>278</th>\n",
       "      <th>arrhythmia</th>\n",
       "    </tr>\n",
       "  </thead>\n",
       "  <tbody>\n",
       "    <tr>\n",
       "      <th>0</th>\n",
       "      <td>75</td>\n",
       "      <td>0</td>\n",
       "      <td>190</td>\n",
       "      <td>80</td>\n",
       "      <td>91</td>\n",
       "      <td>193</td>\n",
       "      <td>371</td>\n",
       "      <td>174</td>\n",
       "      <td>121</td>\n",
       "      <td>-16</td>\n",
       "      <td>...</td>\n",
       "      <td>0.0</td>\n",
       "      <td>9.0</td>\n",
       "      <td>-0.9</td>\n",
       "      <td>0.0</td>\n",
       "      <td>0.0</td>\n",
       "      <td>0.9</td>\n",
       "      <td>2.9</td>\n",
       "      <td>23.3</td>\n",
       "      <td>49.4</td>\n",
       "      <td>1</td>\n",
       "    </tr>\n",
       "    <tr>\n",
       "      <th>1</th>\n",
       "      <td>56</td>\n",
       "      <td>1</td>\n",
       "      <td>165</td>\n",
       "      <td>64</td>\n",
       "      <td>81</td>\n",
       "      <td>174</td>\n",
       "      <td>401</td>\n",
       "      <td>149</td>\n",
       "      <td>39</td>\n",
       "      <td>25</td>\n",
       "      <td>...</td>\n",
       "      <td>0.0</td>\n",
       "      <td>8.5</td>\n",
       "      <td>0.0</td>\n",
       "      <td>0.0</td>\n",
       "      <td>0.0</td>\n",
       "      <td>0.2</td>\n",
       "      <td>2.1</td>\n",
       "      <td>20.4</td>\n",
       "      <td>38.8</td>\n",
       "      <td>1</td>\n",
       "    </tr>\n",
       "    <tr>\n",
       "      <th>2</th>\n",
       "      <td>54</td>\n",
       "      <td>0</td>\n",
       "      <td>172</td>\n",
       "      <td>95</td>\n",
       "      <td>138</td>\n",
       "      <td>163</td>\n",
       "      <td>386</td>\n",
       "      <td>185</td>\n",
       "      <td>102</td>\n",
       "      <td>96</td>\n",
       "      <td>...</td>\n",
       "      <td>0.0</td>\n",
       "      <td>9.5</td>\n",
       "      <td>-2.4</td>\n",
       "      <td>0.0</td>\n",
       "      <td>0.0</td>\n",
       "      <td>0.3</td>\n",
       "      <td>3.4</td>\n",
       "      <td>12.3</td>\n",
       "      <td>49.0</td>\n",
       "      <td>1</td>\n",
       "    </tr>\n",
       "  </tbody>\n",
       "</table>\n",
       "<p>3 rows × 275 columns</p>\n",
       "</div>"
      ],
      "text/plain": [
       "    0  1    2   3    4    5    6    7    8   9  ...  270  271  272  273  274  \\\n",
       "0  75  0  190  80   91  193  371  174  121 -16  ...  0.0  9.0 -0.9  0.0  0.0   \n",
       "1  56  1  165  64   81  174  401  149   39  25  ...  0.0  8.5  0.0  0.0  0.0   \n",
       "2  54  0  172  95  138  163  386  185  102  96  ...  0.0  9.5 -2.4  0.0  0.0   \n",
       "\n",
       "   275  276   277   278  arrhythmia  \n",
       "0  0.9  2.9  23.3  49.4           1  \n",
       "1  0.2  2.1  20.4  38.8           1  \n",
       "2  0.3  3.4  12.3  49.0           1  \n",
       "\n",
       "[3 rows x 275 columns]"
      ]
     },
     "execution_count": 8,
     "metadata": {},
     "output_type": "execute_result"
    }
   ],
   "source": [
    "data.head(3)"
   ]
  },
  {
   "cell_type": "code",
   "execution_count": 9,
   "id": "58c44b1c",
   "metadata": {},
   "outputs": [
    {
     "name": "stdout",
     "output_type": "stream",
     "text": [
      "[0 1]\n",
      "(452, 274)\n"
     ]
    }
   ],
   "source": [
    "X = data.iloc[:, :-1]  # The first to second-last columns are the features\n",
    "y = data.iloc[:, -1]   # The last column is the ground-truth label\n",
    "print(np.unique(y))\n",
    "print(X.shape)"
   ]
  },
  {
   "cell_type": "code",
   "execution_count": 10,
   "id": "d1d3de4a",
   "metadata": {},
   "outputs": [],
   "source": [
    "# splitting the dataset to training and validation datasets\n",
    "X_train, X_test, y_train, y_test = train_test_split(X, y, test_size=0.2, random_state=20211018)"
   ]
  },
  {
   "cell_type": "code",
   "execution_count": 11,
   "id": "4a32b710",
   "metadata": {},
   "outputs": [],
   "source": [
    "# Standardizing the training and test datasets\n",
    "# Note that we are scaling based on the information from the training data\n",
    "# Then we apply the scaling that is done from training data to the test data\n",
    "sc = StandardScaler()\n",
    "sc.fit(X_train)\n",
    "X_train_std = sc.transform(X_train)\n",
    "X_test_std = sc.transform(X_test)"
   ]
  },
  {
   "cell_type": "markdown",
   "id": "be14680f",
   "metadata": {},
   "source": [
    "## Building of a self-designed Logistic Regression model "
   ]
  },
  {
   "cell_type": "markdown",
   "id": "3f9eff87",
   "metadata": {},
   "source": [
    "cost function: $\\log P(\\mathbf{y}|\\mathbf{x};\\mathbf{w})=\\mathbf{y}\\cdot\\sigma(\\mathbf{w^⊤x})+(1−\\mathbf{y})\\cdot[1−\\sigma(\\mathbf{w^⊤x})]-\\alpha||\\mathbf{w}||$\n",
    "\n",
    "以下的code有部分參考大三修機器學習導論(電機系)時的作業與上課講義"
   ]
  },
  {
   "cell_type": "code",
   "execution_count": 12,
   "id": "044f203b",
   "metadata": {},
   "outputs": [],
   "source": [
    "class LogisticRegression(object):\n",
    "\n",
    "    def __init__(self, eta=0.05, n_epoch=100, random_state=1, alpha=0):\n",
    "        self.eta = eta\n",
    "        self.n_epoch = n_epoch\n",
    "        self.random_state = random_state\n",
    "        self.alpha = alpha #不想處理0的問題所以用alpha\n",
    "    \n",
    "    def fit(self, X, y):\n",
    "        rgen = np.random.RandomState(self.random_state)\n",
    "        self.w_ = rgen.normal(loc=0.0, scale=0.01, size=1 + X.shape[1])\n",
    "        self.cost_ = []\n",
    "\n",
    "        for i in range(self.n_epoch):\n",
    "            net_input = self.net_input(X)\n",
    "            output = self.activation(net_input)\n",
    "            errors = (y - output)\n",
    "            self.w_[1:] += self.eta * X.T.dot(errors)\n",
    "            self.w_[0] += self.eta * errors.sum()\n",
    "            cost = self.loss(output, y)-self.alpha*norm(self.w_)**2\n",
    "            self.cost_.append(cost)\n",
    "        return self\n",
    "    \n",
    "    def net_input(self, X):\n",
    "        \"\"\"Calculate net input\"\"\"\n",
    "        return np.dot(X, self.w_[1:]) + self.w_[0]\n",
    "\n",
    "    def loss(self, output, y): # TODO\n",
    "        \"\"\"Calculate loss\"\"\"\n",
    "        return -y.dot(np.log(output))-((1-y).dot(np.log(1-output)))\n",
    "    \n",
    "    def activation(self, z): # TODO\n",
    "        \"\"\"Compute logistic sigmoid activation\"\"\"\n",
    "        # To avoid the error message \"RuntimeWarning: overflow encountered\", use np.clip\n",
    "        return 1. / (1. + np.exp(-np.clip(z, -20, 20))) # boundary=20 is enough\n",
    "\n",
    "    def predict(self, X): # TODO\n",
    "        \"\"\"Return class label after unit step\"\"\"\n",
    "        return np.where(self.net_input(X) >= 0.5, 1, 0) \n",
    "        # The logistic function takes real number values as input and transforms \n",
    "        # them to values in the range [0,1] with an intercept at σ(z)=0.5 ."
   ]
  },
  {
   "cell_type": "markdown",
   "id": "ffebfc82",
   "metadata": {},
   "source": [
    "## Model training\n",
    "\n",
    "首先，我先用Lab3的方法找出最重要的特徵"
   ]
  },
  {
   "cell_type": "code",
   "execution_count": 13,
   "id": "c611ceb7",
   "metadata": {},
   "outputs": [
    {
     "name": "stdout",
     "output_type": "stream",
     "text": [
      "Accuracy: 0.80\n"
     ]
    }
   ],
   "source": [
    "# Train a RandomForestClassifier as model \n",
    "forest = RandomForestClassifier(criterion='entropy',\n",
    "                                n_estimators=200, \n",
    "                                random_state=1,\n",
    "                                n_jobs=2)\n",
    "forest.fit(X_train, y_train)\n",
    "\n",
    "y_pred = forest.predict(X_test)\n",
    "print('Accuracy: %.2f' % accuracy_score(y_test, y_pred))"
   ]
  },
  {
   "cell_type": "markdown",
   "id": "410146a3",
   "metadata": {},
   "source": [
    "繪圖來看看特徵經過排序後重要性分布的情形。由圖，我選擇0.001作為threshold，未超過之的特徵予以捨棄。"
   ]
  },
  {
   "cell_type": "code",
   "execution_count": 14,
   "id": "f62bac12",
   "metadata": {},
   "outputs": [
    {
     "data": {
      "image/png": "[encoded data removed]",
      "text/plain": [
       "<Figure size 432x288 with 1 Axes>"
      ]
     },
     "metadata": {
      "needs_background": "light"
     },
     "output_type": "display_data"
    }
   ],
   "source": [
    "importances = forest.feature_importances_\n",
    "# get sort indices in descending order\n",
    "indices = np.argsort(importances)[::-1]\n",
    "\n",
    "plt.figure()\n",
    "plt.title('Feature Importances')\n",
    "plt.bar(range(X_train.shape[1]),\n",
    "        importances[indices],\n",
    "        align='center',\n",
    "        alpha=0.5)\n",
    "\n",
    "plt.tight_layout()\n",
    "plt.savefig('./output_HW/fig-forest-feature-importances.png', dpi=300)\n",
    "plt.show()"
   ]
  },
  {
   "cell_type": "markdown",
   "id": "a61dbfbf",
   "metadata": {},
   "source": [
    "捨棄不要的特徵。"
   ]
  },
  {
   "cell_type": "code",
   "execution_count": 15,
   "id": "3e11c85e",
   "metadata": {},
   "outputs": [],
   "source": [
    "from sklearn.feature_selection import SelectFromModel\n",
    "feat_labels = data.columns[:278]\n",
    "sfm = SelectFromModel(forest, threshold=0.001, prefit=True) #根據上個block計算，重要度超過門檻值才選入模型中\n",
    "X_selected = sfm.transform(X_train_std) # new X_train\n",
    "X_selected_test = sfm.transform(X_test_std) # new X_test"
   ]
  },
  {
   "cell_type": "markdown",
   "id": "f9d46ba9",
   "metadata": {},
   "source": [
    "然後手刻一個GridSearch，因為我們是土炮的邏輯斯回歸，沒辦法用scikit-learn提供的pipeline class。"
   ]
  },
  {
   "cell_type": "code",
   "execution_count": 16,
   "id": "fe083845",
   "metadata": {},
   "outputs": [],
   "source": [
    "pairs = []\n",
    "param_range = [0.0001, 0.001, 0.01, 0.1, 1.0, 10.0, 100.0, 1000.0] \n",
    "param_range2 = [0.0001, 0.001, 0.01, 0.1, 1.0, 10.0, 100.0, 1000.0] \n",
    "for alpha in param_range:\n",
    "    for eta in param_range2:\n",
    "        X_train2, X_val, y_train2, y_val = train_test_split(X_selected, y_train, test_size=0.2, random_state=42)\n",
    "        lr = LogisticRegression(eta=eta, n_epoch=300, random_state=0, alpha=alpha)\n",
    "        lr.fit(X_train2, y_train2)\n",
    "        y_pred = lr.predict(X_val)\n",
    "        pairs.append((f1_score(y_true=y_val, y_pred=y_pred), (eta, alpha)))"
   ]
  },
  {
   "cell_type": "markdown",
   "id": "b977a110",
   "metadata": {},
   "source": [
    "列出表現最好的模型參數。"
   ]
  },
  {
   "cell_type": "code",
   "execution_count": 17,
   "id": "d94f1cba",
   "metadata": {},
   "outputs": [
    {
     "data": {
      "text/plain": [
       "[(0.6538461538461537, (0.0001, 1000.0)),\n",
       " (0.6538461538461537, (0.0001, 100.0)),\n",
       " (0.6538461538461537, (0.0001, 10.0)),\n",
       " (0.6538461538461537, (0.0001, 1.0)),\n",
       " (0.6538461538461537, (0.0001, 0.1)),\n",
       " (0.6538461538461537, (0.0001, 0.01)),\n",
       " (0.6538461538461537, (0.0001, 0.001)),\n",
       " (0.6538461538461537, (0.0001, 0.0001)),\n",
       " (0.6268656716417911, (100.0, 1000.0)),\n",
       " (0.6268656716417911, (100.0, 100.0))]"
      ]
     },
     "execution_count": 17,
     "metadata": {},
     "output_type": "execute_result"
    }
   ],
   "source": [
    "sorted(pairs)[::-1][:10]"
   ]
  },
  {
   "cell_type": "markdown",
   "id": "89d32586",
   "metadata": {},
   "source": [
    "可見$\\alpha$值對模型的表現沒有甚麼影響。就選一個順眼的數字。"
   ]
  },
  {
   "cell_type": "code",
   "execution_count": 18,
   "id": "73b0b601",
   "metadata": {},
   "outputs": [],
   "source": [
    "lr = LogisticRegression(eta=0.0001, n_epoch=1000, random_state=1, alpha=1)\n",
    "lr.fit(X_selected, y_train)\n",
    "y_pred = lr.predict(X_selected_test)"
   ]
  },
  {
   "cell_type": "markdown",
   "id": "c8ea7db1",
   "metadata": {},
   "source": [
    "## Plotting of the confusion matrix."
   ]
  },
  {
   "cell_type": "code",
   "execution_count": 19,
   "id": "3d8d5c34",
   "metadata": {},
   "outputs": [
    {
     "data": {
      "image/png": "[encoded data removed]",
      "text/plain": [
       "<Figure size 288x288 with 1 Axes>"
      ]
     },
     "metadata": {
      "needs_background": "light"
     },
     "output_type": "display_data"
    }
   ],
   "source": [
    "confmat = confusion_matrix(y_true=y_test, y_pred=y_pred)\n",
    "fig, ax = plt.subplots(figsize=(4,4))\n",
    "ax.matshow(confmat, cmap=plt.cm.Blues, alpha=0.3)\n",
    "for i in range(confmat.shape[0]):\n",
    "    for j in range(confmat.shape[1]):\n",
    "        ax.text(x=j, y=i, s=confmat[i, j], va='center', ha='center')\n",
    "\n",
    "plt.xlabel('Predicted label')\n",
    "plt.ylabel('True label')\n",
    "\n",
    "plt.tight_layout()\n",
    "plt.savefig('./output/fig-logistic-regression-confusion-2.png', dpi=300)\n",
    "for item in ([ax.title, ax.xaxis.label, ax.yaxis.label] +\n",
    "             ax.get_xticklabels() + ax.get_yticklabels()):\n",
    "    item.set_fontsize(20)\n",
    "for item in (ax.get_xticklabels() + ax.get_yticklabels()):\n",
    "    item.set_fontsize(15)\n",
    "plt.show()"
   ]
  },
  {
   "cell_type": "markdown",
   "id": "a280e14b",
   "metadata": {},
   "source": [
    "## Computing the F1-score"
   ]
  },
  {
   "cell_type": "code",
   "execution_count": 20,
   "id": "5ff70b06",
   "metadata": {},
   "outputs": [
    {
     "name": "stdout",
     "output_type": "stream",
     "text": [
      "F1-score: 0.72\n"
     ]
    }
   ],
   "source": [
    "print('F1-score: %.2f' % f1_score(y_true=y_test, y_pred=y_pred))"
   ]
  }
 ],
 "metadata": {
  "kernelspec": {
   "display_name": "Python 3 (ipykernel)",
   "language": "python",
   "name": "python3"
  },
  "language_info": {
   "codemirror_mode": {
    "name": "ipython",
    "version": 3
   },
   "file_extension": ".py",
   "mimetype": "text/x-python",
   "name": "python",
   "nbconvert_exporter": "python",
   "pygments_lexer": "ipython3",
   "version": "3.8.11"
  }
 },
 "nbformat": 4,
 "nbformat_minor": 5
}
