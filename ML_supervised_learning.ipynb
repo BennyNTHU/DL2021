{
 "cells": [
  {
   "cell_type": "markdown",
   "id": "6839c51f",
   "metadata": {},
   "source": [
    "## Abstract"
   ]
  },
  {
   "cell_type": "markdown",
   "id": "7ab9662b",
   "metadata": {},
   "source": [
    "一般而言，機器學習可以分成三個種類\n",
    "1. 監督式學習：資料集會長得像$(X_i,y_i)$，例如常見的分類(classification)以及回歸(regression)問題\n",
    "2. 半監督式學習：例如強化學習(reinforcement learning)\n",
    "3. 非監督式學習：例如群集分析(clustering)以及GAN。\n",
    "\n",
    "本notebook將會介紹在不使用神經網路的情形下，進行監督式學習的流程。可視為電機系\"機器學習導論\"一課前2/3的回顧。當然使用神經網路的話流程是一樣的，只是實作會有所不同。傳統機器學習的方法常用scikit-learn這個package，而深度學習多使用tensorflow或pytorch。\n",
    "\n",
    "根據維基百科的記載[1]，監督式學習可分為六大步驟：\n",
    "1. Determine the type of training examples: 就是定義問題以及決定input和output。這部分通常在做作業時不會遇到，做project或寫論文時才需要考慮。\n",
    "2. Gather a training set: 也就是蒐集data，因為通常dataset都是人家幫我們搜好的，我們就負責探索這個dataset是什麼，裡面有什麼就好。具體而言，就是import進dataset，在python上我們常用pandas，或是tensorflow內建的功能。然而若dataset很大可能就要自己寫code了。然後如果dataset沒有人幫你清過，記得要先清乾淨。總不會想看到一推NaN或Null吧。\n",
    "3. Determine the input feature representation of the learned function: 就是常說的\"特徵工程\"。對原始data進行處理後得到的新data稱為feature。feature取得好不好直接影響到你的結果。\n",
    "4. Determine the structure of the learned function and corresponding learning algorithm: 也就是挑演算法，架設神經網路\n",
    "5. Complete the design: 開始train以及進行超參數調教(hyperparameter)\n",
    "6. Evaluate the accuracy of the learned function: 將訓練好的model拿去對testing set進行預測，看表現如何。\n",
    "\n",
    "接著，通常會回到3，並重複進行3~6，直到達到我們想要的結果為止。"
   ]
  },
  {
   "cell_type": "markdown",
   "id": "a11775cc",
   "metadata": {},
   "source": [
    "## Gather a training set"
   ]
  },
  {
   "cell_type": "markdown",
   "id": "58bf0f40",
   "metadata": {},
   "source": [
    "## Determine the input feature representation of the learned function"
   ]
  },
  {
   "cell_type": "markdown",
   "id": "8b19e049",
   "metadata": {},
   "source": [
    "## Determine the structure of the learned function and corresponding learning algorithm"
   ]
  },
  {
   "cell_type": "markdown",
   "id": "2e8b2772",
   "metadata": {},
   "source": [
    "## Complete the design"
   ]
  },
  {
   "cell_type": "markdown",
   "id": "33f52b27",
   "metadata": {},
   "source": [
    "## Evaluate the accuracy of the learned function"
   ]
  },
  {
   "cell_type": "markdown",
   "id": "944d3126",
   "metadata": {},
   "source": [
    "## Reference"
   ]
  },
  {
   "cell_type": "markdown",
   "id": "861b0740",
   "metadata": {},
   "source": [
    "[1] https://en.wikipedia.org/wiki/Supervised_learning"
   ]
  }
 ],
 "metadata": {
  "kernelspec": {
   "display_name": "Python 3 (ipykernel)",
   "language": "python",
   "name": "python3"
  },
  "language_info": {
   "codemirror_mode": {
    "name": "ipython",
    "version": 3
   },
   "file_extension": ".py",
   "mimetype": "text/x-python",
   "name": "python",
   "nbconvert_exporter": "python",
   "pygments_lexer": "ipython3",
   "version": "3.8.11"
  }
 },
 "nbformat": 4,
 "nbformat_minor": 5
}
