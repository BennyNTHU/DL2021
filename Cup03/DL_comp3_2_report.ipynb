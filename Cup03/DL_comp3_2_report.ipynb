{
 "cells": [
  {
   "cell_type": "markdown",
   "id": "a96716ef",
   "metadata": {},
   "source": [
    "## Pick 5 descriptions from testing data and generate 5 images with different noise  z  respectively."
   ]
  },
  {
   "cell_type": "markdown",
   "id": "4d1b8baf",
   "metadata": {},
   "source": [
    "1. this white and purple flower has fragile petals and soft stamens \n",
    "2. this flower has four large wide pink petals with white centers and vein like markings \n",
    "3. a flower with broad white and pink ribbed petals and yellow stamen \n",
    "4. one prominet pistil with alarger stigam and many stamens with anthers \n",
    "5. leaves are green in color petals are light pink in color "
   ]
  },
  {
   "cell_type": "markdown",
   "id": "839ebca2",
   "metadata": {},
   "source": [
    "![image](./report.png)"
   ]
  },
  {
   "cell_type": "markdown",
   "id": "da957612",
   "metadata": {},
   "source": [
    "## Models you tried during competition. Briefly describe the main idea of the model and the reason you chose that model."
   ]
  },
  {
   "cell_type": "markdown",
   "id": "c2606be5",
   "metadata": {},
   "source": [
    "### Text encoder\n",
    "我們使用的是tensorflow 提供的 roberta-large 來當作pretrained model，並預先算出所有caption的embedding，我們沒有將text encoder一起加入訓練，因為那樣太佔memory了，雖然可能一起訓練會好很多，但資源無法讓我們一起訓練"
   ]
  },
  {
   "cell_type": "markdown",
   "id": "a52b1d2b",
   "metadata": {},
   "source": [
    "### Gan\n",
    "這邊我們使用的是與lab相同的 improved w-gan..."
   ]
  },
  {
   "cell_type": "markdown",
   "id": "bf86dae1",
   "metadata": {},
   "source": [
    "## List the experiment you did. For example, data augmentation, hyper-parameters tuning, architecture tuning, optimizer tuning, and so on."
   ]
  },
  {
   "cell_type": "markdown",
   "id": "b35bc825",
   "metadata": {},
   "source": [
    "* data augmentation\n",
    "    * 因為我們認為花的照片水平翻轉應該也不影響觀看，以及不會改變其特性，所以我們有做水平翻轉\n",
    "    * 隨機調整亮度!\n",
    "   "
   ]
  },
  {
   "cell_type": "markdown",
   "id": "fb6d5a0c",
   "metadata": {},
   "source": []
  },
  {
   "cell_type": "markdown",
   "id": "e1adc2ad",
   "metadata": {},
   "source": []
  },
  {
   "cell_type": "markdown",
   "id": "ec584ef9",
   "metadata": {},
   "source": []
  },
  {
   "cell_type": "markdown",
   "id": "f5afa6a6",
   "metadata": {},
   "source": []
  }
 ],
 "metadata": {
  "kernelspec": {
   "display_name": "Python 3",
   "language": "python",
   "name": "python3"
  },
  "language_info": {
   "codemirror_mode": {
    "name": "ipython",
    "version": 3
   },
   "file_extension": ".py",
   "mimetype": "text/x-python",
   "name": "python",
   "nbconvert_exporter": "python",
   "pygments_lexer": "ipython3",
   "version": "3.8.7"
  }
 },
 "nbformat": 4,
 "nbformat_minor": 5
}
