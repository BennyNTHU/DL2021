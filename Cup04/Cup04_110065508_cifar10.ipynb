{
 "cells": [
  {
   "cell_type": "markdown",
   "id": "a30b29cf",
   "metadata": {},
   "source": [
    "# Cup04: Unlearnable Dataset\n",
    "110065508 李丞恩"
   ]
  },
  {
   "cell_type": "code",
   "execution_count": 1,
   "id": "354b1014",
   "metadata": {},
   "outputs": [],
   "source": [
    "INPUT_SHAPE = (32, 32, 3)\n",
    "BATCH_SIZE = 64 \n",
    "EPOCHS = 100\n",
    "EPOCH_DENOISE = 20\n",
    "PATIENCE = 10 # 如果過多少個EPOCHS沒改善就停止訓練\n",
    "CATGORICAL = 10\n",
    "LR = 0.001\n",
    "LR_FACTOR = 0.5 # new_lr = lr * factor.\n",
    "LR_PATIENCE = 4 # umber of epochs with no improvement after which learning rate will be reduced\n",
    "MODEL_NAME = 'ResNet50_cup04_cifar10'\n",
    "MODEL_PATH = './model/' + MODEL_NAME + '.hdf5'"
   ]
  },
  {
   "cell_type": "code",
   "execution_count": 2,
   "id": "a3c05d7e",
   "metadata": {},
   "outputs": [],
   "source": [
    "from __future__ import absolute_import, division, print_function, unicode_literals\n",
    "\n",
    "import os\n",
    "import re\n",
    "import PIL\n",
    "import time\n",
    "import random\n",
    "import string\n",
    "import datetime\n",
    "import numpy as np\n",
    "import pandas as pd\n",
    "import tensorflow as tf\n",
    "import matplotlib.pyplot as plt\n",
    "\n",
    "from pathlib import Path\n",
    "from IPython import display\n",
    "from tqdm.notebook import tqdm\n",
    "from sklearn.metrics import accuracy_score\n",
    "from sklearn.model_selection import learning_curve\n",
    "\n",
    "from tensorflow import keras\n",
    "from tensorflow.keras import layers\n",
    "from tensorflow.keras.optimizers import Adam \n",
    "from tensorflow.keras.models import Model, Sequential\n",
    "from tensorflow.keras.applications.resnet50 import ResNet50\n",
    "from tensorflow.keras.layers import Dropout, Flatten, Dense\n",
    "from tensorflow.keras.losses import SparseCategoricalCrossentropy\n",
    "from tensorflow.keras.callbacks import ModelCheckpoint, LearningRateScheduler, EarlyStopping, ReduceLROnPlateau"
   ]
  },
  {
   "cell_type": "code",
   "execution_count": 3,
   "id": "1313bc96",
   "metadata": {},
   "outputs": [
    {
     "name": "stdout",
     "output_type": "stream",
     "text": [
      "1 Physical GPUs, 1 Logical GPUs\n"
     ]
    }
   ],
   "source": [
    "gpus = tf.config.experimental.list_physical_devices('GPU')\n",
    "if gpus:\n",
    "    try:\n",
    "        # Restrict TensorFlow to only use the first GPU\n",
    "        tf.config.experimental.set_visible_devices(gpus[0], 'GPU')\n",
    "\n",
    "        # Currently, memory growth needs to be the same across GPUs\n",
    "        for gpu in gpus:\n",
    "            tf.config.experimental.set_memory_growth(gpu, True)\n",
    "        logical_gpus = tf.config.experimental.list_logical_devices('GPU')\n",
    "        print(len(gpus), \"Physical GPUs,\", len(logical_gpus), \"Logical GPUs\")\n",
    "    except RuntimeError as e:\n",
    "        # Memory growth must be set before GPUs have been initialized\n",
    "        print(e)"
   ]
  },
  {
   "cell_type": "code",
   "execution_count": 4,
   "id": "efed0aa9",
   "metadata": {},
   "outputs": [],
   "source": [
    "AUTO = tf.data.AUTOTUNE"
   ]
  },
  {
   "cell_type": "markdown",
   "id": "15a3d4bb",
   "metadata": {},
   "source": [
    "## 一. 引入Dataset"
   ]
  },
  {
   "cell_type": "code",
   "execution_count": 5,
   "id": "a14c4b95",
   "metadata": {},
   "outputs": [],
   "source": [
    "x_train = np.load('./dataset/x_train_cifar10_unlearn.npy')\n",
    "y_train = np.load('./dataset/y_train_cifar10.npy')\n",
    "x_val = np.load('./dataset/x_val_cifar10.npy')\n",
    "y_val = np.load('./dataset/y_val_cifar10.npy')\n",
    "x_test = np.load('./dataset/x_test_cifar10.npy')\n",
    "y_train = np.argmax(y_train, axis=1)\n",
    "y_val = np.argmax(y_val, axis=1)"
   ]
  },
  {
   "cell_type": "markdown",
   "id": "fd071252",
   "metadata": {},
   "source": [
    "## 二. Auto encoder & decoder\n",
    "### 1. 搭建自動編解碼器"
   ]
  },
  {
   "cell_type": "code",
   "execution_count": 6,
   "id": "babb9429",
   "metadata": {},
   "outputs": [],
   "source": [
    "class Denoise(Model):\n",
    "    def __init__(self):\n",
    "        super(Denoise, self).__init__()\n",
    "        self.encoder = tf.keras.Sequential([\n",
    "            layers.InputLayer(input_shape=INPUT_SHAPE),\n",
    "            layers.Conv2D(16, (3, 3), activation='relu', padding='same', strides=2),\n",
    "            layers.Conv2D(8, (3, 3), activation='relu', padding='same', strides=2)])\n",
    "\n",
    "        self.decoder = tf.keras.Sequential([\n",
    "            layers.Conv2DTranspose(8, kernel_size=3, strides=2, activation='relu', padding='same'),\n",
    "            layers.Conv2DTranspose(16, kernel_size=3, strides=2, activation='relu', padding='same'),\n",
    "            layers.Conv2D(3, kernel_size=(3, 3), activation='sigmoid', padding='same')])\n",
    "\n",
    "    def call(self, x):\n",
    "        encoded = self.encoder(x)\n",
    "        decoded = self.decoder(encoded)\n",
    "        return decoded"
   ]
  },
  {
   "cell_type": "code",
   "execution_count": 7,
   "id": "fee11732",
   "metadata": {},
   "outputs": [],
   "source": [
    "autoencoder = Denoise()\n",
    "autoencoder.build((None, INPUT_SHAPE[0], INPUT_SHAPE[1], INPUT_SHAPE[2]))\n",
    "autoencoder.compile(optimizer='adam', loss=tf.losses.MeanSquaredError())"
   ]
  },
  {
   "cell_type": "code",
   "execution_count": 8,
   "id": "2a2f36ed",
   "metadata": {},
   "outputs": [
    {
     "name": "stdout",
     "output_type": "stream",
     "text": [
      "Model: \"sequential\"\n",
      "_________________________________________________________________\n",
      "Layer (type)                 Output Shape              Param #   \n",
      "=================================================================\n",
      "conv2d (Conv2D)              (None, 16, 16, 16)        448       \n",
      "_________________________________________________________________\n",
      "conv2d_1 (Conv2D)            (None, 8, 8, 8)           1160      \n",
      "=================================================================\n",
      "Total params: 1,608\n",
      "Trainable params: 1,608\n",
      "Non-trainable params: 0\n",
      "_________________________________________________________________\n"
     ]
    }
   ],
   "source": [
    "autoencoder.encoder.summary()"
   ]
  },
  {
   "cell_type": "code",
   "execution_count": 9,
   "id": "738d73c8",
   "metadata": {},
   "outputs": [
    {
     "name": "stdout",
     "output_type": "stream",
     "text": [
      "Model: \"sequential_1\"\n",
      "_________________________________________________________________\n",
      "Layer (type)                 Output Shape              Param #   \n",
      "=================================================================\n",
      "conv2d_transpose (Conv2DTran (None, 16, 16, 8)         584       \n",
      "_________________________________________________________________\n",
      "conv2d_transpose_1 (Conv2DTr (None, 32, 32, 16)        1168      \n",
      "_________________________________________________________________\n",
      "conv2d_2 (Conv2D)            (None, 32, 32, 3)         435       \n",
      "=================================================================\n",
      "Total params: 2,187\n",
      "Trainable params: 2,187\n",
      "Non-trainable params: 0\n",
      "_________________________________________________________________\n"
     ]
    }
   ],
   "source": [
    "autoencoder.decoder.summary()"
   ]
  },
  {
   "cell_type": "markdown",
   "id": "175dea83",
   "metadata": {},
   "source": [
    "### 2. 執行降噪"
   ]
  },
  {
   "cell_type": "code",
   "execution_count": 10,
   "id": "dac85aad",
   "metadata": {},
   "outputs": [],
   "source": [
    "X = np.concatenate((x_train, x_val, x_test), axis=0)"
   ]
  },
  {
   "cell_type": "code",
   "execution_count": 11,
   "id": "aee9fc32",
   "metadata": {},
   "outputs": [
    {
     "name": "stdout",
     "output_type": "stream",
     "text": [
      "Epoch 1/20\n",
      "1875/1875 [==============================] - 34s 16ms/step - loss: 0.0081\n",
      "Epoch 2/20\n",
      "1875/1875 [==============================] - 22s 12ms/step - loss: 0.0036\n",
      "Epoch 3/20\n",
      "1875/1875 [==============================] - 21s 11ms/step - loss: 0.0028\n",
      "Epoch 4/20\n",
      "1875/1875 [==============================] - 22s 12ms/step - loss: 0.0026\n",
      "Epoch 5/20\n",
      "1875/1875 [==============================] - 22s 12ms/step - loss: 0.0024\n",
      "Epoch 6/20\n",
      "1875/1875 [==============================] - 22s 12ms/step - loss: 0.0023\n",
      "Epoch 7/20\n",
      "1875/1875 [==============================] - 27s 14ms/step - loss: 0.0021 0s - loss: 0.002 - ETA:\n",
      "Epoch 8/20\n",
      "1875/1875 [==============================] - 27s 14ms/step - loss: 0.0020\n",
      "Epoch 9/20\n",
      "1875/1875 [==============================] - 28s 15ms/step - loss: 0.0019\n",
      "Epoch 10/20\n",
      "1875/1875 [==============================] - 27s 14ms/step - loss: 0.0019\n",
      "Epoch 11/20\n",
      "1875/1875 [==============================] - 23s 12ms/step - loss: 0.0018\n",
      "Epoch 12/20\n",
      "1875/1875 [==============================] - 28s 15ms/step - loss: 0.0018\n",
      "Epoch 13/20\n",
      "1875/1875 [==============================] - 31s 16ms/step - loss: 0.0018 0s\n",
      "Epoch 14/20\n",
      "1875/1875 [==============================] - 30s 16ms/step - loss: 0.0018\n",
      "Epoch 15/20\n",
      "1875/1875 [==============================] - 27s 14ms/step - loss: 0.0017\n",
      "Epoch 16/20\n",
      "1875/1875 [==============================] - 30s 16ms/step - loss: 0.0017\n",
      "Epoch 17/20\n",
      "1875/1875 [==============================] - 38s 20ms/step - loss: 0.0017\n",
      "Epoch 18/20\n",
      "1875/1875 [==============================] - 28s 15ms/step - loss: 0.0017\n",
      "Epoch 19/20\n",
      "1875/1875 [==============================] - 29s 15ms/step - loss: 0.0017 \n",
      "Epoch 20/20\n",
      "1875/1875 [==============================] - 31s 17ms/step - loss: 0.0017\n"
     ]
    },
    {
     "data": {
      "text/plain": [
       "<tensorflow.python.keras.callbacks.History at 0x1994826b220>"
      ]
     },
     "execution_count": 11,
     "metadata": {},
     "output_type": "execute_result"
    }
   ],
   "source": [
    "autoencoder.fit(X, X,\n",
    "                epochs=EPOCH_DENOISE,\n",
    "                shuffle=True)"
   ]
  },
  {
   "cell_type": "code",
   "execution_count": 12,
   "id": "74666ff4",
   "metadata": {},
   "outputs": [],
   "source": [
    "del X"
   ]
  },
  {
   "cell_type": "code",
   "execution_count": 13,
   "id": "8ed4848f",
   "metadata": {},
   "outputs": [],
   "source": [
    "autoencoder.save_weights('./model/autoencoder.hdf5')"
   ]
  },
  {
   "cell_type": "markdown",
   "id": "387a8434",
   "metadata": {},
   "source": [
    "## 三. 資料前處理"
   ]
  },
  {
   "cell_type": "code",
   "execution_count": 8,
   "id": "f897d0d0",
   "metadata": {},
   "outputs": [],
   "source": [
    "autoencoder.load_weights('./model/autoencoder.hdf5')"
   ]
  },
  {
   "cell_type": "code",
   "execution_count": 9,
   "id": "f25f6d3b",
   "metadata": {},
   "outputs": [],
   "source": [
    "def mixup(images, labels):\n",
    "    alpha = tf.random.uniform([], 0, 1)\n",
    "    images = autoencoder(tf.reshape(images,(-1, INPUT_SHAPE[0], INPUT_SHAPE[1], INPUT_SHAPE[2])))\n",
    "    images = autoencoder(tf.reshape(images,(-1, INPUT_SHAPE[0], INPUT_SHAPE[1], INPUT_SHAPE[2])))\n",
    "    mixedup_images = (alpha * images + (1 - alpha) * tf.reverse(images, axis=[0]))\n",
    "    return (mixedup_images, labels)"
   ]
  },
  {
   "cell_type": "code",
   "execution_count": 10,
   "id": "71d450f0",
   "metadata": {},
   "outputs": [],
   "source": [
    "def mixup_dataset(dataset):\n",
    "    mixup_ds = dataset.map(mixup, num_parallel_calls=AUTO)\n",
    "    dataset = dataset.concatenate(mixup_ds)\n",
    "    dataset = dataset.shuffle(BATCH_SIZE*10)\n",
    "    dataset = dataset.batch(BATCH_SIZE, drop_remainder=True)\n",
    "    return dataset"
   ]
  },
  {
   "cell_type": "code",
   "execution_count": null,
   "id": "6777dad0",
   "metadata": {},
   "outputs": [],
   "source": [
    "def val_dataset(dataset):\n",
    "    dataset = dataset.concatenate(mixup_ds)\n",
    "    dataset = dataset.shuffle(BATCH_SIZE*10)\n",
    "    dataset = dataset.batch(BATCH_SIZE, drop_remainder=True)\n",
    "    return dataset"
   ]
  },
  {
   "cell_type": "code",
   "execution_count": 11,
   "id": "38f66cf9",
   "metadata": {},
   "outputs": [],
   "source": [
    "train_dataset = tf.data.Dataset.from_tensor_slices((x_train, y_train))\n",
    "batched_dataset = mixup_dataset(train_dataset)\n",
    "val_dataset = tf.data.Dataset.from_tensor_slices((x_val, y_val))\n",
    "batched_val_dataset = val_dataset(val_dataset)"
   ]
  },
  {
   "cell_type": "code",
   "execution_count": 12,
   "id": "12922426",
   "metadata": {},
   "outputs": [
    {
     "data": {
      "image/png": "[encoded data removed]",
      "text/plain": [
       "<Figure size 432x288 with 1 Axes>"
      ]
     },
     "metadata": {
      "needs_background": "light"
     },
     "output_type": "display_data"
    }
   ],
   "source": [
    "for data in batched_dataset.take(1):\n",
    "    plt.imshow(data[0][3],cmap='gray')"
   ]
  },
  {
   "cell_type": "code",
   "execution_count": 13,
   "id": "75fa013b",
   "metadata": {},
   "outputs": [],
   "source": [
    "del autoencoder"
   ]
  },
  {
   "cell_type": "markdown",
   "id": "1168f556",
   "metadata": {},
   "source": [
    "## 三. 模型搭建"
   ]
  },
  {
   "cell_type": "markdown",
   "id": "6638d036",
   "metadata": {},
   "source": [
    "不能用RandomContrast!!!!不知道為什麼auto encoder出來的圖片經過RandomContrast就會出現\"Cannot iterate over a shape with unknown rank\"的bug。"
   ]
  },
  {
   "cell_type": "code",
   "execution_count": 14,
   "id": "d6464973",
   "metadata": {},
   "outputs": [],
   "source": [
    "data_augmentation = tf.keras.Sequential([\n",
    "    layers.experimental.preprocessing.RandomFlip(\"horizontal_and_vertical\", input_shape=INPUT_SHAPE),\n",
    "    layers.experimental.preprocessing.Normalization()\n",
    "])"
   ]
  },
  {
   "cell_type": "code",
   "execution_count": 15,
   "id": "ae5be3e3",
   "metadata": {},
   "outputs": [
    {
     "name": "stdout",
     "output_type": "stream",
     "text": [
      "Model: \"ResNet50_cup04_cifar10\"\n",
      "_________________________________________________________________\n",
      "Layer (type)                 Output Shape              Param #   \n",
      "=================================================================\n",
      "sequential_2 (Sequential)    (None, 32, 32, 3)         7         \n",
      "_________________________________________________________________\n",
      "resnet50 (Functional)        (None, 1, 1, 2048)        23587712  \n",
      "_________________________________________________________________\n",
      "flatten (Flatten)            (None, 2048)              0         \n",
      "_________________________________________________________________\n",
      "dropout (Dropout)            (None, 2048)              0         \n",
      "_________________________________________________________________\n",
      "softmax (Dense)              (None, 10)                20490     \n",
      "=================================================================\n",
      "Total params: 23,608,209\n",
      "Trainable params: 23,555,082\n",
      "Non-trainable params: 53,127\n",
      "_________________________________________________________________\n"
     ]
    }
   ],
   "source": [
    "model = Sequential([\n",
    "    data_augmentation,\n",
    "    ResNet50(include_top=False, weights=None, input_tensor=None, input_shape=INPUT_SHAPE), \n",
    "    Flatten(),\n",
    "    Dropout(0.5),\n",
    "    Dense(CATGORICAL, activation='softmax', name='softmax')\n",
    "],\n",
    "    name=MODEL_NAME\n",
    ")\n",
    "model.build((None, INPUT_SHAPE[0], INPUT_SHAPE[1], INPUT_SHAPE[2]))\n",
    "model.summary()"
   ]
  },
  {
   "cell_type": "code",
   "execution_count": 19,
   "id": "3cd3f040",
   "metadata": {},
   "outputs": [],
   "source": [
    "loss_fn = tf.losses.SparseCategoricalCrossentropy(from_logits=True)\n",
    "optimizer = tf.optimizers.Adam(learning_rate=LR)\n",
    "model.compile(optimizer=optimizer, loss=loss_fn, metrics=['acc'])"
   ]
  },
  {
   "cell_type": "markdown",
   "id": "b16b4593",
   "metadata": {},
   "source": [
    "## 四. 模型訓練"
   ]
  },
  {
   "cell_type": "code",
   "execution_count": 20,
   "id": "16434803",
   "metadata": {},
   "outputs": [],
   "source": [
    "checkpoint = ModelCheckpoint(filepath=MODEL_PATH, \n",
    "                             monitor='val_acc',\n",
    "                             verbose=1, \n",
    "                             save_best_only=True, \n",
    "                             mode='auto', \n",
    "                             save_weights_only = True)\n",
    "reduceLROnPlat = ReduceLROnPlateau(monitor='val_acc', \n",
    "                                   factor=LR_FACTOR, \n",
    "                                   patience=LR_PATIENCE, \n",
    "                                   verbose=1, \n",
    "                                   mode='auto', \n",
    "                                   min_delta=0.0001)\n",
    "early = EarlyStopping(monitor='val_acc', \n",
    "                      mode=\"auto\", \n",
    "                      patience=PATIENCE)\n",
    "callbacks_list = [checkpoint, reduceLROnPlat, early]"
   ]
  },
  {
   "cell_type": "code",
   "execution_count": 21,
   "id": "ef1e967d",
   "metadata": {},
   "outputs": [
    {
     "name": "stdout",
     "output_type": "stream",
     "text": [
      "Epoch 1/100\n"
     ]
    },
    {
     "name": "stderr",
     "output_type": "stream",
     "text": [
      "C:\\Users\\acer\\anaconda3\\envs\\tf\\lib\\site-packages\\tensorflow\\python\\keras\\backend.py:4929: UserWarning: \"`sparse_categorical_crossentropy` received `from_logits=True`, but the `output` argument was produced by a sigmoid or softmax activation and thus does not represent logits. Was this intended?\"\n",
      "  warnings.warn(\n"
     ]
    },
    {
     "name": "stdout",
     "output_type": "stream",
     "text": [
      " 615/1250 [=============>................] - ETA: 3:13 - loss: 2.7377 - acc: 0.2196"
     ]
    },
    {
     "ename": "FailedPreconditionError",
     "evalue": "2 root error(s) found.\n  (0) Failed precondition:  2 root error(s) found.\n  (0) Failed precondition:  Could not find variable _AnonymousVar14. This could mean that the variable has been deleted. In TF1, it can also mean the variable is uninitialized. Debug info: container=localhost, status=Not found: Resource localhost/_AnonymousVar14/class tensorflow::Var does not exist.\n\t [[{{node denoise/sequential_1/conv2d_transpose/BiasAdd/ReadVariableOp}}]]\n  (1) Failed precondition:  Could not find variable _AnonymousVar14. This could mean that the variable has been deleted. In TF1, it can also mean the variable is uninitialized. Debug info: container=localhost, status=Not found: Resource localhost/_AnonymousVar14/class tensorflow::Var does not exist.\n\t [[{{node denoise/sequential_1/conv2d_transpose/BiasAdd/ReadVariableOp}}]]\n\t [[denoise/sequential/conv2d/BiasAdd/ReadVariableOp/_4]]\n0 successful operations.\n0 derived errors ignored.\n\t [[IteratorGetNext]]\n  (1) Failed precondition:  2 root error(s) found.\n  (0) Failed precondition:  Could not find variable _AnonymousVar14. This could mean that the variable has been deleted. In TF1, it can also mean the variable is uninitialized. Debug info: container=localhost, status=Not found: Resource localhost/_AnonymousVar14/class tensorflow::Var does not exist.\n\t [[{{node denoise/sequential_1/conv2d_transpose/BiasAdd/ReadVariableOp}}]]\n  (1) Failed precondition:  Could not find variable _AnonymousVar14. This could mean that the variable has been deleted. In TF1, it can also mean the variable is uninitialized. Debug info: container=localhost, status=Not found: Resource localhost/_AnonymousVar14/class tensorflow::Var does not exist.\n\t [[{{node denoise/sequential_1/conv2d_transpose/BiasAdd/ReadVariableOp}}]]\n\t [[denoise/sequential/conv2d/BiasAdd/ReadVariableOp/_4]]\n0 successful operations.\n0 derived errors ignored.\n\t [[IteratorGetNext]]\n\t [[ResNet50_cup04_cifar10/sequential_2/random_flip/random_flip_left_right/Shape/_6]]\n0 successful operations.\n0 derived errors ignored. [Op:__inference_train_function_14720]\n\nFunction call stack:\ntrain_function -> train_function -> train_function -> train_function -> train_function -> train_function\n",
     "output_type": "error",
     "traceback": [
      "\u001b[1;31m---------------------------------------------------------------------------\u001b[0m",
      "\u001b[1;31mFailedPreconditionError\u001b[0m                   Traceback (most recent call last)",
      "\u001b[1;32m~\\AppData\\Local\\Temp/ipykernel_17456/1841719173.py\u001b[0m in \u001b[0;36m<module>\u001b[1;34m\u001b[0m\n\u001b[0;32m      1\u001b[0m \u001b[0mstart\u001b[0m \u001b[1;33m=\u001b[0m \u001b[0mdatetime\u001b[0m\u001b[1;33m.\u001b[0m\u001b[0mdatetime\u001b[0m\u001b[1;33m.\u001b[0m\u001b[0mnow\u001b[0m\u001b[1;33m(\u001b[0m\u001b[1;33m)\u001b[0m\u001b[1;33m\u001b[0m\u001b[1;33m\u001b[0m\u001b[0m\n\u001b[1;32m----> 2\u001b[1;33m history = model.fit(x=batched_dataset, \n\u001b[0m\u001b[0;32m      3\u001b[0m                     \u001b[0mvalidation_data\u001b[0m\u001b[1;33m=\u001b[0m\u001b[0mbatched_val_dataset\u001b[0m\u001b[1;33m,\u001b[0m\u001b[1;33m\u001b[0m\u001b[1;33m\u001b[0m\u001b[0m\n\u001b[0;32m      4\u001b[0m                     \u001b[0mepochs\u001b[0m\u001b[1;33m=\u001b[0m\u001b[0mEPOCHS\u001b[0m\u001b[1;33m,\u001b[0m\u001b[1;33m\u001b[0m\u001b[1;33m\u001b[0m\u001b[0m\n\u001b[0;32m      5\u001b[0m                     \u001b[0mcallbacks\u001b[0m\u001b[1;33m=\u001b[0m\u001b[0mcallbacks_list\u001b[0m\u001b[1;33m,\u001b[0m\u001b[1;33m\u001b[0m\u001b[1;33m\u001b[0m\u001b[0m\n",
      "\u001b[1;32m~\\anaconda3\\envs\\tf\\lib\\site-packages\\tensorflow\\python\\keras\\engine\\training.py\u001b[0m in \u001b[0;36mfit\u001b[1;34m(self, x, y, batch_size, epochs, verbose, callbacks, validation_split, validation_data, shuffle, class_weight, sample_weight, initial_epoch, steps_per_epoch, validation_steps, validation_batch_size, validation_freq, max_queue_size, workers, use_multiprocessing)\u001b[0m\n\u001b[0;32m   1181\u001b[0m                 _r=1):\n\u001b[0;32m   1182\u001b[0m               \u001b[0mcallbacks\u001b[0m\u001b[1;33m.\u001b[0m\u001b[0mon_train_batch_begin\u001b[0m\u001b[1;33m(\u001b[0m\u001b[0mstep\u001b[0m\u001b[1;33m)\u001b[0m\u001b[1;33m\u001b[0m\u001b[1;33m\u001b[0m\u001b[0m\n\u001b[1;32m-> 1183\u001b[1;33m               \u001b[0mtmp_logs\u001b[0m \u001b[1;33m=\u001b[0m \u001b[0mself\u001b[0m\u001b[1;33m.\u001b[0m\u001b[0mtrain_function\u001b[0m\u001b[1;33m(\u001b[0m\u001b[0miterator\u001b[0m\u001b[1;33m)\u001b[0m\u001b[1;33m\u001b[0m\u001b[1;33m\u001b[0m\u001b[0m\n\u001b[0m\u001b[0;32m   1184\u001b[0m               \u001b[1;32mif\u001b[0m \u001b[0mdata_handler\u001b[0m\u001b[1;33m.\u001b[0m\u001b[0mshould_sync\u001b[0m\u001b[1;33m:\u001b[0m\u001b[1;33m\u001b[0m\u001b[1;33m\u001b[0m\u001b[0m\n\u001b[0;32m   1185\u001b[0m                 \u001b[0mcontext\u001b[0m\u001b[1;33m.\u001b[0m\u001b[0masync_wait\u001b[0m\u001b[1;33m(\u001b[0m\u001b[1;33m)\u001b[0m\u001b[1;33m\u001b[0m\u001b[1;33m\u001b[0m\u001b[0m\n",
      "\u001b[1;32m~\\anaconda3\\envs\\tf\\lib\\site-packages\\tensorflow\\python\\eager\\def_function.py\u001b[0m in \u001b[0;36m__call__\u001b[1;34m(self, *args, **kwds)\u001b[0m\n\u001b[0;32m    887\u001b[0m \u001b[1;33m\u001b[0m\u001b[0m\n\u001b[0;32m    888\u001b[0m       \u001b[1;32mwith\u001b[0m \u001b[0mOptionalXlaContext\u001b[0m\u001b[1;33m(\u001b[0m\u001b[0mself\u001b[0m\u001b[1;33m.\u001b[0m\u001b[0m_jit_compile\u001b[0m\u001b[1;33m)\u001b[0m\u001b[1;33m:\u001b[0m\u001b[1;33m\u001b[0m\u001b[1;33m\u001b[0m\u001b[0m\n\u001b[1;32m--> 889\u001b[1;33m         \u001b[0mresult\u001b[0m \u001b[1;33m=\u001b[0m \u001b[0mself\u001b[0m\u001b[1;33m.\u001b[0m\u001b[0m_call\u001b[0m\u001b[1;33m(\u001b[0m\u001b[1;33m*\u001b[0m\u001b[0margs\u001b[0m\u001b[1;33m,\u001b[0m \u001b[1;33m**\u001b[0m\u001b[0mkwds\u001b[0m\u001b[1;33m)\u001b[0m\u001b[1;33m\u001b[0m\u001b[1;33m\u001b[0m\u001b[0m\n\u001b[0m\u001b[0;32m    890\u001b[0m \u001b[1;33m\u001b[0m\u001b[0m\n\u001b[0;32m    891\u001b[0m       \u001b[0mnew_tracing_count\u001b[0m \u001b[1;33m=\u001b[0m \u001b[0mself\u001b[0m\u001b[1;33m.\u001b[0m\u001b[0mexperimental_get_tracing_count\u001b[0m\u001b[1;33m(\u001b[0m\u001b[1;33m)\u001b[0m\u001b[1;33m\u001b[0m\u001b[1;33m\u001b[0m\u001b[0m\n",
      "\u001b[1;32m~\\anaconda3\\envs\\tf\\lib\\site-packages\\tensorflow\\python\\eager\\def_function.py\u001b[0m in \u001b[0;36m_call\u001b[1;34m(self, *args, **kwds)\u001b[0m\n\u001b[0;32m    915\u001b[0m       \u001b[1;31m# In this case we have created variables on the first call, so we run the\u001b[0m\u001b[1;33m\u001b[0m\u001b[1;33m\u001b[0m\u001b[1;33m\u001b[0m\u001b[0m\n\u001b[0;32m    916\u001b[0m       \u001b[1;31m# defunned version which is guaranteed to never create variables.\u001b[0m\u001b[1;33m\u001b[0m\u001b[1;33m\u001b[0m\u001b[1;33m\u001b[0m\u001b[0m\n\u001b[1;32m--> 917\u001b[1;33m       \u001b[1;32mreturn\u001b[0m \u001b[0mself\u001b[0m\u001b[1;33m.\u001b[0m\u001b[0m_stateless_fn\u001b[0m\u001b[1;33m(\u001b[0m\u001b[1;33m*\u001b[0m\u001b[0margs\u001b[0m\u001b[1;33m,\u001b[0m \u001b[1;33m**\u001b[0m\u001b[0mkwds\u001b[0m\u001b[1;33m)\u001b[0m  \u001b[1;31m# pylint: disable=not-callable\u001b[0m\u001b[1;33m\u001b[0m\u001b[1;33m\u001b[0m\u001b[0m\n\u001b[0m\u001b[0;32m    918\u001b[0m     \u001b[1;32melif\u001b[0m \u001b[0mself\u001b[0m\u001b[1;33m.\u001b[0m\u001b[0m_stateful_fn\u001b[0m \u001b[1;32mis\u001b[0m \u001b[1;32mnot\u001b[0m \u001b[1;32mNone\u001b[0m\u001b[1;33m:\u001b[0m\u001b[1;33m\u001b[0m\u001b[1;33m\u001b[0m\u001b[0m\n\u001b[0;32m    919\u001b[0m       \u001b[1;31m# Release the lock early so that multiple threads can perform the call\u001b[0m\u001b[1;33m\u001b[0m\u001b[1;33m\u001b[0m\u001b[1;33m\u001b[0m\u001b[0m\n",
      "\u001b[1;32m~\\anaconda3\\envs\\tf\\lib\\site-packages\\tensorflow\\python\\eager\\function.py\u001b[0m in \u001b[0;36m__call__\u001b[1;34m(self, *args, **kwargs)\u001b[0m\n\u001b[0;32m   3021\u001b[0m       (graph_function,\n\u001b[0;32m   3022\u001b[0m        filtered_flat_args) = self._maybe_define_function(args, kwargs)\n\u001b[1;32m-> 3023\u001b[1;33m     return graph_function._call_flat(\n\u001b[0m\u001b[0;32m   3024\u001b[0m         filtered_flat_args, captured_inputs=graph_function.captured_inputs)  # pylint: disable=protected-access\n\u001b[0;32m   3025\u001b[0m \u001b[1;33m\u001b[0m\u001b[0m\n",
      "\u001b[1;32m~\\anaconda3\\envs\\tf\\lib\\site-packages\\tensorflow\\python\\eager\\function.py\u001b[0m in \u001b[0;36m_call_flat\u001b[1;34m(self, args, captured_inputs, cancellation_manager)\u001b[0m\n\u001b[0;32m   1958\u001b[0m         and executing_eagerly):\n\u001b[0;32m   1959\u001b[0m       \u001b[1;31m# No tape is watching; skip to running the function.\u001b[0m\u001b[1;33m\u001b[0m\u001b[1;33m\u001b[0m\u001b[1;33m\u001b[0m\u001b[0m\n\u001b[1;32m-> 1960\u001b[1;33m       return self._build_call_outputs(self._inference_function.call(\n\u001b[0m\u001b[0;32m   1961\u001b[0m           ctx, args, cancellation_manager=cancellation_manager))\n\u001b[0;32m   1962\u001b[0m     forward_backward = self._select_forward_and_backward_functions(\n",
      "\u001b[1;32m~\\anaconda3\\envs\\tf\\lib\\site-packages\\tensorflow\\python\\eager\\function.py\u001b[0m in \u001b[0;36mcall\u001b[1;34m(self, ctx, args, cancellation_manager)\u001b[0m\n\u001b[0;32m    589\u001b[0m       \u001b[1;32mwith\u001b[0m \u001b[0m_InterpolateFunctionError\u001b[0m\u001b[1;33m(\u001b[0m\u001b[0mself\u001b[0m\u001b[1;33m)\u001b[0m\u001b[1;33m:\u001b[0m\u001b[1;33m\u001b[0m\u001b[1;33m\u001b[0m\u001b[0m\n\u001b[0;32m    590\u001b[0m         \u001b[1;32mif\u001b[0m \u001b[0mcancellation_manager\u001b[0m \u001b[1;32mis\u001b[0m \u001b[1;32mNone\u001b[0m\u001b[1;33m:\u001b[0m\u001b[1;33m\u001b[0m\u001b[1;33m\u001b[0m\u001b[0m\n\u001b[1;32m--> 591\u001b[1;33m           outputs = execute.execute(\n\u001b[0m\u001b[0;32m    592\u001b[0m               \u001b[0mstr\u001b[0m\u001b[1;33m(\u001b[0m\u001b[0mself\u001b[0m\u001b[1;33m.\u001b[0m\u001b[0msignature\u001b[0m\u001b[1;33m.\u001b[0m\u001b[0mname\u001b[0m\u001b[1;33m)\u001b[0m\u001b[1;33m,\u001b[0m\u001b[1;33m\u001b[0m\u001b[1;33m\u001b[0m\u001b[0m\n\u001b[0;32m    593\u001b[0m               \u001b[0mnum_outputs\u001b[0m\u001b[1;33m=\u001b[0m\u001b[0mself\u001b[0m\u001b[1;33m.\u001b[0m\u001b[0m_num_outputs\u001b[0m\u001b[1;33m,\u001b[0m\u001b[1;33m\u001b[0m\u001b[1;33m\u001b[0m\u001b[0m\n",
      "\u001b[1;32m~\\anaconda3\\envs\\tf\\lib\\site-packages\\tensorflow\\python\\eager\\execute.py\u001b[0m in \u001b[0;36mquick_execute\u001b[1;34m(op_name, num_outputs, inputs, attrs, ctx, name)\u001b[0m\n\u001b[0;32m     57\u001b[0m   \u001b[1;32mtry\u001b[0m\u001b[1;33m:\u001b[0m\u001b[1;33m\u001b[0m\u001b[1;33m\u001b[0m\u001b[0m\n\u001b[0;32m     58\u001b[0m     \u001b[0mctx\u001b[0m\u001b[1;33m.\u001b[0m\u001b[0mensure_initialized\u001b[0m\u001b[1;33m(\u001b[0m\u001b[1;33m)\u001b[0m\u001b[1;33m\u001b[0m\u001b[1;33m\u001b[0m\u001b[0m\n\u001b[1;32m---> 59\u001b[1;33m     tensors = pywrap_tfe.TFE_Py_Execute(ctx._handle, device_name, op_name,\n\u001b[0m\u001b[0;32m     60\u001b[0m                                         inputs, attrs, num_outputs)\n\u001b[0;32m     61\u001b[0m   \u001b[1;32mexcept\u001b[0m \u001b[0mcore\u001b[0m\u001b[1;33m.\u001b[0m\u001b[0m_NotOkStatusException\u001b[0m \u001b[1;32mas\u001b[0m \u001b[0me\u001b[0m\u001b[1;33m:\u001b[0m\u001b[1;33m\u001b[0m\u001b[1;33m\u001b[0m\u001b[0m\n",
      "\u001b[1;31mFailedPreconditionError\u001b[0m: 2 root error(s) found.\n  (0) Failed precondition:  2 root error(s) found.\n  (0) Failed precondition:  Could not find variable _AnonymousVar14. This could mean that the variable has been deleted. In TF1, it can also mean the variable is uninitialized. Debug info: container=localhost, status=Not found: Resource localhost/_AnonymousVar14/class tensorflow::Var does not exist.\n\t [[{{node denoise/sequential_1/conv2d_transpose/BiasAdd/ReadVariableOp}}]]\n  (1) Failed precondition:  Could not find variable _AnonymousVar14. This could mean that the variable has been deleted. In TF1, it can also mean the variable is uninitialized. Debug info: container=localhost, status=Not found: Resource localhost/_AnonymousVar14/class tensorflow::Var does not exist.\n\t [[{{node denoise/sequential_1/conv2d_transpose/BiasAdd/ReadVariableOp}}]]\n\t [[denoise/sequential/conv2d/BiasAdd/ReadVariableOp/_4]]\n0 successful operations.\n0 derived errors ignored.\n\t [[IteratorGetNext]]\n  (1) Failed precondition:  2 root error(s) found.\n  (0) Failed precondition:  Could not find variable _AnonymousVar14. This could mean that the variable has been deleted. In TF1, it can also mean the variable is uninitialized. Debug info: container=localhost, status=Not found: Resource localhost/_AnonymousVar14/class tensorflow::Var does not exist.\n\t [[{{node denoise/sequential_1/conv2d_transpose/BiasAdd/ReadVariableOp}}]]\n  (1) Failed precondition:  Could not find variable _AnonymousVar14. This could mean that the variable has been deleted. In TF1, it can also mean the variable is uninitialized. Debug info: container=localhost, status=Not found: Resource localhost/_AnonymousVar14/class tensorflow::Var does not exist.\n\t [[{{node denoise/sequential_1/conv2d_transpose/BiasAdd/ReadVariableOp}}]]\n\t [[denoise/sequential/conv2d/BiasAdd/ReadVariableOp/_4]]\n0 successful operations.\n0 derived errors ignored.\n\t [[IteratorGetNext]]\n\t [[ResNet50_cup04_cifar10/sequential_2/random_flip/random_flip_left_right/Shape/_6]]\n0 successful operations.\n0 derived errors ignored. [Op:__inference_train_function_14720]\n\nFunction call stack:\ntrain_function -> train_function -> train_function -> train_function -> train_function -> train_function\n"
     ]
    }
   ],
   "source": [
    "start = datetime.datetime.now()\n",
    "history = model.fit(x=batched_dataset, \n",
    "                    validation_data=batched_val_dataset, \n",
    "                    epochs=EPOCHS,\n",
    "                    callbacks=callbacks_list,\n",
    "                    verbose=1)\n",
    "end = datetime.datetime.now()\n",
    "CNN_time = end - start"
   ]
  },
  {
   "cell_type": "markdown",
   "id": "1ae0f162",
   "metadata": {},
   "source": [
    "## 五. 繪製結果"
   ]
  },
  {
   "cell_type": "code",
   "execution_count": null,
   "id": "3fb2f628",
   "metadata": {},
   "outputs": [],
   "source": [
    "plt.plot(history.history['acc'])\n",
    "plt.plot(history.history['val_acc'])\n",
    "plt.title('model accuracy')\n",
    "plt.ylabel('accuracy')\n",
    "plt.xlabel('epoch')\n",
    "plt.legend(['train', 'test'], loc='upper left')\n",
    "plt.show()"
   ]
  },
  {
   "cell_type": "code",
   "execution_count": null,
   "id": "201f0bc1",
   "metadata": {},
   "outputs": [],
   "source": [
    "epoch = len(history.history['acc'])\n",
    "train_acc = np.max(history.history['acc'])\n",
    "val_acc = np.max(history.history['val_acc'])"
   ]
  },
  {
   "cell_type": "code",
   "execution_count": null,
   "id": "f3379268",
   "metadata": {},
   "outputs": [],
   "source": [
    "localtime = time.strftime(\"%Y-%m-%d %I:%M:%S %p\", time.localtime())\n",
    "with open('./output/result_cifar10.txt',  'a') as file_obj:\n",
    "    file_obj.write('================RUN TIME: '+ localtime+ '================' + '\\n')\n",
    "    file_obj.write('model_name: '    + str(MODEL_NAME)        + '\\n')\n",
    "    file_obj.write('epoch: '         + str(epoch)             + '\\n')\n",
    "    file_obj.write('training time: ' + str(CNN_time)          + '\\n')\n",
    "    file_obj.write('train_acc: '     + str(train_acc)     + '\\n')\n",
    "    file_obj.write('val_acc: '       + str(val_acc)       + '\\n')"
   ]
  },
  {
   "cell_type": "markdown",
   "id": "251dd260",
   "metadata": {},
   "source": [
    "## 六. 繳交"
   ]
  },
  {
   "cell_type": "code",
   "execution_count": null,
   "id": "a1053002",
   "metadata": {},
   "outputs": [],
   "source": [
    "model.load_weights(MODEL_PATH)"
   ]
  },
  {
   "cell_type": "code",
   "execution_count": null,
   "id": "1bc915d4",
   "metadata": {},
   "outputs": [],
   "source": [
    "y_test = np.argmax(model.predict(x_test, batch_size=BATCH_SIZE, verbose=1), axis=1).tolist()"
   ]
  },
  {
   "cell_type": "markdown",
   "id": "db4ce1af",
   "metadata": {},
   "source": [
    "Make submit file"
   ]
  },
  {
   "cell_type": "code",
   "execution_count": null,
   "id": "0aadbd61",
   "metadata": {},
   "outputs": [],
   "source": [
    "id_csv = [i for i in range(len(y_test))]\n",
    "df = pd.DataFrame(list(zip(id_csv,y_test)), columns = ['id','label'])\n",
    "df.to_csv('./output/cup04_cifar10_group2.csv', index=False)"
   ]
  }
 ],
 "metadata": {
  "kernelspec": {
   "display_name": "Python 3 (ipykernel)",
   "language": "python",
   "name": "python3"
  },
  "language_info": {
   "codemirror_mode": {
    "name": "ipython",
    "version": 3
   },
   "file_extension": ".py",
   "mimetype": "text/x-python",
   "name": "python",
   "nbconvert_exporter": "python",
   "pygments_lexer": "ipython3",
   "version": "3.8.11"
  }
 },
 "nbformat": 4,
 "nbformat_minor": 5
}
