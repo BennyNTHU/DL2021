{
 "cells": [
  {
   "cell_type": "markdown",
   "id": "47a7209d",
   "metadata": {},
   "source": [
    "# Team2: Pytorch\n",
    "### Members: 110065508李丞恩 109062676劉廷哲 110062592姜宏昀 110062539古之恒\n"
   ]
  },
  {
   "cell_type": "markdown",
   "id": "c03e6278",
   "metadata": {},
   "source": [
    "## Cifar10"
   ]
  },
  {
   "cell_type": "markdown",
   "id": "f93bfee6",
   "metadata": {},
   "source": [
    "## Outline:\n",
    "\n",
    "- 和Imagenet的架構是類似的\n",
    "\n",
    "### 1. Model Architecture\n",
    "- densenet121, max pooling\n",
    "\n",
    "### 2. Image Preprocessing\n",
    "- color jitter + random channel shuffle\n",
    "\n",
    "### 3. Training process\n",
    "\n",
    "- no, only use reduceLR + early stopping"
   ]
  },
  {
   "cell_type": "code",
   "execution_count": 1,
   "id": "5127f8c8",
   "metadata": {},
   "outputs": [],
   "source": [
    "INPUT_SHAPE = (32, 32, 3)\n",
    "BATCH_SIZE = 64\n",
    "EPOCHS = 35\n",
    "PATIENCE = 9 # 如果過多少個EPOCHS沒改善就停止訓練\n",
    "CATGORICAL = 10\n",
    "LR = 1e-3\n",
    "LR_FACTOR = 0.5 # new_lr = lr * factor.\n",
    "LR_PATIENCE = 4 # umber of epochs with no improvement after which learning rate will be reduced\n",
    "MODEL_NAME = 'cifar10_Densenet121_current'\n",
    "MODEL_PATH = MODEL_NAME + '.hdf5'"
   ]
  },
  {
   "cell_type": "code",
   "execution_count": 2,
   "id": "4e22e639",
   "metadata": {},
   "outputs": [],
   "source": [
    "from __future__ import absolute_import, division, print_function, unicode_literals\n",
    "\n",
    "import os\n",
    "import re\n",
    "import PIL\n",
    "import time\n",
    "import random\n",
    "import string\n",
    "import datetime\n",
    "import numpy as np\n",
    "import pandas as pd\n",
    "import tensorflow as tf\n",
    "import matplotlib.pyplot as plt\n",
    "\n",
    "from pathlib import Path\n",
    "from IPython import display\n",
    "from tqdm.notebook import tqdm\n",
    "from sklearn.metrics import accuracy_score\n",
    "from sklearn.model_selection import learning_curve\n",
    "\n",
    "from tensorflow import keras\n",
    "from tensorflow.keras.optimizers import Adam \n",
    "from tensorflow.keras.models import Model, Sequential\n",
    "from tensorflow.keras.applications.resnet50 import ResNet50\n",
    "from tensorflow.keras.losses import SparseCategoricalCrossentropy\n",
    "from tensorflow.keras.layers import Activation, Dropout, Flatten, Dense\n",
    "from tensorflow.keras.layers import BatchNormalization, Input, Conv2D, MaxPool2D, GlobalAveragePooling2D\n",
    "from tensorflow.keras.callbacks import ModelCheckpoint, LearningRateScheduler, EarlyStopping, ReduceLROnPlateau"
   ]
  },
  {
   "cell_type": "code",
   "execution_count": 3,
   "id": "f7f4e4bb",
   "metadata": {},
   "outputs": [],
   "source": [
    "gpus = tf.config.experimental.list_physical_devices('GPU')\n",
    "if gpus:\n",
    "    try:\n",
    "        # Restrict TensorFlow to only use the first GPU\n",
    "        tf.config.experimental.set_visible_devices(gpus[0], 'GPU')\n",
    "\n",
    "        # Currently, memory growth needs to be the same across GPUs\n",
    "        for gpu in gpus:\n",
    "            tf.config.experimental.set_memory_growth(gpu, True)\n",
    "        logical_gpus = tf.config.experimental.list_logical_devices('GPU')\n",
    "        print(len(gpus), \"Physical GPUs,\", len(logical_gpus), \"Logical GPUs\")\n",
    "        # set memory limit\n",
    "        #tf.config.experimental.set_virtual_device_configuration(gpus[0], [tf.config.experimental.VirtualDeviceConfiguration(memory_limit = 1024)])\n",
    "\n",
    "       \n",
    "    except RuntimeError as e:\n",
    "        # Memory growth must be set before GPUs have been initialized\n",
    "        print(e)"
   ]
  },
  {
   "cell_type": "markdown",
   "id": "45a16d3b",
   "metadata": {},
   "source": [
    "## Load Data"
   ]
  },
  {
   "cell_type": "code",
   "execution_count": 4,
   "id": "44c946b4",
   "metadata": {},
   "outputs": [],
   "source": [
    "x_train = np.load('./datalab-cup4-unlearnable-datasets-cifar-10/x_train_cifar10_unlearn.npy')\n",
    "y_train = np.load('./datalab-cup4-unlearnable-datasets-cifar-10/y_train_cifar10.npy')\n",
    "x_val = np.load('./datalab-cup4-unlearnable-datasets-cifar-10/x_val_cifar10.npy')\n",
    "y_val = np.load('./datalab-cup4-unlearnable-datasets-cifar-10/y_val_cifar10.npy')\n",
    "y_train = np.argmax(y_train, axis=1)\n",
    "y_val = np.argmax(y_val, axis=1)\n",
    "\n",
    "# ohe labels\n",
    "y_train = tf.one_hot(y_train, 10)\n",
    "y_val = tf.one_hot(y_val, 10)"
   ]
  },
  {
   "cell_type": "markdown",
   "id": "42f4df0a",
   "metadata": {},
   "source": [
    "### define checkpoints\n",
    "\n",
    "- 這裡我們用ReduceLROnPlateau + early stop，reduce learning rate可以在val acc高時還能進一步改善"
   ]
  },
  {
   "cell_type": "code",
   "execution_count": 5,
   "id": "10100455",
   "metadata": {},
   "outputs": [],
   "source": [
    "checkpoint = ModelCheckpoint(filepath=MODEL_PATH, \n",
    "                             monitor='val_acc',\n",
    "                             verbose=1, \n",
    "                             save_best_only=True, \n",
    "                             mode='auto', \n",
    "                             save_weights_only = True)\n",
    "reduceLROnPlat = ReduceLROnPlateau(monitor='val_acc', \n",
    "                                   factor=LR_FACTOR, \n",
    "                                   patience=LR_PATIENCE, \n",
    "                                   verbose=1, \n",
    "                                   mode='auto', \n",
    "                                   min_delta=1.25e-4)\n",
    "early = EarlyStopping(monitor='val_acc', \n",
    "                      mode=\"auto\", \n",
    "                      patience=PATIENCE)\n",
    "\n",
    "callbacks_list = [checkpoint, reduceLROnPlat, early]\n",
    "#callbacks_list = [checkpoint, reduceLROnPlat]"
   ]
  },
  {
   "cell_type": "markdown",
   "id": "aff5ba49",
   "metadata": {},
   "source": [
    "## 1. Model Architecture: Densenet121"
   ]
  },
  {
   "cell_type": "code",
   "execution_count": 6,
   "id": "c49e1c1c",
   "metadata": {},
   "outputs": [],
   "source": [
    "# adding Image augmentation layers\n",
    "# https://keras.io/api/layers/preprocessing_layers/image_augmentation/\n",
    "\n",
    "\n",
    "rand_image_aug_layer = Sequential([\n",
    "    tf.keras.layers.RandomFlip(mode=\"horizontal\", seed=None),\n",
    "    tf.keras.layers.RandomContrast(0.1, seed=None)\n",
    "],\n",
    "    name='aug_layer'\n",
    ")"
   ]
  },
  {
   "cell_type": "code",
   "execution_count": 7,
   "id": "18c78db8",
   "metadata": {},
   "outputs": [],
   "source": [
    "# adding Image batchnormalization layer\n",
    "# \n",
    "\n",
    "batch_norm_layer = Sequential([\n",
    "    tf.keras.layers.BatchNormalization(\n",
    "    axis=-1,\n",
    "    momentum=0.99,\n",
    "    epsilon=0.001,\n",
    "    center=True,\n",
    "    scale=True,\n",
    "    beta_initializer=\"zeros\",\n",
    "    gamma_initializer=\"ones\",\n",
    "    moving_mean_initializer=\"zeros\",\n",
    "    moving_variance_initializer=\"ones\",\n",
    "    beta_regularizer=None,\n",
    "    gamma_regularizer=None,\n",
    "    beta_constraint=None,\n",
    "    gamma_constraint=None\n",
    "    )\n",
    "],\n",
    "    name='batch_norm_layer'\n",
    ")"
   ]
  },
  {
   "cell_type": "code",
   "execution_count": 8,
   "id": "781027bf",
   "metadata": {},
   "outputs": [
    {
     "name": "stdout",
     "output_type": "stream",
     "text": [
      "Model: \"cifar10_Densenet121_current\"\n",
      "_________________________________________________________________\n",
      " Layer (type)                Output Shape              Param #   \n",
      "=================================================================\n",
      " aug_layer (Sequential)      (None, 32, 32, 3)         0         \n",
      "                                                                 \n",
      " batch_norm_layer (Sequentia  (None, 32, 32, 3)        12        \n",
      " l)                                                              \n",
      "                                                                 \n",
      " densenet121 (Functional)    (None, 10)                7047754   \n",
      "                                                                 \n",
      "=================================================================\n",
      "Total params: 7,047,766\n",
      "Trainable params: 6,964,112\n",
      "Non-trainable params: 83,654\n",
      "_________________________________________________________________\n"
     ]
    }
   ],
   "source": [
    "# model: cifar10_try5_densenet121_combined6_acc77.hdf5\n",
    "''' try2: Densenet121 '''\n",
    "model = Sequential([\n",
    "    \n",
    "    # random_aug & batch_norm\n",
    "    rand_image_aug_layer,\n",
    "    batch_norm_layer,\n",
    "    \n",
    "    # main model\n",
    "    tf.keras.applications.DenseNet121(\n",
    "    include_top=True,\n",
    "    weights=None,\n",
    "    input_tensor=None,\n",
    "    input_shape=INPUT_SHAPE,\n",
    "    pooling=max,\n",
    "    classes=10\n",
    "    ),\n",
    "#     layers.Conv2D(2048, (1, 1), activation=\"relu\"),\n",
    "#     layers.Dropout(0.25),\n",
    "#     layers.Flatten(),\n",
    "#     layers.Dropout(0.5),\n",
    "#     layers.Dense(10, activation='softmax'),\n",
    "],\n",
    "    name=MODEL_NAME\n",
    ")\n",
    "model.build((None, INPUT_SHAPE[0], INPUT_SHAPE[1], INPUT_SHAPE[2]))\n",
    "model.summary()"
   ]
  },
  {
   "cell_type": "code",
   "execution_count": 9,
   "id": "08c54736",
   "metadata": {},
   "outputs": [],
   "source": [
    "# ''' try2: Densenet121 '''\n",
    "# model = Sequential([\n",
    "    \n",
    "#     # random_aug & batch_norm\n",
    "#     rand_image_aug_layer,\n",
    "# #    batch_norm_layer,\n",
    "    \n",
    "#     # main model\n",
    "#     tf.keras.applications.DenseNet121(\n",
    "#     include_top=True,\n",
    "#     weights=None,\n",
    "#     input_tensor=None,\n",
    "#     input_shape=INPUT_SHAPE,\n",
    "#     pooling=max,\n",
    "#     classes=10\n",
    "#     ),\n",
    "# #     layers.Conv2D(2048, (1, 1), activation=\"relu\"),\n",
    "# #     layers.Dropout(0.25),\n",
    "# #     layers.Flatten(),\n",
    "# #     layers.Dropout(0.5),\n",
    "# #     layers.Dense(10, activation='softmax'),\n",
    "# ],\n",
    "#     name=MODEL_NAME\n",
    "# )\n",
    "# model.build((None, INPUT_SHAPE[0], INPUT_SHAPE[1], INPUT_SHAPE[2]))\n",
    "# model.summary()"
   ]
  },
  {
   "cell_type": "code",
   "execution_count": 10,
   "id": "961ca67c",
   "metadata": {},
   "outputs": [],
   "source": [
    "loss_fn = tf.losses.CategoricalCrossentropy(from_logits=False) ##\n",
    "optimizer = tf.optimizers.Adam(learning_rate=LR)\n",
    "\n",
    "model.compile(optimizer=optimizer, loss=loss_fn, metrics=['acc'])"
   ]
  },
  {
   "cell_type": "markdown",
   "id": "7c6813e1",
   "metadata": {},
   "source": [
    "## 2. Image Preprocessing\n",
    "\n",
    "- 我們對原先的image進行各種可能的轉換，以下的cell是從Albumentations的package內的preprocessing function對cifar10 dataset的各種實驗紀錄，分別為training/val acc[epochs]。\n",
    "\n",
    "- 實驗發現和channels、色調有關，或是pixel-wise的operation的表現很不錯，而單純flip, rotate沒什麼用。\n",
    "\n",
    "- 最終採用color jitter + channel shuffle的組合，對image進行亮度、色調等的轉換，再random permutate channel的順序\n",
    "\n",
    "- 由於時間有些緊迫，於是我們在cifar10上試驗出一組較好的combination後，就將相同的方法套用到Imagenet上面。所以兩個dataset的preprocessing是一樣的"
   ]
  },
  {
   "cell_type": "code",
   "execution_count": 1,
   "id": "9ec4386c",
   "metadata": {},
   "outputs": [],
   "source": [
    "''' baseline of x_train: 0.5/0.27[1] ~ 0.94/0.33[4] '''\n",
    "'''\n",
    "0.（不能用，因為value是float）FancyPCA (alpha=0.1, always_apply=False, p=0.5): X\n",
    "\n",
    "1. (效果超好！)A.HueSaturationValue (hue_shift_limit=(-40./255, -40./255), sat_shift_limit=(-60./255, -60./255), \n",
    "val_shift_limit=(-40./255, -40./255), always_apply=False, p=1)\n",
    ": 0.41/0.15[1] -> 0.86/0.60[7] -> 0.99/0.66[31]\n",
    "\n",
    "2. (還行)A.ChannelDropout (channel_drop_range=(1, 1), fill_value=0, always_apply=False, p=1)\n",
    ": 0.28/0.29[1] -> 0.85/0.38[7] -> 0.95/0.40[10]\n",
    "\n",
    "3. (bad)A.Downscale (scale_min=0.1, scale_max=0.1, interpolation=cv2.INTER_NEAREST, always_apply=False, p=1)\n",
    ": 0.47/0.24[1] -> 0.94/0.18[4]\n",
    "\n",
    "4. (bad)A.Emboss (alpha=(0.2, 0.5), strength=(0.2, 0.7), always_apply=False, p=1)\n",
    ": 0.49/0.23 -> 0.95/0.25[4]\n",
    "\n",
    "5. (還不錯)A.ColorJitter (brightness=0.1, contrast=0.2, saturation=0.3, hue=0.2, always_apply=False, p=1)\n",
    ": 0.41/0.27[1] -> 0.89/0.46[6]\n",
    "\n",
    "6. (bad)A.RandomBrightnessContrast (brightness_limit=0.1, contrast_limit=0.2, brightness_by_max=True, always_apply=False, p=1)\n",
    ": 0.49/0.26[1] -> 0.93/0.26[4]\n",
    "\n",
    "7. (超棒！)A.ChannelShuffle(p=1.0)\n",
    ": 0.38/0.24[1] -> 0.84/0.59[8] -> 1.0/0.72[50?]\n",
    "(有把training data存下來了('channelShuffle_data.npy')，因為怕是random channelShuffle剛好有不錯的結果)(QQ被我自己洗掉了)\n",
    "\n",
    "8.（普通）A.GridDistortion (num_steps=5, distort_limit=0.3, interpolation=1, border_mode=4, value=None, mask_value=None, always_apply=False, p=1)\n",
    ": 0.44/0.25[1] -> 0.92/0.37[6] -> 0.95/0.32[10]\n",
    "\n",
    "9. (沒用)HorizontalFlip(p=0.1)\n",
    ": 0.50/0.27[1] -> 0.92/0.29[3]\n",
    "實驗證明，flip在這個task根本沒有幫助\n",
    "\n",
    "10.（普通）A.RGBShift (r_shift_limit=(-40./255, 40./255), g_shift_limit=(-40./255, 40./255), b_shift_limit=(-40./255, 40./255), always_apply=False, p=1.0)\n",
    ": 0.9/0.37[6]\n",
    "跟shift的value有關\n",
    "\n",
    "11. (不錯呦！)A.ToGray(p=1.0)\n",
    ": 0.39/0.29[1] -> 0.86/0.55[8]\n",
    "\n",
    "12. (不錯呦！)A.ToSepia (always_apply=False, p=1.0)\n",
    ": 0.39/0.18[1] -> 0.79/0.52[6] -> 0.96/0.57[11]\n",
    "train epochs要多點, lr小點，太大會overshoot\n",
    "\n",
    "13. (bad)A.Superpixels (p_replace=0.1, n_segments=100, max_size=32, interpolation=1, always_apply=False, p=1.0)\n",
    ": 0.53/0.21[1] -> 0.97/0.29[9]\n",
    "\n",
    "# combined result:\n",
    "\n",
    "1. ((1, 7, 7, 11, 12), (5)), with data比例(1: 1: 0.5: 1: 1: 0.5)\n",
    ": 1.00/0.7374[68]\n",
    "和7.沒什麼差\n",
    "\n",
    "2. (1, 7) with (1: 1)\n",
    ": 0.99/0.70[13]\n",
    "\n",
    "3. (1.+7.)\n",
    ": 0.97/0.68[16]\n",
    "\n",
    "4. (7., 7.) with (1: 1)\n",
    ": 1.00/0.72[33]\n",
    "\n",
    "5. （很棒！）(5.+7.) \n",
    ": ?/?[1] -> 0.?/0.?[9] -> 0.?/0.?[20]\n",
    "- 用ReduceLROnPlateau的training strategy可以在acc高的時候，依舊能改善acc而不一直overshoot\n",
    "\n",
    "6. dropchannel (6-1)種?\n",
    "\n",
    "\n",
    "'''"
   ]
  },
  {
   "cell_type": "code",
   "execution_count": 11,
   "id": "8e3a9823",
   "metadata": {},
   "outputs": [],
   "source": [
    "import albumentations as A\n",
    "import cv2"
   ]
  },
  {
   "cell_type": "code",
   "execution_count": 12,
   "id": "63813b60",
   "metadata": {},
   "outputs": [],
   "source": [
    "''' define types of transformer of images '''\n",
    "\n",
    "transformer_try = A.Compose([   \n",
    "#    A.ChannelDropout (channel_drop_range=(1, 1), fill_value=0, always_apply=False, p=1)\n",
    "#    A.Downscale (scale_min=0.1, scale_max=0.9, interpolation=cv2.INTER_NEAREST, always_apply=False, p=1),\n",
    "#    A.Emboss (alpha=(0.2, 0.5), strength=(0.2, 0.7), always_apply=False, p=1),\n",
    "#    A.ColorJitter (brightness=0.1, contrast=0.2, saturation=0.3, hue=0.2, always_apply=False, p=1)\n",
    "#    A.Posterize (num_bits=4, always_apply=False, p=1) #不能用\n",
    "#    A.RandomBrightnessContrast (brightness_limit=0.1, contrast_limit=0.2, brightness_by_max=True, always_apply=False, p=1)\n",
    "#    A.Equalize (mode='cv', by_channels=True, mask=None, mask_params=(), always_apply=False, p=1) #不能用\n",
    "#    A.ChannelShuffle(p=1.0)\n",
    "#    A.GridDistortion (num_steps=3, interpolation=cv2.INTER_NEAREST, border_mode=4, value=None, mask_value=None, always_apply=False, p=1)\n",
    "#    A.ISONoise (color_shift=(0.01, 0.05), intensity=(0.1, 0.5), always_apply=False, p=1.0) #不能用\n",
    "#    A.HorizontalFlip(p=1.0)\n",
    "#    A.RGBShift (r_shift_limit=(-40./255, 40./255), g_shift_limit=(-40./255, 40./255), b_shift_limit=(-40./255, 40./255), always_apply=False, p=1.0)\n",
    "#    A.ToGray(p=1.0),\n",
    "#    A.Sharpen (alpha=(0.3, 0.5), lightness=(0.8, 1.0), always_apply=False, p=1.0)\n",
    "#    A.ToSepia (always_apply=False, p=1.0)\n",
    "#    A.Superpixels (p_replace=0.1, n_segments=100, max_size=32, interpolation=1, always_apply=False, p=1.0)\n",
    "    \n",
    "    \n",
    "],  p=1)\n",
    "\n",
    "\n",
    "transformer1 = A.Compose([   \n",
    "    A.HueSaturationValue (hue_shift_limit=(-40./255, -40./255), sat_shift_limit=(-60./255, -60./255), val_shift_limit=(-40./255, -40./255), always_apply=False, p=1)\n",
    "],  p=1)\n",
    "\n",
    "transformer7 = A.Compose([   \n",
    "    A.ChannelShuffle(p=1.0)\n",
    "],  p=1)\n",
    "\n",
    "transformer11 = A.Compose([   \n",
    "    A.ToGray(p=1.0)\n",
    "],  p=1)\n",
    "\n",
    "transformer12 = A.Compose([   \n",
    "    A.ToSepia (always_apply=False, p=1.0)\n",
    "],  p=1)\n",
    "\n",
    "transformer5 = A.Compose([   \n",
    "    A.ColorJitter (brightness=0.1, contrast=0.2, saturation=0.3, hue=0.2, always_apply=False, p=1)\n",
    "],  p=1)\n",
    "\n",
    "# combined_?\n",
    "transformer7_11 = A.Compose([   \n",
    "    A.ChannelShuffle(p=1.0),\n",
    "    A.ToGray(p=1.0)\n",
    "],  p=1)\n",
    "\n",
    "# combined_6\n",
    "transformer5_7 = A.Compose([   \n",
    "    A.ColorJitter (brightness=0.1, contrast=0.25, saturation=0.25, hue=0.35, always_apply=False, p=1),\n",
    "    A.ChannelShuffle(p=1.0)\n",
    "],  p=1)\n",
    "\n",
    "# combined_7\n",
    "transformer1_7 = A.Compose([   \n",
    "    A.HueSaturationValue (hue_shift_limit=(-40./255, 40./255), sat_shift_limit=(-60./255, 60./255), val_shift_limit=(-40./255, 40./255), always_apply=False, p=1),\n",
    "    A.ChannelShuffle(p=1.0)\n",
    "],  p=1)\n"
   ]
  },
  {
   "cell_type": "code",
   "execution_count": 13,
   "id": "c35486d7",
   "metadata": {},
   "outputs": [
    {
     "data": {
      "text/plain": [
       "<matplotlib.image.AxesImage at 0x7f92540b2610>"
      ]
     },
     "execution_count": 13,
     "metadata": {},
     "output_type": "execute_result"
    },
    {
     "data": {
      "image/png": "[encoded data removed]",
      "text/plain": [
       "<Figure size 432x288 with 1 Axes>"
      ]
     },
     "metadata": {
      "needs_background": "light"
     },
     "output_type": "display_data"
    }
   ],
   "source": [
    "# plot transformer_try\n",
    "plt.imshow(transformer_try(image = x_train[0])['image'])"
   ]
  },
  {
   "cell_type": "markdown",
   "id": "5707e7c7",
   "metadata": {},
   "source": [
    "### Create transformed training data & Concatenate those data"
   ]
  },
  {
   "cell_type": "code",
   "execution_count": 15,
   "id": "8086756d",
   "metadata": {},
   "outputs": [],
   "source": [
    "def transformed_ds(img_ds, transformer):\n",
    "    num = len(img_ds)\n",
    "    transform_img_ds = []\n",
    "    \n",
    "    for i in range(num):\n",
    "        img_dic = transformer(image = img_ds[i])\n",
    "        transform_img_ds.append(img_dic['image'])\n",
    "        \n",
    "    return np.array(transform_img_ds)"
   ]
  },
  {
   "cell_type": "code",
   "execution_count": 16,
   "id": "118281f3",
   "metadata": {},
   "outputs": [],
   "source": [
    "def create_transformed_data(x_train, y_train, transformer_list, num_data_apply_list):\n",
    "    x_trans_list = []\n",
    "    y_trans_list = []\n",
    "    \n",
    "    for i in range(len(transformer_list)):\n",
    "        x_trans_list.append(transformed_ds(x_train, transformer_list[i])[ : num_data_apply_list[i]])\n",
    "        y_trans_list.append(y_train[ : num_data_apply_list[i]])\n",
    "        \n",
    "#     for transformer in transformer_list:\n",
    "#         x_trans.append(transformed_ds(x_train, transformer))\n",
    "#         y_trans = np.concatenate((y_train , y_train))\n",
    "    \n",
    "    return np.array(np.concatenate(x_trans_list)), np.array(np.concatenate(y_trans_list))"
   ]
  },
  {
   "cell_type": "code",
   "execution_count": 17,
   "id": "51d8a359",
   "metadata": {},
   "outputs": [],
   "source": [
    "# combined_1\n",
    "# transformer_list = [transformer1, transformer7, transformer7, transformer11, transformer12, transformer5]\n",
    "# num_data_apply_list = [len(x_train), len(x_train), len(x_train)//2, len(x_train), len(x_train), len(x_train)//2]\n",
    "\n",
    "# combined_2\n",
    "# transformer_list = [transformer1, transformer7]\n",
    "# num_data_apply_list = [len(x_train), len(x_train)]\n",
    "\n",
    "# combined_3\n",
    "# transformer_list = [transformer7_11]\n",
    "# num_data_apply_list = [len(x_train)]\n",
    "\n",
    "# combined_4\n",
    "# transformer_list = [transformer7, transformer7]\n",
    "# num_data_apply_list = [len(x_train), len(x_train)]\n",
    "\n",
    "# combined_6\n",
    "# orignal params(A.ColorJitter (brightness=0.1, contrast=0.2, saturation=0.3, hue=0.2, always_apply=False, p=1) // val:.98, submit: .94\n",
    "# new: A.ColorJitter     A.ColorJitter (brightness=0.1, contrast=0.25, saturation=0.25, hue=0.35, always_apply=False, p=1),\n",
    "## now is pretrained on original using new instance!\n",
    "\n",
    "transformer_list = [transformer5_7]\n",
    "num_data_apply_list = [len(x_train)]\n",
    "\n",
    "# combined_7\n",
    "# transformer_list = [transformer1_7, transformer5_7]\n",
    "# num_data_apply_list = [len(x_train), len(x_train)]\n",
    "\n",
    "x_train_trans, y_train_trans = create_transformed_data(x_train, y_train, transformer_list, num_data_apply_list)"
   ]
  },
  {
   "cell_type": "code",
   "execution_count": 18,
   "id": "6f435d2f",
   "metadata": {},
   "outputs": [
    {
     "name": "stdout",
     "output_type": "stream",
     "text": [
      "(40000, 32, 32, 3)\n"
     ]
    }
   ],
   "source": [
    "print(x_train_trans.shape)"
   ]
  },
  {
   "cell_type": "code",
   "execution_count": 19,
   "id": "28bafa20",
   "metadata": {},
   "outputs": [
    {
     "data": {
      "text/plain": [
       "<matplotlib.image.AxesImage at 0x7f9244773cd0>"
      ]
     },
     "execution_count": 19,
     "metadata": {},
     "output_type": "execute_result"
    },
    {
     "data": {
      "image/png": "[encoded data removed]",
      "text/plain": [
       "<Figure size 432x288 with 1 Axes>"
      ]
     },
     "metadata": {
      "needs_background": "light"
     },
     "output_type": "display_data"
    }
   ],
   "source": [
    "# original\n",
    "plt.imshow(x_train[0])"
   ]
  },
  {
   "cell_type": "markdown",
   "id": "ae2c1e3a",
   "metadata": {},
   "source": [
    "### plot one of transformed training data"
   ]
  },
  {
   "cell_type": "code",
   "execution_count": 21,
   "id": "a4a4c846",
   "metadata": {},
   "outputs": [
    {
     "data": {
      "text/plain": [
       "<matplotlib.image.AxesImage at 0x7f92446ea5e0>"
      ]
     },
     "execution_count": 21,
     "metadata": {},
     "output_type": "execute_result"
    },
    {
     "data": {
      "image/png": "[encoded data removed]",
      "text/plain": [
       "<Figure size 432x288 with 1 Axes>"
      ]
     },
     "metadata": {
      "needs_background": "light"
     },
     "output_type": "display_data"
    }
   ],
   "source": [
    "# transformed\n",
    "plt.imshow(x_train_trans[0])"
   ]
  },
  {
   "cell_type": "markdown",
   "id": "ef2a151b",
   "metadata": {},
   "source": []
  },
  {
   "cell_type": "code",
   "execution_count": 28,
   "id": "9087db3f",
   "metadata": {},
   "outputs": [],
   "source": [
    "# model.load_weights('cifar10_Densenet121_combine_1.hdf5')"
   ]
  },
  {
   "cell_type": "code",
   "execution_count": 30,
   "id": "eab6bff3",
   "metadata": {},
   "outputs": [],
   "source": [
    "# with open('ChannelShuffle_data.npy', 'wb') as f:\n",
    "#     np.save(f, x_train_trans)"
   ]
  },
  {
   "cell_type": "code",
   "execution_count": 31,
   "id": "50177ad8",
   "metadata": {},
   "outputs": [],
   "source": [
    "# try to load pretrained model before\n",
    "#model.load_weights('cifar10_try5_densenet121_combined6_acc77.hdf5') "
   ]
  },
  {
   "cell_type": "markdown",
   "id": "35c76c1f",
   "metadata": {},
   "source": [
    "## 3. Start Training"
   ]
  },
  {
   "cell_type": "code",
   "execution_count": 33,
   "id": "e855db83",
   "metadata": {
    "scrolled": false
   },
   "outputs": [
    {
     "name": "stdout",
     "output_type": "stream",
     "text": [
      "Epoch 1/35\n",
      "625/625 [==============================] - ETA: 0s - loss: 1.7957 - acc: 0.3557\n",
      "Epoch 00001: val_acc improved from -inf to 0.37470, saving model to cifar10_Densenet121_current.hdf5\n",
      "625/625 [==============================] - 227s 351ms/step - loss: 1.7957 - acc: 0.3557 - val_loss: 2.4676 - val_acc: 0.3747 - lr: 0.0010\n",
      "Epoch 2/35\n",
      "625/625 [==============================] - ETA: 0s - loss: 1.3208 - acc: 0.5354\n",
      "Epoch 00002: val_acc improved from 0.37470 to 0.45300, saving model to cifar10_Densenet121_current.hdf5\n",
      "625/625 [==============================] - 203s 325ms/step - loss: 1.3208 - acc: 0.5354 - val_loss: 1.7410 - val_acc: 0.4530 - lr: 0.0010\n",
      "Epoch 3/35\n",
      "625/625 [==============================] - ETA: 0s - loss: 1.1057 - acc: 0.6155\n",
      "Epoch 00003: val_acc improved from 0.45300 to 0.61840, saving model to cifar10_Densenet121_current.hdf5\n",
      "625/625 [==============================] - 217s 347ms/step - loss: 1.1057 - acc: 0.6155 - val_loss: 1.0890 - val_acc: 0.6184 - lr: 0.0010\n",
      "Epoch 4/35\n",
      "625/625 [==============================] - ETA: 0s - loss: 0.9907 - acc: 0.6559\n",
      "Epoch 00004: val_acc did not improve from 0.61840\n",
      "625/625 [==============================] - 215s 345ms/step - loss: 0.9907 - acc: 0.6559 - val_loss: 1.7052 - val_acc: 0.4853 - lr: 0.0010\n",
      "Epoch 5/35\n",
      "625/625 [==============================] - ETA: 0s - loss: 0.9066 - acc: 0.6892\n",
      "Epoch 00005: val_acc improved from 0.61840 to 0.62700, saving model to cifar10_Densenet121_current.hdf5\n",
      "625/625 [==============================] - 214s 342ms/step - loss: 0.9066 - acc: 0.6892 - val_loss: 1.1036 - val_acc: 0.6270 - lr: 0.0010\n",
      "Epoch 6/35\n",
      "625/625 [==============================] - ETA: 0s - loss: 0.7797 - acc: 0.7339\n",
      "Epoch 00006: val_acc improved from 0.62700 to 0.66330, saving model to cifar10_Densenet121_current.hdf5\n",
      "625/625 [==============================] - 214s 342ms/step - loss: 0.7797 - acc: 0.7339 - val_loss: 1.0340 - val_acc: 0.6633 - lr: 0.0010\n",
      "Epoch 7/35\n",
      "625/625 [==============================] - ETA: 0s - loss: 0.6873 - acc: 0.7623\n",
      "Epoch 00007: val_acc improved from 0.66330 to 0.69310, saving model to cifar10_Densenet121_current.hdf5\n",
      "625/625 [==============================] - 209s 335ms/step - loss: 0.6873 - acc: 0.7623 - val_loss: 1.0599 - val_acc: 0.6931 - lr: 0.0010\n",
      "Epoch 8/35\n",
      "625/625 [==============================] - ETA: 0s - loss: 0.8283 - acc: 0.7191\n",
      "Epoch 00008: val_acc did not improve from 0.69310\n",
      "625/625 [==============================] - 209s 335ms/step - loss: 0.8283 - acc: 0.7191 - val_loss: 0.9487 - val_acc: 0.6846 - lr: 0.0010\n",
      "Epoch 9/35\n",
      "625/625 [==============================] - ETA: 0s - loss: 0.6259 - acc: 0.7851\n",
      "Epoch 00009: val_acc improved from 0.69310 to 0.71450, saving model to cifar10_Densenet121_current.hdf5\n",
      "625/625 [==============================] - 213s 341ms/step - loss: 0.6259 - acc: 0.7851 - val_loss: 0.8584 - val_acc: 0.7145 - lr: 0.0010\n",
      "Epoch 10/35\n",
      "625/625 [==============================] - ETA: 0s - loss: 0.5324 - acc: 0.8181\n",
      "Epoch 00010: val_acc did not improve from 0.71450\n",
      "625/625 [==============================] - 213s 341ms/step - loss: 0.5324 - acc: 0.8181 - val_loss: 0.8838 - val_acc: 0.7092 - lr: 0.0010\n",
      "Epoch 11/35\n",
      "625/625 [==============================] - ETA: 0s - loss: 0.4876 - acc: 0.8296\n",
      "Epoch 00011: val_acc did not improve from 0.71450\n",
      "625/625 [==============================] - 214s 342ms/step - loss: 0.4876 - acc: 0.8296 - val_loss: 0.8941 - val_acc: 0.7086 - lr: 0.0010\n",
      "Epoch 12/35\n",
      "625/625 [==============================] - ETA: 0s - loss: 0.4519 - acc: 0.8425\n",
      "Epoch 00012: val_acc did not improve from 0.71450\n",
      "625/625 [==============================] - 210s 336ms/step - loss: 0.4519 - acc: 0.8425 - val_loss: 1.3951 - val_acc: 0.6439 - lr: 0.0010\n",
      "Epoch 13/35\n",
      "625/625 [==============================] - ETA: 0s - loss: 0.3982 - acc: 0.8628\n",
      "Epoch 00013: val_acc did not improve from 0.71450\n",
      "\n",
      "Epoch 00013: ReduceLROnPlateau reducing learning rate to 0.0005000000237487257.\n",
      "625/625 [==============================] - 214s 343ms/step - loss: 0.3982 - acc: 0.8628 - val_loss: 0.9537 - val_acc: 0.7119 - lr: 0.0010\n",
      "Epoch 14/35\n",
      "625/625 [==============================] - ETA: 0s - loss: 0.2525 - acc: 0.9144\n",
      "Epoch 00014: val_acc improved from 0.71450 to 0.75470, saving model to cifar10_Densenet121_current.hdf5\n",
      "625/625 [==============================] - 215s 344ms/step - loss: 0.2525 - acc: 0.9144 - val_loss: 0.8087 - val_acc: 0.7547 - lr: 5.0000e-04\n",
      "Epoch 15/35\n",
      "625/625 [==============================] - ETA: 0s - loss: 0.2005 - acc: 0.9332\n",
      "Epoch 00015: val_acc did not improve from 0.75470\n",
      "625/625 [==============================] - 215s 344ms/step - loss: 0.2005 - acc: 0.9332 - val_loss: 0.9036 - val_acc: 0.7468 - lr: 5.0000e-04\n",
      "Epoch 16/35\n",
      "625/625 [==============================] - ETA: 0s - loss: 0.1693 - acc: 0.9438\n",
      "Epoch 00016: val_acc did not improve from 0.75470\n",
      "625/625 [==============================] - 215s 343ms/step - loss: 0.1693 - acc: 0.9438 - val_loss: 0.9270 - val_acc: 0.7497 - lr: 5.0000e-04\n",
      "Epoch 17/35\n",
      "625/625 [==============================] - ETA: 0s - loss: 0.1490 - acc: 0.9499\n",
      "Epoch 00017: val_acc did not improve from 0.75470\n",
      "625/625 [==============================] - 214s 342ms/step - loss: 0.1490 - acc: 0.9499 - val_loss: 1.0113 - val_acc: 0.7516 - lr: 5.0000e-04\n",
      "Epoch 18/35\n",
      "625/625 [==============================] - ETA: 0s - loss: 0.1285 - acc: 0.9572\n",
      "Epoch 00018: val_acc did not improve from 0.75470\n",
      "\n",
      "Epoch 00018: ReduceLROnPlateau reducing learning rate to 0.0002500000118743628.\n",
      "625/625 [==============================] - 214s 343ms/step - loss: 0.1285 - acc: 0.9572 - val_loss: 1.0788 - val_acc: 0.7404 - lr: 5.0000e-04\n",
      "Epoch 19/35\n",
      "625/625 [==============================] - ETA: 0s - loss: 0.0705 - acc: 0.9773\n",
      "Epoch 00019: val_acc improved from 0.75470 to 0.76290, saving model to cifar10_Densenet121_current.hdf5\n",
      "625/625 [==============================] - 214s 342ms/step - loss: 0.0705 - acc: 0.9773 - val_loss: 0.9924 - val_acc: 0.7629 - lr: 2.5000e-04\n",
      "Epoch 20/35\n",
      "625/625 [==============================] - ETA: 0s - loss: 0.0484 - acc: 0.9847\n",
      "Epoch 00020: val_acc did not improve from 0.76290\n",
      "625/625 [==============================] - 214s 343ms/step - loss: 0.0484 - acc: 0.9847 - val_loss: 1.0996 - val_acc: 0.7577 - lr: 2.5000e-04\n",
      "Epoch 21/35\n",
      "625/625 [==============================] - ETA: 0s - loss: 0.0402 - acc: 0.9873\n",
      "Epoch 00021: val_acc did not improve from 0.76290\n",
      "625/625 [==============================] - 215s 344ms/step - loss: 0.0402 - acc: 0.9873 - val_loss: 1.1272 - val_acc: 0.7580 - lr: 2.5000e-04\n",
      "Epoch 22/35\n",
      "625/625 [==============================] - ETA: 0s - loss: 0.0369 - acc: 0.9887\n",
      "Epoch 00022: val_acc improved from 0.76290 to 0.76820, saving model to cifar10_Densenet121_current.hdf5\n",
      "625/625 [==============================] - 215s 344ms/step - loss: 0.0369 - acc: 0.9887 - val_loss: 1.1451 - val_acc: 0.7682 - lr: 2.5000e-04\n",
      "Epoch 23/35\n",
      "625/625 [==============================] - ETA: 0s - loss: 0.0350 - acc: 0.9888\n",
      "Epoch 00023: val_acc did not improve from 0.76820\n",
      "625/625 [==============================] - 214s 343ms/step - loss: 0.0350 - acc: 0.9888 - val_loss: 1.3325 - val_acc: 0.7461 - lr: 2.5000e-04\n",
      "Epoch 24/35\n",
      "625/625 [==============================] - ETA: 0s - loss: 0.0361 - acc: 0.9878\n",
      "Epoch 00024: val_acc did not improve from 0.76820\n",
      "625/625 [==============================] - 216s 345ms/step - loss: 0.0361 - acc: 0.9878 - val_loss: 1.2419 - val_acc: 0.7636 - lr: 2.5000e-04\n",
      "Epoch 25/35\n",
      "625/625 [==============================] - ETA: 0s - loss: 0.0285 - acc: 0.9907\n",
      "Epoch 00025: val_acc did not improve from 0.76820\n",
      "625/625 [==============================] - 215s 345ms/step - loss: 0.0285 - acc: 0.9907 - val_loss: 1.2944 - val_acc: 0.7627 - lr: 2.5000e-04\n",
      "Epoch 26/35\n",
      "625/625 [==============================] - ETA: 0s - loss: 0.0278 - acc: 0.9907\n",
      "Epoch 00026: val_acc did not improve from 0.76820\n",
      "\n",
      "Epoch 00026: ReduceLROnPlateau reducing learning rate to 0.0001250000059371814.\n",
      "625/625 [==============================] - 215s 344ms/step - loss: 0.0278 - acc: 0.9907 - val_loss: 1.3307 - val_acc: 0.7616 - lr: 2.5000e-04\n",
      "Epoch 27/35\n",
      "625/625 [==============================] - ETA: 0s - loss: 0.0149 - acc: 0.9955\n",
      "Epoch 00027: val_acc did not improve from 0.76820\n",
      "625/625 [==============================] - 215s 344ms/step - loss: 0.0149 - acc: 0.9955 - val_loss: 1.2815 - val_acc: 0.7664 - lr: 1.2500e-04\n",
      "Epoch 28/35\n",
      "625/625 [==============================] - ETA: 0s - loss: 0.0093 - acc: 0.9975\n",
      "Epoch 00028: val_acc improved from 0.76820 to 0.77120, saving model to cifar10_Densenet121_current.hdf5\n",
      "625/625 [==============================] - 215s 344ms/step - loss: 0.0093 - acc: 0.9975 - val_loss: 1.3265 - val_acc: 0.7712 - lr: 1.2500e-04\n",
      "Epoch 29/35\n",
      "625/625 [==============================] - ETA: 0s - loss: 0.0082 - acc: 0.9977\n",
      "Epoch 00029: val_acc did not improve from 0.77120\n",
      "625/625 [==============================] - 212s 340ms/step - loss: 0.0082 - acc: 0.9977 - val_loss: 1.3423 - val_acc: 0.7701 - lr: 1.2500e-04\n",
      "Epoch 30/35\n",
      "625/625 [==============================] - ETA: 0s - loss: 0.0061 - acc: 0.9986\n",
      "Epoch 00030: val_acc did not improve from 0.77120\n",
      "625/625 [==============================] - 215s 343ms/step - loss: 0.0061 - acc: 0.9986 - val_loss: 1.3669 - val_acc: 0.7703 - lr: 1.2500e-04\n",
      "Epoch 31/35\n",
      "625/625 [==============================] - ETA: 0s - loss: 0.0083 - acc: 0.9974\n",
      "Epoch 00031: val_acc did not improve from 0.77120\n",
      "625/625 [==============================] - 214s 343ms/step - loss: 0.0083 - acc: 0.9974 - val_loss: 1.4461 - val_acc: 0.7634 - lr: 1.2500e-04\n",
      "Epoch 32/35\n",
      "625/625 [==============================] - ETA: 0s - loss: 0.0081 - acc: 0.9977\n",
      "Epoch 00032: val_acc did not improve from 0.77120\n",
      "\n",
      "Epoch 00032: ReduceLROnPlateau reducing learning rate to 6.25000029685907e-05.\n",
      "625/625 [==============================] - 215s 344ms/step - loss: 0.0081 - acc: 0.9977 - val_loss: 1.4701 - val_acc: 0.7663 - lr: 1.2500e-04\n",
      "Epoch 33/35\n",
      "625/625 [==============================] - ETA: 0s - loss: 0.0047 - acc: 0.9987\n",
      "Epoch 00033: val_acc did not improve from 0.77120\n",
      "625/625 [==============================] - 215s 344ms/step - loss: 0.0047 - acc: 0.9987 - val_loss: 1.4458 - val_acc: 0.7676 - lr: 6.2500e-05\n",
      "Epoch 34/35\n",
      "625/625 [==============================] - ETA: 0s - loss: 0.0036 - acc: 0.9990\n",
      "Epoch 00034: val_acc did not improve from 0.77120\n",
      "625/625 [==============================] - 213s 341ms/step - loss: 0.0036 - acc: 0.9990 - val_loss: 1.4562 - val_acc: 0.7689 - lr: 6.2500e-05\n",
      "Epoch 35/35\n",
      "625/625 [==============================] - ETA: 0s - loss: 0.0026 - acc: 0.9996\n",
      "Epoch 00035: val_acc improved from 0.77120 to 0.77210, saving model to cifar10_Densenet121_current.hdf5\n",
      "625/625 [==============================] - 213s 341ms/step - loss: 0.0026 - acc: 0.9996 - val_loss: 1.4550 - val_acc: 0.7721 - lr: 6.2500e-05\n"
     ]
    }
   ],
   "source": [
    "from tensorflow.keras.preprocessing.image import ImageDataGenerator\n",
    "\n",
    "datagen = ImageDataGenerator(featurewise_center=False,  \n",
    "                                             samplewise_center=False, \n",
    "                                             featurewise_std_normalization=False, \n",
    "                                             samplewise_std_normalization=False, \n",
    "                                             zca_whitening=False, ## val只有0.1\n",
    "                                             zca_epsilon=1e-06, \n",
    "                                             rotation_range=0.0, \n",
    "                                             width_shift_range=0.0, ## 0.2\n",
    "                                             height_shift_range=0.0, ## 0.1\n",
    "                                             brightness_range=None, ## 不要用，很爛\n",
    "                                             shear_range=0.0, \n",
    "                                             zoom_range=0.0, \n",
    "                                             channel_shift_range=0.0, \n",
    "                                             fill_mode='nearest', \n",
    "                                             cval=0.0, \n",
    "                                             horizontal_flip=False, \n",
    "                                             vertical_flip=False, ## 不要用，非常糟\n",
    "                                             rescale=None, \n",
    "                                             preprocessing_function=None, \n",
    "                                             data_format=None, \n",
    "                                             validation_split=0.0, \n",
    "                                             dtype=None)\n",
    "\n",
    "# datagen = ImageDataGenerator(\n",
    "#     rotation_range=0,\n",
    "#     width_shift_range=0.0,\n",
    "#     height_shift_range=0.0)\n",
    "\n",
    "# compute quantities required for featurewise normalization\n",
    "# (std, mean, and principal components if ZCA whitening is applied)\n",
    "datagen.fit(x_train_trans, augment=True, rounds=2, seed=None)\n",
    "\n",
    "# fits the model on batches with real-time data augmentation:\n",
    "show_augmented_result_dir = './ImageDataGenerator_result'\n",
    "\n",
    "history = model.fit(datagen.flow(x_train_trans, y_train_trans, batch_size=BATCH_SIZE, shuffle=True), shuffle=True,\n",
    "                              steps_per_epoch=len(x_train_trans)/BATCH_SIZE, epochs=EPOCHS,\n",
    "                              validation_data=(x_val, y_val),validation_steps=len(x_val)/BATCH_SIZE,\n",
    "                              callbacks=callbacks_list)\n",
    "\n"
   ]
  },
  {
   "cell_type": "code",
   "execution_count": 34,
   "id": "87ad92c6",
   "metadata": {},
   "outputs": [
    {
     "data": {
      "image/png": "[encoded data removed]",
      "text/plain": [
       "<Figure size 432x288 with 1 Axes>"
      ]
     },
     "metadata": {
      "needs_background": "light"
     },
     "output_type": "display_data"
    }
   ],
   "source": [
    "plt.plot(history.history['acc'])\n",
    "plt.plot(history.history['val_acc'])\n",
    "plt.title('model accuracy')\n",
    "plt.ylabel('accuracy')\n",
    "plt.xlabel('epoch')\n",
    "plt.legend(['train', 'test'], loc='upper left')\n",
    "plt.savefig('./output_training_plot/densenet121_try5_current', dpi='figure')\n",
    "plt.show()"
   ]
  },
  {
   "cell_type": "markdown",
   "id": "d766a3cd",
   "metadata": {},
   "source": [
    "## Testing data output"
   ]
  },
  {
   "cell_type": "code",
   "execution_count": 35,
   "id": "d853fde4",
   "metadata": {},
   "outputs": [],
   "source": [
    "model.load_weights(MODEL_PATH)"
   ]
  },
  {
   "cell_type": "code",
   "execution_count": 36,
   "id": "a9a80dac",
   "metadata": {},
   "outputs": [],
   "source": [
    "x_test = np.load('./datalab-cup4-unlearnable-datasets-cifar-10/x_test_cifar10.npy')"
   ]
  },
  {
   "cell_type": "code",
   "execution_count": 37,
   "id": "5bc862df",
   "metadata": {},
   "outputs": [],
   "source": [
    "# train_mean = np.mean(x_train_trans, axis=(0, 1, 2))\n",
    "# train_std = np.std(x_train_trans, axis=(0, 1, 2))\n",
    "\n",
    "# x_test = (x_test-mean)/std\n",
    "\n",
    "# # # normalize\n",
    "# # mean = np.mean(x_train, axis=(0, 1, 2))\n",
    "# # std = np.std(x_train, axis=(0, 1, 2))\n",
    "\n",
    "# # x_train3 = (x_train - mean) / std\n",
    "# # x_val3 = (x_val - mean) / std"
   ]
  },
  {
   "cell_type": "code",
   "execution_count": 38,
   "id": "ed49e183",
   "metadata": {},
   "outputs": [
    {
     "name": "stdout",
     "output_type": "stream",
     "text": [
      "157/157 [==============================] - 14s 85ms/step\n"
     ]
    }
   ],
   "source": [
    "y_test = np.argmax(model.predict(x_test, batch_size=BATCH_SIZE, verbose=1), axis=1).tolist()"
   ]
  },
  {
   "cell_type": "code",
   "execution_count": 39,
   "id": "4ae7c8f3",
   "metadata": {},
   "outputs": [],
   "source": [
    "id_csv = [i for i in range(len(y_test))]\n",
    "df = pd.DataFrame(list(zip(id_csv,y_test)), columns = ['id','label'])\n",
    "df.to_csv('./output_csv/cifar10_try5_densenet121_current.csv', index=False)"
   ]
  },
  {
   "cell_type": "markdown",
   "id": "1ea7addc",
   "metadata": {},
   "source": [
    "## Reference:\n",
    "\n",
    "## image preprocessing\n",
    "\n",
    "### Albumentations package preprocessing function\n",
    "https://albumentations.ai/docs/api_reference/augmentations/transforms/#albumentations.augmentations.transforms.FancyPCA\n",
    "\n",
    "https://hackmd.io/@allen108108/SyCsOIkxB\n",
    "\n",
    "https://www.tensorflow.org/api_docs/python/tf/keras/preprocessing/image/ImageDataGenerator\n",
    "\n",
    "https://keras.io/zh/preprocessing/image/\n",
    "\n",
    "http://www.tisv.cn/14/\n",
    "\n",
    "### ImageDataGenerator:\n",
    "\n",
    "https://www.tensorflow.org/api_docs/python/tf/keras/preprocessing/image/ImageDataGenerator"
   ]
  },
  {
   "cell_type": "code",
   "execution_count": null,
   "id": "1a219824",
   "metadata": {},
   "outputs": [],
   "source": []
  },
  {
   "cell_type": "markdown",
   "id": "9847196c",
   "metadata": {},
   "source": [
    "#### "
   ]
  }
 ],
 "metadata": {
  "kernelspec": {
   "display_name": "Python 3.9 (tf_dl)",
   "language": "python",
   "name": "tensorflow"
  },
  "language_info": {
   "codemirror_mode": {
    "name": "ipython",
    "version": 3
   },
   "file_extension": ".py",
   "mimetype": "text/x-python",
   "name": "python",
   "nbconvert_exporter": "python",
   "pygments_lexer": "ipython3",
   "version": "3.9.7"
  }
 },
 "nbformat": 4,
 "nbformat_minor": 5
}
