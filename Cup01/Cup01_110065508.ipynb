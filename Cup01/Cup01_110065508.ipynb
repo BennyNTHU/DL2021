{
 "cells": [
  {
   "cell_type": "code",
   "execution_count": 1,
   "id": "fee524c5",
   "metadata": {},
   "outputs": [],
   "source": [
    "# Hyperparameters\n",
    "debug = False\n",
    "MIN = 1 # n-gram\n",
    "MAX = 1 # n-gram\n",
    "MAX_DF = 0.6\n",
    "HASH_POWER = 10 # hash to 2**HASH_POWER features"
   ]
  },
  {
   "cell_type": "code",
   "execution_count": 2,
   "id": "ce311235",
   "metadata": {},
   "outputs": [],
   "source": [
    "%matplotlib inline\n",
    "\n",
    "import matplotlib.pyplot as plt\n",
    "import numpy as np\n",
    "import scipy as sp\n",
    "import pandas as pd\n",
    "import re\n",
    "import nltk\n",
    "import os\n",
    "import xgboost as xgb\n",
    "import datetime\n",
    "\n",
    "from xgboost import XGBClassifier\n",
    "from tqdm import tqdm\n",
    "from bs4 import BeautifulSoup\n",
    "from summa import keywords\n",
    "from summa.summarizer import summarize\n",
    "from nltk.corpus import stopwords\n",
    "from nltk.stem.porter import PorterStemmer\n",
    "from sklearn.feature_extraction.text import CountVectorizer, TfidfVectorizer, HashingVectorizer\n",
    "from sklearn.model_selection import train_test_split\n",
    "from sklearn.preprocessing import OneHotEncoder, StandardScaler\n",
    "from sklearn.discriminant_analysis import LinearDiscriminantAnalysis as LDA\n",
    "from sklearn.decomposition import PCA\n",
    "from sklearn.model_selection import GridSearchCV, cross_val_score\n",
    "from sklearn.linear_model import LogisticRegression\n",
    "from sklearn.pipeline import make_pipeline\n",
    "from time import strptime\n",
    "from cup01 import *"
   ]
  },
  {
   "cell_type": "code",
   "execution_count": 3,
   "id": "6b2afffc",
   "metadata": {},
   "outputs": [],
   "source": [
    "if not os.path.exists(\"output/\") : os.mkdir(\"output/\")"
   ]
  },
  {
   "cell_type": "markdown",
   "id": "3b60804d",
   "metadata": {},
   "source": [
    "## 一. 資料前處理\n",
    "首先先引入dataset"
   ]
  },
  {
   "cell_type": "markdown",
   "id": "66d62373",
   "metadata": {},
   "source": [
    "### 1.1 清掉所有的html tag"
   ]
  },
  {
   "cell_type": "code",
   "execution_count": 4,
   "id": "dd400ffc",
   "metadata": {},
   "outputs": [],
   "source": [
    "def preprocessor(text):\n",
    "    # remove HTML tags\n",
    "    text = BeautifulSoup(text, 'html.parser').get_text()\n",
    "    \n",
    "    # regex for matching emoticons, keep emoticons, ex: :), :-P, :-D\n",
    "    r = '(?::|;|=|X)(?:-)?(?:\\)|\\(|D|P)'\n",
    "    emoticons = re.findall(r, text)\n",
    "    text = re.sub(r, '', text)\n",
    "    \n",
    "    # convert to lowercase and append all emoticons behind (with space in between)\n",
    "    # replace('-','') removes nose of emoticons\n",
    "    text = re.sub('[\\W]+', ' ', text.lower()) + ' ' + ' '.join(emoticons).replace('-','')\n",
    "    return text"
   ]
  },
  {
   "cell_type": "markdown",
   "id": "98aaabd5",
   "metadata": {},
   "source": [
    "### 1.2 定義tokenize+波特詞幹還原演算法+刪除停用字"
   ]
  },
  {
   "cell_type": "code",
   "execution_count": 5,
   "id": "d419e143",
   "metadata": {},
   "outputs": [
    {
     "name": "stdout",
     "output_type": "stream",
     "text": [
      "['runner', 'like', 'run', 'thu', 'run']\n"
     ]
    },
    {
     "name": "stderr",
     "output_type": "stream",
     "text": [
      "[nltk_data] Downloading package stopwords to /home/benny/nltk_data...\n",
      "[nltk_data]   Package stopwords is already up-to-date!\n"
     ]
    }
   ],
   "source": [
    "nltk.download('stopwords')\n",
    "stop = stopwords.words('english')\n",
    "stop = stop + extra_stopwords()\n",
    "\n",
    "def tokenizer_stem_nostop(text):\n",
    "    porter = PorterStemmer()\n",
    "    return [porter.stem(w) for w in re.split('\\s+', text.strip()) \\\n",
    "            if w not in stop and re.match('[a-zA-Z]+', w)]\n",
    "\n",
    "print(tokenizer_stem_nostop('runners like running and thus they run')) # Test if it works"
   ]
  },
  {
   "cell_type": "markdown",
   "id": "2fa74563",
   "metadata": {},
   "source": [
    "### 1.3 分析文章基本性質\n",
    "例如作者,圖片數量等等"
   ]
  },
  {
   "cell_type": "code",
   "execution_count": 6,
   "id": "00422646",
   "metadata": {},
   "outputs": [],
   "source": [
    "df1 = pd.read_csv('./input/train.csv')\n",
    "df2 = pd.read_csv('./input/test.csv')\n",
    "df2['Popularity'] = np.zeros(len(df2))\n",
    "df = pd.concat([df1,df2])\n",
    "train_length = len(df1)\n",
    "test_length = len(df2)\n",
    "del df1, df2"
   ]
  },
  {
   "cell_type": "code",
   "execution_count": 7,
   "id": "46156675",
   "metadata": {},
   "outputs": [
    {
     "data": {
      "text/html": [
       "<div>\n",
       "<style scoped>\n",
       "    .dataframe tbody tr th:only-of-type {\n",
       "        vertical-align: middle;\n",
       "    }\n",
       "\n",
       "    .dataframe tbody tr th {\n",
       "        vertical-align: top;\n",
       "    }\n",
       "\n",
       "    .dataframe thead th {\n",
       "        text-align: right;\n",
       "    }\n",
       "</style>\n",
       "<table border=\"1\" class=\"dataframe\">\n",
       "  <thead>\n",
       "    <tr style=\"text-align: right;\">\n",
       "      <th></th>\n",
       "      <th>Id</th>\n",
       "      <th>Popularity</th>\n",
       "      <th>Page content</th>\n",
       "    </tr>\n",
       "  </thead>\n",
       "  <tbody>\n",
       "    <tr>\n",
       "      <th>0</th>\n",
       "      <td>0</td>\n",
       "      <td>-1.0</td>\n",
       "      <td>&lt;html&gt;&lt;head&gt;&lt;div class=\"article-info\"&gt; &lt;span c...</td>\n",
       "    </tr>\n",
       "    <tr>\n",
       "      <th>1</th>\n",
       "      <td>1</td>\n",
       "      <td>1.0</td>\n",
       "      <td>&lt;html&gt;&lt;head&gt;&lt;div class=\"article-info\"&gt;&lt;span cl...</td>\n",
       "    </tr>\n",
       "    <tr>\n",
       "      <th>2</th>\n",
       "      <td>2</td>\n",
       "      <td>1.0</td>\n",
       "      <td>&lt;html&gt;&lt;head&gt;&lt;div class=\"article-info\"&gt;&lt;span cl...</td>\n",
       "    </tr>\n",
       "    <tr>\n",
       "      <th>3</th>\n",
       "      <td>3</td>\n",
       "      <td>-1.0</td>\n",
       "      <td>&lt;html&gt;&lt;head&gt;&lt;div class=\"article-info\"&gt;&lt;span cl...</td>\n",
       "    </tr>\n",
       "    <tr>\n",
       "      <th>4</th>\n",
       "      <td>4</td>\n",
       "      <td>-1.0</td>\n",
       "      <td>&lt;html&gt;&lt;head&gt;&lt;div class=\"article-info\"&gt;&lt;span cl...</td>\n",
       "    </tr>\n",
       "  </tbody>\n",
       "</table>\n",
       "</div>"
      ],
      "text/plain": [
       "   Id  Popularity                                       Page content\n",
       "0   0        -1.0  <html><head><div class=\"article-info\"> <span c...\n",
       "1   1         1.0  <html><head><div class=\"article-info\"><span cl...\n",
       "2   2         1.0  <html><head><div class=\"article-info\"><span cl...\n",
       "3   3        -1.0  <html><head><div class=\"article-info\"><span cl...\n",
       "4   4        -1.0  <html><head><div class=\"article-info\"><span cl..."
      ]
     },
     "execution_count": 7,
     "metadata": {},
     "output_type": "execute_result"
    }
   ],
   "source": [
    "df.head(5)"
   ]
  },
  {
   "cell_type": "code",
   "execution_count": 8,
   "id": "af8b1d91",
   "metadata": {},
   "outputs": [],
   "source": [
    "df_train_contents = df['Page content'].values.tolist()"
   ]
  },
  {
   "cell_type": "code",
   "execution_count": 9,
   "id": "e68a593a",
   "metadata": {},
   "outputs": [],
   "source": [
    "days, pub_days, channels, img_counts, topics, authors, titles, social_media_counts, \\\n",
    "contents, num_hrefs, num_self_hrefs \\\n",
    "= get_all_datas(df_train_contents)"
   ]
  },
  {
   "cell_type": "code",
   "execution_count": 10,
   "id": "cf9a335d",
   "metadata": {},
   "outputs": [
    {
     "ename": "KeyboardInterrupt",
     "evalue": "",
     "output_type": "error",
     "traceback": [
      "\u001b[0;31m---------------------------------------------------------------------------\u001b[0m",
      "\u001b[0;31mKeyboardInterrupt\u001b[0m                         Traceback (most recent call last)",
      "\u001b[0;32m/tmp/ipykernel_30642/2717870987.py\u001b[0m in \u001b[0;36m<module>\u001b[0;34m\u001b[0m\n\u001b[1;32m      1\u001b[0m \u001b[0mrate_positive_words\u001b[0m\u001b[0;34m,\u001b[0m \u001b[0mrate_negative_words\u001b[0m\u001b[0;34m,\u001b[0m \u001b[0mavg_positive_polarity\u001b[0m\u001b[0;34m,\u001b[0m \u001b[0mmin_positive_polarity\u001b[0m\u001b[0;34m,\u001b[0m \u001b[0mmax_positive_polarity\u001b[0m\u001b[0;34m,\u001b[0m\u001b[0;31m \u001b[0m\u001b[0;31m\\\u001b[0m\u001b[0;34m\u001b[0m\u001b[0;34m\u001b[0m\u001b[0m\n\u001b[1;32m      2\u001b[0m \u001b[0mavg_negative_polarity\u001b[0m\u001b[0;34m,\u001b[0m \u001b[0mmin_negative_polarity\u001b[0m\u001b[0;34m,\u001b[0m \u001b[0mmax_negative_polarity\u001b[0m\u001b[0;31m \u001b[0m\u001b[0;31m\\\u001b[0m\u001b[0;34m\u001b[0m\u001b[0;34m\u001b[0m\u001b[0m\n\u001b[0;32m----> 3\u001b[0;31m \u001b[0;34m=\u001b[0m \u001b[0mget_word_sentiment_features\u001b[0m\u001b[0;34m(\u001b[0m\u001b[0mcontents\u001b[0m\u001b[0;34m)\u001b[0m\u001b[0;34m\u001b[0m\u001b[0;34m\u001b[0m\u001b[0m\n\u001b[0m",
      "\u001b[0;32m~/Documents/DL2021/Cup01/cup01.py\u001b[0m in \u001b[0;36mget_word_sentiment_features\u001b[0;34m(contents)\u001b[0m\n\u001b[1;32m    176\u001b[0m         \u001b[0;32mfor\u001b[0m \u001b[0mtoken\u001b[0m \u001b[0;32min\u001b[0m \u001b[0mcontent_tokens\u001b[0m\u001b[0;34m:\u001b[0m\u001b[0;34m\u001b[0m\u001b[0;34m\u001b[0m\u001b[0m\n\u001b[1;32m    177\u001b[0m             \u001b[0mblob\u001b[0m \u001b[0;34m=\u001b[0m \u001b[0mTextBlob\u001b[0m\u001b[0;34m(\u001b[0m\u001b[0mtoken\u001b[0m\u001b[0;34m)\u001b[0m\u001b[0;34m\u001b[0m\u001b[0;34m\u001b[0m\u001b[0m\n\u001b[0;32m--> 178\u001b[0;31m             \u001b[0msentiment_score\u001b[0m \u001b[0;34m=\u001b[0m \u001b[0mblob\u001b[0m\u001b[0;34m.\u001b[0m\u001b[0msentiment\u001b[0m\u001b[0;34m.\u001b[0m\u001b[0mpolarity\u001b[0m\u001b[0;34m\u001b[0m\u001b[0;34m\u001b[0m\u001b[0m\n\u001b[0m\u001b[1;32m    179\u001b[0m \u001b[0;34m\u001b[0m\u001b[0m\n\u001b[1;32m    180\u001b[0m             \u001b[0;32mif\u001b[0m \u001b[0msentiment_score\u001b[0m \u001b[0;34m>\u001b[0m \u001b[0;36m0.0\u001b[0m\u001b[0;34m:\u001b[0m \u001b[0;31m# positive\u001b[0m\u001b[0;34m\u001b[0m\u001b[0;34m\u001b[0m\u001b[0m\n",
      "\u001b[0;32m~/anaconda3/envs/tf/lib/python3.8/site-packages/textblob/decorators.py\u001b[0m in \u001b[0;36m__get__\u001b[0;34m(self, obj, cls)\u001b[0m\n\u001b[1;32m     22\u001b[0m         \u001b[0;32mif\u001b[0m \u001b[0mobj\u001b[0m \u001b[0;32mis\u001b[0m \u001b[0;32mNone\u001b[0m\u001b[0;34m:\u001b[0m\u001b[0;34m\u001b[0m\u001b[0;34m\u001b[0m\u001b[0m\n\u001b[1;32m     23\u001b[0m             \u001b[0;32mreturn\u001b[0m \u001b[0mself\u001b[0m\u001b[0;34m\u001b[0m\u001b[0;34m\u001b[0m\u001b[0m\n\u001b[0;32m---> 24\u001b[0;31m         \u001b[0mvalue\u001b[0m \u001b[0;34m=\u001b[0m \u001b[0mobj\u001b[0m\u001b[0;34m.\u001b[0m\u001b[0m__dict__\u001b[0m\u001b[0;34m[\u001b[0m\u001b[0mself\u001b[0m\u001b[0;34m.\u001b[0m\u001b[0mfunc\u001b[0m\u001b[0;34m.\u001b[0m\u001b[0m__name__\u001b[0m\u001b[0;34m]\u001b[0m \u001b[0;34m=\u001b[0m \u001b[0mself\u001b[0m\u001b[0;34m.\u001b[0m\u001b[0mfunc\u001b[0m\u001b[0;34m(\u001b[0m\u001b[0mobj\u001b[0m\u001b[0;34m)\u001b[0m\u001b[0;34m\u001b[0m\u001b[0;34m\u001b[0m\u001b[0m\n\u001b[0m\u001b[1;32m     25\u001b[0m         \u001b[0;32mreturn\u001b[0m \u001b[0mvalue\u001b[0m\u001b[0;34m\u001b[0m\u001b[0;34m\u001b[0m\u001b[0m\n\u001b[1;32m     26\u001b[0m \u001b[0;34m\u001b[0m\u001b[0m\n",
      "\u001b[0;32m~/anaconda3/envs/tf/lib/python3.8/site-packages/textblob/blob.py\u001b[0m in \u001b[0;36msentiment\u001b[0;34m(self)\u001b[0m\n\u001b[1;32m    445\u001b[0m         \u001b[0;34m:\u001b[0m\u001b[0mrtype\u001b[0m\u001b[0;34m:\u001b[0m \u001b[0mnamedtuple\u001b[0m \u001b[0mof\u001b[0m \u001b[0mthe\u001b[0m \u001b[0mform\u001b[0m\u001b[0;31m \u001b[0m\u001b[0;31m`\u001b[0m\u001b[0;31m`\u001b[0m\u001b[0mSentiment\u001b[0m\u001b[0;34m(\u001b[0m\u001b[0mpolarity\u001b[0m\u001b[0;34m,\u001b[0m \u001b[0msubjectivity\u001b[0m\u001b[0;34m)\u001b[0m\u001b[0;31m`\u001b[0m\u001b[0;31m`\u001b[0m\u001b[0;34m\u001b[0m\u001b[0;34m\u001b[0m\u001b[0m\n\u001b[1;32m    446\u001b[0m         \"\"\"\n\u001b[0;32m--> 447\u001b[0;31m         \u001b[0;32mreturn\u001b[0m \u001b[0mself\u001b[0m\u001b[0;34m.\u001b[0m\u001b[0manalyzer\u001b[0m\u001b[0;34m.\u001b[0m\u001b[0manalyze\u001b[0m\u001b[0;34m(\u001b[0m\u001b[0mself\u001b[0m\u001b[0;34m.\u001b[0m\u001b[0mraw\u001b[0m\u001b[0;34m)\u001b[0m\u001b[0;34m\u001b[0m\u001b[0;34m\u001b[0m\u001b[0m\n\u001b[0m\u001b[1;32m    448\u001b[0m \u001b[0;34m\u001b[0m\u001b[0m\n\u001b[1;32m    449\u001b[0m     \u001b[0;34m@\u001b[0m\u001b[0mcached_property\u001b[0m\u001b[0;34m\u001b[0m\u001b[0;34m\u001b[0m\u001b[0m\n",
      "\u001b[0;32m~/anaconda3/envs/tf/lib/python3.8/site-packages/textblob/en/sentiments.py\u001b[0m in \u001b[0;36manalyze\u001b[0;34m(self, text, keep_assessments)\u001b[0m\n\u001b[1;32m     41\u001b[0m \u001b[0;34m\u001b[0m\u001b[0m\n\u001b[1;32m     42\u001b[0m         \u001b[0;32melse\u001b[0m\u001b[0;34m:\u001b[0m\u001b[0;34m\u001b[0m\u001b[0;34m\u001b[0m\u001b[0m\n\u001b[0;32m---> 43\u001b[0;31m             \u001b[0mSentiment\u001b[0m \u001b[0;34m=\u001b[0m \u001b[0mnamedtuple\u001b[0m\u001b[0;34m(\u001b[0m\u001b[0;34m'Sentiment'\u001b[0m\u001b[0;34m,\u001b[0m \u001b[0;34m[\u001b[0m\u001b[0;34m'polarity'\u001b[0m\u001b[0;34m,\u001b[0m \u001b[0;34m'subjectivity'\u001b[0m\u001b[0;34m]\u001b[0m\u001b[0;34m)\u001b[0m\u001b[0;34m\u001b[0m\u001b[0;34m\u001b[0m\u001b[0m\n\u001b[0m\u001b[1;32m     44\u001b[0m             \u001b[0;32mreturn\u001b[0m \u001b[0mSentiment\u001b[0m\u001b[0;34m(\u001b[0m\u001b[0;34m*\u001b[0m\u001b[0mpattern_sentiment\u001b[0m\u001b[0;34m(\u001b[0m\u001b[0mtext\u001b[0m\u001b[0;34m)\u001b[0m\u001b[0;34m)\u001b[0m\u001b[0;34m\u001b[0m\u001b[0;34m\u001b[0m\u001b[0m\n\u001b[1;32m     45\u001b[0m \u001b[0;34m\u001b[0m\u001b[0m\n",
      "\u001b[0;32m~/anaconda3/envs/tf/lib/python3.8/collections/__init__.py\u001b[0m in \u001b[0;36mnamedtuple\u001b[0;34m(typename, field_names, rename, defaults, module)\u001b[0m\n\u001b[1;32m    392\u001b[0m     \u001b[0mnamespace\u001b[0m \u001b[0;34m=\u001b[0m \u001b[0;34m{\u001b[0m\u001b[0;34m'_tuple_new'\u001b[0m\u001b[0;34m:\u001b[0m \u001b[0mtuple_new\u001b[0m\u001b[0;34m,\u001b[0m \u001b[0;34m'__name__'\u001b[0m\u001b[0;34m:\u001b[0m \u001b[0;34mf'namedtuple_{typename}'\u001b[0m\u001b[0;34m}\u001b[0m\u001b[0;34m\u001b[0m\u001b[0;34m\u001b[0m\u001b[0m\n\u001b[1;32m    393\u001b[0m     \u001b[0;31m# Note: exec() has the side-effect of interning the field names\u001b[0m\u001b[0;34m\u001b[0m\u001b[0;34m\u001b[0m\u001b[0;34m\u001b[0m\u001b[0m\n\u001b[0;32m--> 394\u001b[0;31m     \u001b[0mexec\u001b[0m\u001b[0;34m(\u001b[0m\u001b[0ms\u001b[0m\u001b[0;34m,\u001b[0m \u001b[0mnamespace\u001b[0m\u001b[0;34m)\u001b[0m\u001b[0;34m\u001b[0m\u001b[0;34m\u001b[0m\u001b[0m\n\u001b[0m\u001b[1;32m    395\u001b[0m     \u001b[0m__new__\u001b[0m \u001b[0;34m=\u001b[0m \u001b[0mnamespace\u001b[0m\u001b[0;34m[\u001b[0m\u001b[0;34m'__new__'\u001b[0m\u001b[0;34m]\u001b[0m\u001b[0;34m\u001b[0m\u001b[0;34m\u001b[0m\u001b[0m\n\u001b[1;32m    396\u001b[0m     \u001b[0m__new__\u001b[0m\u001b[0;34m.\u001b[0m\u001b[0m__doc__\u001b[0m \u001b[0;34m=\u001b[0m \u001b[0;34mf'Create new instance of {typename}({arg_list})'\u001b[0m\u001b[0;34m\u001b[0m\u001b[0;34m\u001b[0m\u001b[0m\n",
      "\u001b[0;32m<string>\u001b[0m in \u001b[0;36m<module>\u001b[0;34m\u001b[0m\n",
      "\u001b[0;31mKeyboardInterrupt\u001b[0m: "
     ]
    }
   ],
   "source": [
    "rate_positive_words, rate_negative_words, avg_positive_polarity, min_positive_polarity, max_positive_polarity, \\\n",
    "avg_negative_polarity, min_negative_polarity, max_negative_polarity \\\n",
    "= get_word_sentiment_features(contents)"
   ]
  },
  {
   "cell_type": "code",
   "execution_count": null,
   "id": "ea58e700",
   "metadata": {},
   "outputs": [],
   "source": [
    "n_tokens_titles, n_tokens_contents, n_unique_tokens, n_non_stop_words, n_non_stop_unique_tokens \\\n",
    "= get_some_n_features(titles, contents)"
   ]
  },
  {
   "cell_type": "code",
   "execution_count": null,
   "id": "1fe9d6bb",
   "metadata": {},
   "outputs": [],
   "source": [
    "global_sentiment_polarity, global_subjectivity, title_subjectivity_list, title_sentiment_polarity_list, \\\n",
    "abs_title_subjectivity, abs_title_sentiment_polarity \\\n",
    "= get_sentiment_features(titles, contents)"
   ]
  },
  {
   "cell_type": "markdown",
   "id": "78a74022",
   "metadata": {},
   "source": [
    "combine the properties"
   ]
  },
  {
   "cell_type": "code",
   "execution_count": null,
   "id": "c7638d75",
   "metadata": {},
   "outputs": [],
   "source": [
    "df = pd.DataFrame({'Page content':df_train_contents,\n",
    "                   'Id':df.Id[:],\n",
    "                   'Popularity':df.Popularity[:],\n",
    "                   'topic':topics,\n",
    "                   'channel':channels,\n",
    "                   'weekday':days,\n",
    "                   'pub_date' : pub_days,\n",
    "                   'author':authors,\n",
    "                   'img count':img_counts,\n",
    "                   'title':titles,\n",
    "                   'content':contents,\n",
    "                   'media count': social_media_counts,\n",
    "                   'n_tokens_title' : n_tokens_titles,\n",
    "                   'n_tokens_content': n_tokens_contents,\n",
    "                   'n_unique_tokens' : n_unique_tokens,\n",
    "                   'n_non_stop_words': n_non_stop_words,\n",
    "                   'n_non_stop_unique_tokens': n_non_stop_unique_tokens,\n",
    "                   'num_hrefs' : num_hrefs,\n",
    "                   'num_self_hrefs' : num_self_hrefs,\n",
    "                   'global_sentiment_polarity' : global_sentiment_polarity,\n",
    "                   'global_subjectivity' : global_subjectivity,\n",
    "                   'title_subjectivity' : title_subjectivity_list,\n",
    "                   'title_sentiment_polarity' : title_sentiment_polarity_list,\n",
    "                   'abs_title_subjectivity' : abs_title_subjectivity,\n",
    "                   'abs_title_sentiment_polarity' : abs_title_sentiment_polarity,\n",
    "                   'rate_positive_words' : rate_positive_words,\n",
    "                   'rate_negative_words' : rate_negative_words,\n",
    "                   'avg_positive_polarity' : avg_positive_polarity,\n",
    "                   'min_positive_polarity' : min_positive_polarity,\n",
    "                   'max_positive_polarity' : max_positive_polarity,\n",
    "                   'avg_negative_polarity' : avg_negative_polarity,\n",
    "                   'min_negative_polarity' : min_negative_polarity,\n",
    "                   'max_negative_polarity' : max_negative_polarity})"
   ]
  },
  {
   "cell_type": "markdown",
   "id": "0ffd81a4",
   "metadata": {},
   "source": [
    "### 1.4 時間"
   ]
  },
  {
   "cell_type": "code",
   "execution_count": null,
   "id": "479b8e9a",
   "metadata": {},
   "outputs": [],
   "source": [
    "df['day_of_month'] = df['pub_date'].apply(lambda x: int(x.split()[1]))\n",
    "df['month'] = df['pub_date'].apply(lambda x: strptime(x.split()[2], '%b').tm_mon)\n",
    "df['hour'] = df['pub_date'].apply(lambda x: strptime(x.split()[4], '%X')[3])"
   ]
  },
  {
   "cell_type": "code",
   "execution_count": null,
   "id": "5c840201",
   "metadata": {},
   "outputs": [],
   "source": [
    "df['is_weekend'] = df['weekday'].apply(lambda x: 1 if x ==' Sat' or x == ' Sun' else 0)"
   ]
  },
  {
   "cell_type": "code",
   "execution_count": null,
   "id": "4f94f669",
   "metadata": {},
   "outputs": [],
   "source": [
    "del df_train_contents, df['pub_date']"
   ]
  },
  {
   "cell_type": "markdown",
   "id": "cacfd2f8",
   "metadata": {},
   "source": [
    "### 1.5 產生關鍵字"
   ]
  },
  {
   "cell_type": "code",
   "execution_count": null,
   "id": "8ec1bea1",
   "metadata": {},
   "outputs": [],
   "source": [
    "tqdm.pandas()\n",
    "df['Page content'] = df['Page content'].progress_apply(preprocessor) # 此步驟約要花五分鐘"
   ]
  },
  {
   "cell_type": "code",
   "execution_count": null,
   "id": "38a682eb",
   "metadata": {},
   "outputs": [],
   "source": [
    "tqdm.pandas()\n",
    "df['keywords'] = df['Page content'].progress_apply(tokenizer_stem_nostop)"
   ]
  },
  {
   "cell_type": "code",
   "execution_count": null,
   "id": "8b40337f",
   "metadata": {},
   "outputs": [],
   "source": [
    "df['keywords'] = df['keywords'].progress_apply(lambda x: ' '.join(x))"
   ]
  },
  {
   "cell_type": "code",
   "execution_count": null,
   "id": "71f27595",
   "metadata": {},
   "outputs": [],
   "source": [
    "tqdm.pandas()\n",
    "df['keywords'] = df['keywords'].progress_apply(lambda x: keywords.keywords(x).replace('\\n', ' '))"
   ]
  },
  {
   "cell_type": "markdown",
   "id": "d58cb431",
   "metadata": {},
   "source": [
    "### 1.6 作者評價"
   ]
  },
  {
   "cell_type": "code",
   "execution_count": null,
   "id": "c04c17a1",
   "metadata": {},
   "outputs": [],
   "source": [
    "col = 'author'\n",
    "df2 = df.iloc[:train_length].groupby(f'{col}').mean().reset_index().sort_values(by='Popularity', ascending=False)\\\n",
    "    [[f'{col}', 'Popularity']]\n",
    "df2.columns=[f'{col}', 'avg_popularity']"
   ]
  },
  {
   "cell_type": "code",
   "execution_count": null,
   "id": "001f16e4",
   "metadata": {},
   "outputs": [],
   "source": [
    "author_avg_score = {}\n",
    "for i, row in df2.iterrows():\n",
    "    author_name = row['author']\n",
    "    score = row['avg_popularity']\n",
    "    author_avg_score[author_name] = score"
   ]
  },
  {
   "cell_type": "code",
   "execution_count": null,
   "id": "fcd9a2d2",
   "metadata": {},
   "outputs": [],
   "source": [
    "df['author_popularity'] = df['author'].apply(lambda x: author_avg_score[x] if x in author_avg_score else 0.0)"
   ]
  },
  {
   "cell_type": "code",
   "execution_count": null,
   "id": "86219158",
   "metadata": {},
   "outputs": [],
   "source": [
    "del df2"
   ]
  },
  {
   "cell_type": "code",
   "execution_count": null,
   "id": "e6043734",
   "metadata": {},
   "outputs": [],
   "source": [
    "df.head(5)"
   ]
  },
  {
   "cell_type": "code",
   "execution_count": null,
   "id": "f7545af3",
   "metadata": {},
   "outputs": [],
   "source": [
    "df.to_csv('./input/input_feature.csv')"
   ]
  },
  {
   "cell_type": "markdown",
   "id": "08f91df3",
   "metadata": {},
   "source": [
    "## 二. 特徵選擇"
   ]
  },
  {
   "cell_type": "code",
   "execution_count": null,
   "id": "7094c26b",
   "metadata": {},
   "outputs": [],
   "source": [
    "df = pd.read_csv('./input/input_feature.csv')"
   ]
  },
  {
   "cell_type": "markdown",
   "id": "c491dfea",
   "metadata": {},
   "source": [
    "### 2.1 找出頻率最高的詞"
   ]
  },
  {
   "cell_type": "code",
   "execution_count": null,
   "id": "6057f13b",
   "metadata": {},
   "outputs": [],
   "source": [
    "count = CountVectorizer(ngram_range=(1, 1), # (MIN, MAX)\n",
    "                        preprocessor=preprocessor,\n",
    "                        tokenizer=tokenizer_stem_nostop)\n",
    "count.fit([\"YEAH TIGER\", \"FIBER WIPER\"]) # need to fit something first"
   ]
  },
  {
   "cell_type": "code",
   "execution_count": null,
   "id": "50e6f885",
   "metadata": {},
   "outputs": [],
   "source": [
    "doc = df['Page content']\n",
    "doc_bag = count.fit_transform(doc).toarray()\n",
    "\n",
    "print(\"[most frequent vocabularies]\")\n",
    "bag_cnts = np.sum(doc_bag, axis=0)\n",
    "top = 10\n",
    "# [::-1] reverses a list since sort is in ascending order\n",
    "for tok, v in zip(count.inverse_transform(np.ones(bag_cnts.shape[0]).reshape(1, -1))[0][bag_cnts.argsort()[::-1][:top]], \n",
    "                  np.sort(bag_cnts)[::-1][:top]):\n",
    "    print('{}: {}'.format(tok, v))"
   ]
  },
  {
   "cell_type": "markdown",
   "id": "56b2fc53",
   "metadata": {},
   "source": [
    "### 2.2 基於整個文本的TF-IDF"
   ]
  },
  {
   "cell_type": "markdown",
   "id": "a22fb742",
   "metadata": {},
   "source": [
    "利用前面所定義的前處理方法產生tf-idf向量"
   ]
  },
  {
   "cell_type": "code",
   "execution_count": null,
   "id": "b99c3a8a",
   "metadata": {},
   "outputs": [],
   "source": [
    "doc = df['Page content']\n",
    "tfidf = TfidfVectorizer(ngram_range=(MIN, MAX), \n",
    "                        preprocessor=preprocessor, \n",
    "                        tokenizer=tokenizer_stem_nostop, \n",
    "                        max_df=MAX_DF, \n",
    "                        min_df=0.0001)\n",
    "tfidf.fit(doc)\n",
    "doc_tfidf = tfidf.transform(doc).toarray()"
   ]
  },
  {
   "cell_type": "code",
   "execution_count": null,
   "id": "4079cf8d",
   "metadata": {},
   "outputs": [],
   "source": [
    "print(doc_tfidf.shape)"
   ]
  },
  {
   "cell_type": "code",
   "execution_count": null,
   "id": "528591d0",
   "metadata": {},
   "outputs": [],
   "source": [
    "np.savetxt(\"tfidf.csv\", doc_tfidf, delimiter=\",\")"
   ]
  },
  {
   "cell_type": "markdown",
   "id": "5a7ac742",
   "metadata": {},
   "source": [
    "接著調查idf分數以及tf-idf值最大的10個單字"
   ]
  },
  {
   "cell_type": "code",
   "execution_count": null,
   "id": "31ac39f5",
   "metadata": {},
   "outputs": [],
   "source": [
    "top = 10\n",
    "# get idf score of vocabularies\n",
    "idf = tfidf.idf_\n",
    "print('[vocabularies with smallest idf scores]')\n",
    "sorted_idx = idf.argsort()\n",
    "\n",
    "for i in range(top):\n",
    "    print('%s: %.2f' %(tfidf.get_feature_names()[sorted_idx[i]], idf[sorted_idx[i]]))\n",
    "\n",
    "\n",
    "tfidf_sum = np.sum(doc_tfidf, axis=0)\n",
    "print(\"\\n[vocabularies with highest tf-idf scores]\")\n",
    "for tok, v in zip(tfidf.inverse_transform(np.ones(tfidf_sum.shape[0]).reshape(1, -1))[0][tfidf_sum.argsort()[::-1]][:top], \\\n",
    "                        np.sort(tfidf_sum)[::-1][:top]):\n",
    "    print('{}: {}'.format(tok, v))"
   ]
  },
  {
   "cell_type": "code",
   "execution_count": null,
   "id": "1a29d06b",
   "metadata": {},
   "outputs": [],
   "source": [
    "del doc_tfidf"
   ]
  },
  {
   "cell_type": "markdown",
   "id": "3f7dd108",
   "metadata": {},
   "source": [
    "### 2.3 基於關鍵字的tf-idf"
   ]
  },
  {
   "cell_type": "code",
   "execution_count": null,
   "id": "dc1b5402",
   "metadata": {},
   "outputs": [],
   "source": [
    "doc = df['keywords']\n",
    "tfidf = TfidfVectorizer(ngram_range=(1, 1), \n",
    "                        preprocessor=preprocessor, \n",
    "                        tokenizer=tokenizer_stem_nostop)\n",
    "tfidf.fit(doc)\n",
    "doc_tfidf = tfidf.transform(doc).toarray()"
   ]
  },
  {
   "cell_type": "code",
   "execution_count": null,
   "id": "067e34da",
   "metadata": {},
   "outputs": [],
   "source": [
    "print(doc_tfidf.shape)"
   ]
  },
  {
   "cell_type": "code",
   "execution_count": null,
   "id": "ea9abfcc",
   "metadata": {},
   "outputs": [],
   "source": [
    "top = 10\n",
    "# get idf score of vocabularies\n",
    "idf = tfidf.idf_\n",
    "print('[vocabularies with smallest idf scores]')\n",
    "sorted_idx = idf.argsort()\n",
    "\n",
    "for i in range(top):\n",
    "    print('%s: %.2f' %(tfidf.get_feature_names()[sorted_idx[i]], idf[sorted_idx[i]]))\n",
    "\n",
    "\n",
    "tfidf_sum = np.sum(doc_tfidf, axis=0)\n",
    "print(\"\\n[vocabularies with highest tf-idf scores]\")\n",
    "for tok, v in zip(tfidf.inverse_transform(np.ones(tfidf_sum.shape[0]).reshape(1, -1))[0][tfidf_sum.argsort()[::-1]][:top], \\\n",
    "                        np.sort(tfidf_sum)[::-1][:top]):\n",
    "    print('{}: {}'.format(tok, v))"
   ]
  },
  {
   "cell_type": "code",
   "execution_count": null,
   "id": "56746307",
   "metadata": {},
   "outputs": [],
   "source": [
    "del doc_tfidf"
   ]
  },
  {
   "cell_type": "markdown",
   "id": "7f8c3fb1",
   "metadata": {},
   "source": [
    "### 2.4 Feature Hashing\n",
    "hash words to 1024 or 2048 buckets"
   ]
  },
  {
   "cell_type": "code",
   "execution_count": null,
   "id": "2d5f53db",
   "metadata": {},
   "outputs": [],
   "source": [
    "doc = df['keywords']\n",
    "hashvec = HashingVectorizer(n_features=2**HASH_POWER)"
   ]
  },
  {
   "cell_type": "markdown",
   "id": "a603aa3f",
   "metadata": {},
   "source": [
    "no .fit needed for HashingVectorizer, since it's defined by the hash function. transform sentences to vectors of dimension 1024"
   ]
  },
  {
   "cell_type": "code",
   "execution_count": null,
   "id": "8bb757c9",
   "metadata": {},
   "outputs": [],
   "source": [
    "doc_hash = hashvec.transform(doc).toarray()\n",
    "print(doc_hash.shape)"
   ]
  },
  {
   "cell_type": "code",
   "execution_count": null,
   "id": "86d487b1",
   "metadata": {},
   "outputs": [],
   "source": [
    "doc = df['title']\n",
    "hashvec = HashingVectorizer(n_features=2**HASH_POWER)"
   ]
  },
  {
   "cell_type": "code",
   "execution_count": null,
   "id": "2b834f41",
   "metadata": {},
   "outputs": [],
   "source": [
    "doc_hash_title = hashvec.transform(doc).toarray()\n",
    "print(doc_hash_title.shape)"
   ]
  },
  {
   "cell_type": "markdown",
   "id": "042fe77b",
   "metadata": {},
   "source": [
    "### 2.5 One hot Encoding"
   ]
  },
  {
   "cell_type": "code",
   "execution_count": null,
   "id": "26548fa2",
   "metadata": {},
   "outputs": [],
   "source": [
    "# channel\n",
    "channel_ohe = OneHotEncoder(handle_unknown='ignore')\n",
    "channel_str = channel_ohe.fit_transform(df['channel'].values.reshape(-1,1)).toarray()\n",
    "print(channel_str.shape)\n",
    "\n",
    "# weekday\n",
    "weekday_ohe = OneHotEncoder(handle_unknown='ignore')\n",
    "weekday_str = weekday_ohe.fit_transform(df['weekday'].values.reshape(-1,1)).toarray()\n",
    "print(weekday_str.shape)\n",
    "\n",
    "# ohe author\n",
    "author_ohe = OneHotEncoder(handle_unknown='ignore')\n",
    "author_str = author_ohe.fit_transform(df['author'].values.reshape(-1,1)).toarray()\n",
    "print(author_str.shape)"
   ]
  },
  {
   "cell_type": "markdown",
   "id": "2eb8ac17",
   "metadata": {},
   "source": [
    "把所有特徵給組合起來"
   ]
  },
  {
   "cell_type": "code",
   "execution_count": null,
   "id": "700b85f0",
   "metadata": {},
   "outputs": [],
   "source": [
    "img_count = df['img count'].values.reshape(-1,1)\n",
    "media_count = df['media count'].values.reshape(-1,1)"
   ]
  },
  {
   "cell_type": "code",
   "execution_count": null,
   "id": "d6c569cc",
   "metadata": {},
   "outputs": [],
   "source": [
    "def flatten(t):\n",
    "    return [item for sublist in t for item in sublist]\n",
    "\n",
    "df_X = []\n",
    "for i in tqdm(range(len(channel_str))):\n",
    "    temp = []\n",
    "    temp.append(img_count[i])\n",
    "    temp.append(media_count[i])\n",
    "    temp.append(channel_str[i])\n",
    "    temp.append(weekday_str[i])\n",
    "    temp.append(author_str[i])\n",
    "    temp.append(doc_hash[i])\n",
    "    temp.append(doc_hash_title[i])\n",
    "    temp = flatten(temp)\n",
    "    temp.append(df['day_of_month'][i])\n",
    "    temp.append(df['month'][i])\n",
    "    temp.append(df['hour'][i])\n",
    "    temp.append(df['n_tokens_title'][i])\n",
    "    temp.append(df['n_tokens_content'][i])\n",
    "    temp.append(df['n_unique_tokens'][i])\n",
    "    temp.append(df['n_non_stop_words'][i])\n",
    "    temp.append(df['n_non_stop_unique_tokens'][i])\n",
    "    temp.append(df['num_hrefs'][i])\n",
    "    temp.append(df['num_self_hrefs'][i])\n",
    "    temp.append(df['global_sentiment_polarity'][i])\n",
    "    temp.append(df['global_subjectivity'][i])\n",
    "    temp.append(df['title_subjectivity'][i])\n",
    "    temp.append(df['title_sentiment_polarity'][i])\n",
    "    temp.append(df['abs_title_subjectivity'][i])\n",
    "    temp.append(df['abs_title_sentiment_polarity'][i])\n",
    "    temp.append(df['rate_positive_words'][i])\n",
    "    temp.append(df['rate_negative_words'][i])\n",
    "    temp.append(df['avg_positive_polarity'][i])\n",
    "    temp.append(df['min_positive_polarity'][i])\n",
    "    temp.append(df['max_positive_polarity'][i])\n",
    "    temp.append(df['avg_negative_polarity'][i])\n",
    "    temp.append(df['min_negative_polarity'][i])\n",
    "    temp.append(df['max_negative_polarity'][i])\n",
    "    temp.append(df['is_weekend'][i])\n",
    "    temp.append(df['author_popularity'][i])\n",
    "    df_X.append(temp)\n",
    "    del temp\n",
    "\n",
    "df_y = df['Popularity'].to_numpy()"
   ]
  },
  {
   "cell_type": "code",
   "execution_count": null,
   "id": "608d09e9",
   "metadata": {},
   "outputs": [],
   "source": [
    "del df, doc_hash, img_count, media_count, channel_str, weekday_str, author_str"
   ]
  },
  {
   "cell_type": "code",
   "execution_count": null,
   "id": "f3f872fa",
   "metadata": {},
   "outputs": [],
   "source": [
    "print(len(df_X),len(df_X[0]))"
   ]
  },
  {
   "cell_type": "markdown",
   "id": "e9dcad4b",
   "metadata": {},
   "source": [
    "存成csv檔案就不用再重跑之前的code了"
   ]
  },
  {
   "cell_type": "code",
   "execution_count": 24,
   "id": "922fab24",
   "metadata": {},
   "outputs": [],
   "source": [
    "pd.DataFrame(df_X).to_csv(\"./input/X_data.csv\", index=False, header=False)\n",
    "pd.DataFrame(df_y).to_csv(\"./input/y_data.csv\", index=False, header=False)"
   ]
  },
  {
   "cell_type": "markdown",
   "id": "6bc08a55",
   "metadata": {},
   "source": [
    "生成training set和testing set"
   ]
  },
  {
   "cell_type": "markdown",
   "id": "963df3e7",
   "metadata": {},
   "source": [
    "## 三. 模型訓練\n",
    "直接從這裡開始跑"
   ]
  },
  {
   "cell_type": "code",
   "execution_count": 3,
   "id": "2ca1eabe",
   "metadata": {},
   "outputs": [],
   "source": [
    "df_X = pd.read_csv('./input/X_data.csv', header=None).values\n",
    "df_y = pd.read_csv('./input/y_data.csv', header=None).values"
   ]
  },
  {
   "cell_type": "code",
   "execution_count": null,
   "id": "3ce13e77",
   "metadata": {},
   "outputs": [],
   "source": [
    "X_submit = df_X.iloc[train_length:]"
   ]
  },
  {
   "cell_type": "code",
   "execution_count": 45,
   "id": "97e000e6",
   "metadata": {},
   "outputs": [],
   "source": [
    "X_train, X_test, y_train, y_test = train_test_split(df_X_train[:train_length], \n",
    "                                                    df_y_train[:train_length], \n",
    "                                                    test_size=0.2)"
   ]
  },
  {
   "cell_type": "code",
   "execution_count": 46,
   "id": "1f6f2895",
   "metadata": {},
   "outputs": [],
   "source": [
    "del df_X\n",
    "del df_y"
   ]
  },
  {
   "cell_type": "markdown",
   "id": "b2d4320e",
   "metadata": {},
   "source": [
    "### 3.1 繪製解釋變異數圖形"
   ]
  },
  {
   "cell_type": "code",
   "execution_count": 47,
   "id": "aae90ed7",
   "metadata": {},
   "outputs": [],
   "source": [
    "sc = StandardScaler()\n",
    "X_train_std = sc.fit_transform(X_train)\n",
    "X_test_std = sc.transform(X_test)"
   ]
  },
  {
   "cell_type": "code",
   "execution_count": 48,
   "id": "7648c366",
   "metadata": {},
   "outputs": [],
   "source": [
    "cov_mat = np.cov(X_train_std.T) # 計算特徵值\n",
    "eigen_vals, _ = np.linalg.eig(cov_mat)"
   ]
  },
  {
   "cell_type": "code",
   "execution_count": 49,
   "id": "ae596748",
   "metadata": {},
   "outputs": [
    {
     "data": {
      "image/png": "[encoded data removed]",
      "text/plain": [
       "<Figure size 432x288 with 1 Axes>"
      ]
     },
     "metadata": {
      "needs_background": "light"
     },
     "output_type": "display_data"
    }
   ],
   "source": [
    "# 把explained variance(lambda i / lambda和)由大排到小\n",
    "tot = sum(eigen_vals)\n",
    "var_exp = np.array([(i / tot) for i in sorted(eigen_vals, reverse=True)])\n",
    "cum_var_exp = np.cumsum(var_exp) # 計算解釋變異數\n",
    "\n",
    "# 繪圖\n",
    "plt.bar(range(len(eigen_vals)), var_exp, alpha=0.5, align='center',\n",
    "        label='individual explained variance')\n",
    "plt.step(range(len(eigen_vals)), cum_var_exp, where='mid',\n",
    "         label='cumulative explained variance')\n",
    "plt.ylabel('Explained variance ratio')\n",
    "plt.xlabel('Principal component index')\n",
    "plt.legend(loc='best')\n",
    "plt.tight_layout()\n",
    "# plt.savefig('images/05_02.png', dpi=300)\n",
    "plt.show()"
   ]
  },
  {
   "cell_type": "code",
   "execution_count": 50,
   "id": "064bfbfa",
   "metadata": {},
   "outputs": [],
   "source": [
    "del X_train_std, X_test_std"
   ]
  },
  {
   "cell_type": "markdown",
   "id": "89312ce1",
   "metadata": {},
   "source": [
    "### 3.2 Logistic Regression"
   ]
  },
  {
   "cell_type": "code",
   "execution_count": 51,
   "id": "026cd77a",
   "metadata": {},
   "outputs": [],
   "source": [
    "pipe_lr = make_pipeline(StandardScaler(),\n",
    "                        #PCA(n_components=1000),\n",
    "                        LogisticRegression(random_state=0))"
   ]
  },
  {
   "cell_type": "markdown",
   "id": "5f99f1f4",
   "metadata": {},
   "source": [
    "### 3.3 xgboost"
   ]
  },
  {
   "cell_type": "code",
   "execution_count": 52,
   "id": "3491c74b",
   "metadata": {},
   "outputs": [],
   "source": [
    "X_train_xgb = np.array(X_train)\n",
    "X_test_xgb = np.array(X_test)\n",
    "y_train_xgb = y_train\n",
    "y_train_xgb[y_train==-1] = 0\n",
    "y_test_xgb = y_test\n",
    "y_test_xgb[y_test==-1] = 0\n",
    "d_train = xgb.DMatrix(X_train_xgb, y_train_xgb)\n",
    "d_test = xgb.DMatrix(X_test_xgb)"
   ]
  },
  {
   "cell_type": "code",
   "execution_count": 53,
   "id": "03dcd80d",
   "metadata": {},
   "outputs": [],
   "source": [
    "xgb_params = {'eta': 0.05, \n",
    "              'max_depth': 4, \n",
    "              'subsample': 0.7 ,\n",
    "              'colsample_bytree': 0.7,\n",
    "              'min_child_weight' : 4,\n",
    "              'objective': 'binary:logistic', \n",
    "              'eval_metric': 'auc',\n",
    "              'alpha': 0.005,\n",
    "             }\n",
    "xgb_model = xgb.XGBClassifier(**xgb_params)\n",
    "xgb_params = xgb_model.get_xgb_params()"
   ]
  },
  {
   "cell_type": "markdown",
   "id": "864154c3",
   "metadata": {},
   "source": [
    "## 四. 參數調整"
   ]
  },
  {
   "cell_type": "markdown",
   "id": "bddd1a8e",
   "metadata": {},
   "source": [
    "### 4.1 Logistic Regression"
   ]
  },
  {
   "cell_type": "code",
   "execution_count": null,
   "id": "9fdca61e",
   "metadata": {},
   "outputs": [],
   "source": [
    "import warnings\n",
    "warnings.filterwarnings(\"ignore\")\n",
    "\n",
    "param_range = [0.0001, 0.001, 0.01, 0.1, 1.0, 10.0, 100.0, 1000.0] \n",
    "param_grid = [{'logisticregression__C': param_range, \n",
    "               'logisticregression__penalty': ['l2'],\n",
    "               'logisticregression__class_weight': ['balanced', None],\n",
    "               'logisticregression__solver': ['saga', 'lbfgs']}]\n",
    "\n",
    "# 使用網格搜尋法\n",
    "gs = GridSearchCV(estimator=pipe_lr, \n",
    "                  param_grid=param_grid, \n",
    "                  scoring='roc_auc', \n",
    "                  cv=10,\n",
    "                  n_jobs=-1)\n",
    "gs = gs.fit(X_train, y_train.ravel())\n",
    "\n",
    "# 輸出結果\n",
    "print(gs.best_score_) \n",
    "print(gs.best_params_) # 最佳參數組合"
   ]
  },
  {
   "cell_type": "code",
   "execution_count": null,
   "id": "a8bb1691",
   "metadata": {},
   "outputs": [],
   "source": [
    "clf = gs.best_estimator_ # 取得剛剛算出的最佳參數\n",
    "clf.fit(X_train, y_train) # 用這個參數train出model"
   ]
  },
  {
   "cell_type": "markdown",
   "id": "4537b425",
   "metadata": {},
   "source": [
    "### 4.2 XGB"
   ]
  },
  {
   "cell_type": "code",
   "execution_count": null,
   "id": "b6e92057",
   "metadata": {},
   "outputs": [],
   "source": [
    "cvresult = xgb.cv(xgb_params, \n",
    "                  d_train, \n",
    "                  num_boost_round=1000, \n",
    "                  verbose_eval=10, \n",
    "                  nfold=5, \n",
    "                  metrics=['auc'],\n",
    "                  early_stopping_rounds=50, \n",
    "                  stratified=True)"
   ]
  },
  {
   "cell_type": "code",
   "execution_count": null,
   "id": "c0cbe357",
   "metadata": {},
   "outputs": [],
   "source": [
    "xgb_model.set_params(n_estimators=cvresult.shape[0])"
   ]
  },
  {
   "cell_type": "code",
   "execution_count": null,
   "id": "75fa7874",
   "metadata": {},
   "outputs": [],
   "source": [
    "xgb_model.fit(X_train_xgb, y_train_xgb, eval_metric='auc', verbose=True)"
   ]
  },
  {
   "cell_type": "markdown",
   "id": "95a4eba3",
   "metadata": {},
   "source": [
    "## 五. 結果預測"
   ]
  },
  {
   "cell_type": "markdown",
   "id": "444cb9ee",
   "metadata": {},
   "source": [
    "### 5.1 Logistic Regression"
   ]
  },
  {
   "cell_type": "code",
   "execution_count": 14,
   "id": "c2d7cf65",
   "metadata": {},
   "outputs": [
    {
     "name": "stdout",
     "output_type": "stream",
     "text": [
      "Test Accuracy: 0.563\n",
      "AUC score: 0.550 (+/-0.021)\n"
     ]
    }
   ],
   "source": [
    "y_pred = clf.predict(X_test)\n",
    "print('Test Accuracy: %.3f' % clf.score(X_test, y_test))\n",
    "scores = cross_val_score(estimator=clf, \n",
    "                         X=X_test, \n",
    "                         y=y_test, \n",
    "                         cv=10, \n",
    "                         verbose = 0,\n",
    "                         scoring='roc_auc')\n",
    "print('AUC score: %.3f (+/-%.3f)' % (scores.mean(), scores.std()))"
   ]
  },
  {
   "cell_type": "markdown",
   "id": "cd3a00f3",
   "metadata": {},
   "source": [
    "### 5.2 XGB"
   ]
  },
  {
   "cell_type": "code",
   "execution_count": 27,
   "id": "f32d3a09",
   "metadata": {},
   "outputs": [
    {
     "name": "stdout",
     "output_type": "stream",
     "text": [
      "Test Accuracy: 0.570\n",
      "AUC score: 0.597 (+/-0.020)\n"
     ]
    }
   ],
   "source": [
    "y_pred = xgb_model.predict_proba(X_test_xgb)[:,1]\n",
    "print('Test Accuracy: %.3f' % xgb_model.score(X_test_xgb, y_test_xgb))\n",
    "scores = cross_val_score(estimator=xgb_model, \n",
    "                         X=X_test_xgb, \n",
    "                         y=y_test_xgb, \n",
    "                         cv=10, \n",
    "                         verbose = 0,\n",
    "                         scoring='roc_auc')\n",
    "print('AUC score: %.3f (+/-%.3f)' % (scores.mean(), scores.std()))"
   ]
  },
  {
   "cell_type": "code",
   "execution_count": 28,
   "id": "7f710b68",
   "metadata": {},
   "outputs": [
    {
     "data": {
      "text/plain": [
       "array([0.45412835, 0.5023792 , 0.48275134, ..., 0.45412835, 0.45297825,\n",
       "       0.43467173], dtype=float32)"
      ]
     },
     "execution_count": 28,
     "metadata": {},
     "output_type": "execute_result"
    }
   ],
   "source": [
    "y_pred"
   ]
  },
  {
   "cell_type": "markdown",
   "id": "39edcf6c",
   "metadata": {},
   "source": [
    "## 六. 繳交結果"
   ]
  },
  {
   "cell_type": "code",
   "execution_count": 29,
   "id": "f537a9ae",
   "metadata": {},
   "outputs": [],
   "source": [
    "X_submit = np.array(X_submit)"
   ]
  },
  {
   "cell_type": "code",
   "execution_count": 33,
   "id": "03d49784",
   "metadata": {},
   "outputs": [],
   "source": [
    "y_submit = xgb_model.predict_proba(X_submit)[:,1]"
   ]
  },
  {
   "cell_type": "code",
   "execution_count": 34,
   "id": "f41d18d5",
   "metadata": {},
   "outputs": [
    {
     "data": {
      "text/plain": [
       "array([0.30764163, 0.30158874, 0.3070396 , ..., 0.3197558 , 0.31357256,\n",
       "       0.3070396 ], dtype=float32)"
      ]
     },
     "execution_count": 34,
     "metadata": {},
     "output_type": "execute_result"
    }
   ],
   "source": [
    "y_submit "
   ]
  },
  {
   "cell_type": "code",
   "execution_count": 26,
   "id": "dffd7171",
   "metadata": {},
   "outputs": [],
   "source": [
    "df_submission = pd.read_csv('./output/sample_submission.csv')\n",
    "df_submission['Popularity'] = y_pred\n",
    "df_submission.to_csv('./output/submit.csv', index=False)"
   ]
  }
 ],
 "metadata": {
  "kernelspec": {
   "display_name": "Python 3 (ipykernel)",
   "language": "python",
   "name": "python3"
  },
  "language_info": {
   "codemirror_mode": {
    "name": "ipython",
    "version": 3
   },
   "file_extension": ".py",
   "mimetype": "text/x-python",
   "name": "python",
   "nbconvert_exporter": "python",
   "pygments_lexer": "ipython3",
   "version": "3.8.11"
  }
 },
 "nbformat": 4,
 "nbformat_minor": 5
}
