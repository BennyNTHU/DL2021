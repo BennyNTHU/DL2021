{
 "cells": [
  {
   "cell_type": "markdown",
   "id": "3d528ccd",
   "metadata": {},
   "source": [
    "# Assignment\n",
    "Lab04-1 110065508 李丞恩\n",
    "\n",
    "Implement the Adaline with SGD which can set different batch_size ($M$) as parameter. Then, use the Iris dataset to fit your model with 3 different $M$ (including $M=1$) and fixed learning rate $\\eta$ and print out the accuracy of each model. Last, plot the cost against the number of epochs using different $M$ in one figure.\n",
    "\n",
    "Your code file should contain:\n",
    "\n",
    "1. Split training and testing data (test_size = 20% of the whole dataset)\n",
    "2. Handcrafted Adaline classifier with M as parameter.\n",
    "3. Fit model with 3 different $M$ and fixed $\\eta$. (including $M=1$)\n",
    "4. Print the accuracy of each model.\n",
    "5. Plot the cost against the number of epochs using different $M$ in one figure.\n",
    "\n",
    "Your image file should contain:\n",
    "\n",
    "1. Figure of the cost against the number of epochs using different $M$."
   ]
  },
  {
   "cell_type": "code",
   "execution_count": 1,
   "id": "2f47bf45",
   "metadata": {},
   "outputs": [],
   "source": [
    "# inline plotting instead of popping out\n",
    "%matplotlib inline\n",
    "\n",
    "import os\n",
    "import math\n",
    "import numpy as np\n",
    "import pandas as pd\n",
    "import matplotlib.pyplot as plt\n",
    "\n",
    "from IPython.display import Image\n",
    "from IPython.display import display\n",
    "from sklearn.linear_model import Perceptron\n",
    "from sklearn.metrics import accuracy_score\n",
    "from sklearn.model_selection import train_test_split\n",
    "from sklearn.preprocessing import StandardScaler\n",
    "from lab04lib import *"
   ]
  },
  {
   "cell_type": "code",
   "execution_count": 2,
   "id": "4a001ad0",
   "metadata": {},
   "outputs": [],
   "source": [
    "if not os.path.exists('./output_HW'):\n",
    "    os.makedirs('./output_HW')"
   ]
  },
  {
   "cell_type": "code",
   "execution_count": 3,
   "id": "1415471b",
   "metadata": {},
   "outputs": [],
   "source": [
    "seed = np.random.seed"
   ]
  },
  {
   "cell_type": "markdown",
   "id": "8fd80424",
   "metadata": {},
   "source": [
    "## Prepare the dataset\n",
    "不要動這邊的code"
   ]
  },
  {
   "cell_type": "code",
   "execution_count": 4,
   "id": "9cf6586d",
   "metadata": {},
   "outputs": [
    {
     "data": {
      "text/html": [
       "<div>\n",
       "<style scoped>\n",
       "    .dataframe tbody tr th:only-of-type {\n",
       "        vertical-align: middle;\n",
       "    }\n",
       "\n",
       "    .dataframe tbody tr th {\n",
       "        vertical-align: top;\n",
       "    }\n",
       "\n",
       "    .dataframe thead th {\n",
       "        text-align: right;\n",
       "    }\n",
       "</style>\n",
       "<table border=\"1\" class=\"dataframe\">\n",
       "  <thead>\n",
       "    <tr style=\"text-align: right;\">\n",
       "      <th></th>\n",
       "      <th>Sepal length</th>\n",
       "      <th>Sepal width</th>\n",
       "      <th>Petal length</th>\n",
       "      <th>Petal width</th>\n",
       "      <th>Class label</th>\n",
       "    </tr>\n",
       "  </thead>\n",
       "  <tbody>\n",
       "    <tr>\n",
       "      <th>0</th>\n",
       "      <td>5.1</td>\n",
       "      <td>3.5</td>\n",
       "      <td>1.4</td>\n",
       "      <td>0.2</td>\n",
       "      <td>Iris-setosa</td>\n",
       "    </tr>\n",
       "    <tr>\n",
       "      <th>1</th>\n",
       "      <td>4.9</td>\n",
       "      <td>3.0</td>\n",
       "      <td>1.4</td>\n",
       "      <td>0.2</td>\n",
       "      <td>Iris-setosa</td>\n",
       "    </tr>\n",
       "    <tr>\n",
       "      <th>2</th>\n",
       "      <td>4.7</td>\n",
       "      <td>3.2</td>\n",
       "      <td>1.3</td>\n",
       "      <td>0.2</td>\n",
       "      <td>Iris-setosa</td>\n",
       "    </tr>\n",
       "    <tr>\n",
       "      <th>3</th>\n",
       "      <td>4.6</td>\n",
       "      <td>3.1</td>\n",
       "      <td>1.5</td>\n",
       "      <td>0.2</td>\n",
       "      <td>Iris-setosa</td>\n",
       "    </tr>\n",
       "    <tr>\n",
       "      <th>4</th>\n",
       "      <td>5.0</td>\n",
       "      <td>3.6</td>\n",
       "      <td>1.4</td>\n",
       "      <td>0.2</td>\n",
       "      <td>Iris-setosa</td>\n",
       "    </tr>\n",
       "  </tbody>\n",
       "</table>\n",
       "</div>"
      ],
      "text/plain": [
       "   Sepal length  Sepal width  Petal length  Petal width  Class label\n",
       "0           5.1          3.5           1.4          0.2  Iris-setosa\n",
       "1           4.9          3.0           1.4          0.2  Iris-setosa\n",
       "2           4.7          3.2           1.3          0.2  Iris-setosa\n",
       "3           4.6          3.1           1.5          0.2  Iris-setosa\n",
       "4           5.0          3.6           1.4          0.2  Iris-setosa"
      ]
     },
     "metadata": {},
     "output_type": "display_data"
    }
   ],
   "source": [
    "df = pd.read_csv('https://archive.ics.uci.edu/ml/'\n",
    "        'machine-learning-databases/iris/iris.data', header=None)\n",
    "df.columns = ['Sepal length', 'Sepal width', 'Petal length', 'Petal width', 'Class label']\n",
    "display(df.head())"
   ]
  },
  {
   "cell_type": "code",
   "execution_count": 5,
   "id": "59442cfe",
   "metadata": {},
   "outputs": [
    {
     "name": "stdout",
     "output_type": "stream",
     "text": [
      "#Training data points: 80\n",
      "#Testing data points: 20\n",
      "Class labels: [-1  1]\n"
     ]
    }
   ],
   "source": [
    "X = df[['Petal length', 'Petal width']].values\n",
    "y = pd.factorize(df['Class label'])[0]\n",
    "\n",
    "# discard exmaples in the first class\n",
    "X = X[50:150]\n",
    "y = np.where(y[50:150] == 2, -1, y[50:150])\n",
    "\n",
    "X_train, X_test, y_train, y_test = train_test_split(X, y, test_size=0.2, random_state=1)\n",
    "\n",
    "sc = StandardScaler()\n",
    "sc.fit(X_train)\n",
    "X_train_std = sc.transform(X_train)\n",
    "X_test_std = sc.transform(X_test)\n",
    "\n",
    "print('#Training data points: %d' % X_train.shape[0])\n",
    "print('#Testing data points: %d' % X_test.shape[0])\n",
    "print('Class labels: %s' % np.unique(y))"
   ]
  },
  {
   "cell_type": "markdown",
   "id": "54fd1219",
   "metadata": {},
   "source": [
    "## Implemet the AdalineSGD class\n",
    "簡單來說就是對資料集做抽樣，製成minibatch。接著一個epoch就跑那個minibatch就好。因此實作起來不會太複雜。"
   ]
  },
  {
   "cell_type": "code",
   "execution_count": 6,
   "id": "f4d112f2",
   "metadata": {},
   "outputs": [],
   "source": [
    "class AdalineSGD(object):\n",
    "    \"\"\"ADAptive LInear NEuron classifier.\n",
    "\n",
    "    Parameters\n",
    "    ------------\n",
    "    eta : float\n",
    "        Learning rate (between 0.0 and 1.0)\n",
    "    n_iter : int\n",
    "        Passes over the training dataset.\n",
    "\n",
    "    Attributes\n",
    "    -----------\n",
    "    w_ : 1d-array\n",
    "        Weights after fitting.\n",
    "    errors_ : list\n",
    "        Number of misclassifications in every epoch.\n",
    "    shuffle : bool (default: True)\n",
    "        Shuffles training data every epoch if True to prevent cycles.\n",
    "    random_state : int\n",
    "        Set random state for shuffling and initializing the weights.\n",
    "        \n",
    "    \"\"\"\n",
    "    def __init__(self, eta=0.01, n_iter=50, shuffle=True, random_state=1, M=1):\n",
    "        self.eta = eta\n",
    "        self.n_iter = n_iter\n",
    "        self.w_initialized = False\n",
    "        self.shuffle = shuffle\n",
    "        self.M = M\n",
    "        if random_state : seed(random_state)\n",
    "        \n",
    "    def fit(self, X, y):\n",
    "        \"\"\" Fit training data.\n",
    "\n",
    "        Parameters\n",
    "        ----------\n",
    "        X : array-like; shape = [n_samples, n_features]\n",
    "            Training vectors, where n_samples is the number of samples and\n",
    "            n_features is the number of features.\n",
    "        y : array-like; shape = [n_samples]\n",
    "            Target values or labels.\n",
    "        M : Size of minibatch\n",
    "\n",
    "        Returns\n",
    "        -------\n",
    "        self : object\n",
    "\n",
    "        \"\"\"\n",
    "        if self.M > len(X) or self.M < 1: #這是我多加的\n",
    "            raise Exception('1<=M<=len(X)')\n",
    "            \n",
    "        self._initialize_weights(X.shape[1])\n",
    "        self.cost_ = []\n",
    "        for i in range(self.n_iter):\n",
    "            if self.shuffle:\n",
    "                X, y = self._shuffle(X, y)\n",
    "            cost = []\n",
    "            X_mini_batch = list(np.array_split(X, self.M)) #其實只要改這三行就做完了\n",
    "            y_mini_batch = list(np.array_split(y, self.M))\n",
    "            for xi, yi in zip(X_mini_batch[0], y_mini_batch[0]):\n",
    "                cost.append(self._update_weights(xi, yi))\n",
    "            avg_cost = sum(cost) / len(y)\n",
    "            self.cost_.append(avg_cost)\n",
    "        return self\n",
    "\n",
    "    def _shuffle(self, X, y):\n",
    "        \"\"\"Shuffle training data\"\"\"\n",
    "        r = np.random.permutation(len(y))\n",
    "        return X[r], y[r]\n",
    "    \n",
    "    def _initialize_weights(self, m):\n",
    "        \"\"\"Randomly initialize weights\"\"\"\n",
    "        self.w_ = np.random.normal(loc=0.0, scale=0.01, size=1 + m)\n",
    "        self.w_initialized = True\n",
    "        \n",
    "    def _update_weights(self, xi, yi):\n",
    "        \"\"\"Apply Adaline learning rule to update the weights\"\"\"\n",
    "        output = self.activation(xi)\n",
    "        \n",
    "        # Cost function\n",
    "        error = (yi - output)\n",
    "        cost = 0.5 * error**2\n",
    "        \n",
    "        # Update rule\n",
    "        self.w_[1:] += self.eta * xi.dot(error)\n",
    "        self.w_[0] += self.eta * error\n",
    "        \n",
    "        return cost\n",
    "    \n",
    "    def net_input(self, X):\n",
    "        \"\"\"Calculate net input\"\"\"\n",
    "        return np.dot(X, self.w_[1:]) + self.w_[0]\n",
    "\n",
    "    def activation(self, X):\n",
    "        \"\"\"Compute linear activation\"\"\"\n",
    "        return self.net_input(X)\n",
    "\n",
    "    def predict(self, X):\n",
    "        \"\"\"Return class label after unit step\"\"\"\n",
    "        return np.where(self.activation(X) >= 0.0, 1, -1)\n",
    "\n",
    "    def partial_fit(self, X, y):\n",
    "        \"\"\"Fit training data without reinitializing the weights\"\"\"\n",
    "        if not self.w_initialized:\n",
    "            self._initialize_weights(X.shape[1])\n",
    "        if y.ravel().shape[0] > 1:\n",
    "            for xi, yi in zip(X, y):\n",
    "                self._update_weights(xi, yi)\n",
    "        else:\n",
    "            self._update_weights(X, y)\n",
    "        return self"
   ]
  },
  {
   "cell_type": "markdown",
   "id": "2925612b",
   "metadata": {},
   "source": [
    "## Training"
   ]
  },
  {
   "cell_type": "code",
   "execution_count": 7,
   "id": "06250c14",
   "metadata": {},
   "outputs": [
    {
     "data": {
      "text/plain": [
       "<__main__.AdalineSGD at 0x1ebab80eeb0>"
      ]
     },
     "execution_count": 7,
     "metadata": {},
     "output_type": "execute_result"
    }
   ],
   "source": [
    "adas1 = AdalineSGD(n_iter=20, eta=0.001, random_state=1, M=1)\n",
    "adas1.fit(X_train_std, y_train)\n",
    "adas2 = AdalineSGD(n_iter=20, eta=0.001, random_state=1, M=5)\n",
    "adas2.fit(X_train_std, y_train)\n",
    "adas3 = AdalineSGD(n_iter=20, eta=0.001, random_state=1, M=10)\n",
    "adas3.fit(X_train_std, y_train)"
   ]
  },
  {
   "cell_type": "markdown",
   "id": "e73ccac8",
   "metadata": {},
   "source": [
    "## Results"
   ]
  },
  {
   "cell_type": "code",
   "execution_count": 8,
   "id": "e9441c0f",
   "metadata": {},
   "outputs": [
    {
     "data": {
      "image/png": "[encoded data removed]",
      "text/plain": [
       "<Figure size 432x288 with 1 Axes>"
      ]
     },
     "metadata": {
      "needs_background": "light"
     },
     "output_type": "display_data"
    }
   ],
   "source": [
    "# Cost values\n",
    "plt.plot(range(1, len(adas1.cost_) + 1), adas1.cost_, \n",
    "         marker='o', label='M=1')\n",
    "plt.plot(range(1, len(adas2.cost_) + 1), adas2.cost_, \n",
    "         marker='o', label='M=5')\n",
    "plt.plot(range(1, len(adas3.cost_) + 1), adas3.cost_, \n",
    "         marker='o', label='M=10')\n",
    "plt.xlabel('Epochs')\n",
    "plt.ylabel('Sum-squared-error')\n",
    "plt.legend(loc='upper right')\n",
    "\n",
    "plt.tight_layout()\n",
    "plt.savefig('./output/fig-adaline-sgd-cost.png', dpi=300)\n",
    "plt.show()"
   ]
  },
  {
   "cell_type": "markdown",
   "id": "f88455fc",
   "metadata": {},
   "source": [
    "將cost畫在同一張表上，我們可以發現當$M=5$和$M=10$時，因為取樣點數較多，因此一開始就幾乎已經是收斂的狀況。"
   ]
  },
  {
   "cell_type": "code",
   "execution_count": 11,
   "id": "7bcd1c40",
   "metadata": {},
   "outputs": [
    {
     "name": "stdout",
     "output_type": "stream",
     "text": [
      "Taking M=1:\n",
      "Misclassified samples: 3\n",
      "Accuracy: 0.85\n",
      "Taking M=5:\n",
      "Misclassified samples: 2\n",
      "Accuracy: 0.90\n",
      "Taking M=10:\n",
      "Misclassified samples: 3\n",
      "Accuracy: 0.85\n"
     ]
    }
   ],
   "source": [
    "# Testing accuracy\n",
    "y_pred1 = adas1.predict(X_test_std) # M=1\n",
    "print('Taking M=1:')\n",
    "print('Misclassified samples: %d' % (y_test != y_pred1).sum())\n",
    "print('Accuracy: %.2f' % accuracy_score(y_test, y_pred1))\n",
    "\n",
    "y_pred2 = adas2.predict(X_test_std) # M=5\n",
    "print('Taking M=5:')\n",
    "print('Misclassified samples: %d' % (y_test != y_pred2).sum())\n",
    "print('Accuracy: %.2f' % accuracy_score(y_test, y_pred2))\n",
    "\n",
    "y_pred3 = adas3.predict(X_test_std) # M=10\n",
    "print('Taking M=10:')\n",
    "print('Misclassified samples: %d' % (y_test != y_pred3).sum())\n",
    "print('Accuracy: %.2f' % accuracy_score(y_test, y_pred3))"
   ]
  },
  {
   "cell_type": "markdown",
   "id": "f206ad41",
   "metadata": {},
   "source": [
    "順變畫一下三個model的decision boundary。幾乎可以斷定我們取的三個$M$值，最後都有收斂到全局最佳解，只是時間早晚的問題。"
   ]
  },
  {
   "cell_type": "code",
   "execution_count": 10,
   "id": "6b903a5c",
   "metadata": {},
   "outputs": [
    {
     "name": "stderr",
     "output_type": "stream",
     "text": [
      "D:\\Programs\\Python機器學習\\DL2021\\Lab04-1\\lab04lib.py:53: UserWarning: You passed a edgecolor/edgecolors ('k') for an unfilled marker ('x').  Matplotlib is ignoring the edgecolor in favor of the facecolor.  This behavior may change in the future.\n",
      "  plt.scatter(\n"
     ]
    },
    {
     "data": {
      "image/png": "[encoded data removed]",
      "text/plain": [
       "<Figure size 432x288 with 1 Axes>"
      ]
     },
     "metadata": {
      "needs_background": "light"
     },
     "output_type": "display_data"
    },
    {
     "data": {
      "image/png": "[encoded data removed]",
      "text/plain": [
       "<Figure size 432x288 with 1 Axes>"
      ]
     },
     "metadata": {
      "needs_background": "light"
     },
     "output_type": "display_data"
    },
    {
     "data": {
      "image/png": "[encoded data removed]",
      "text/plain": [
       "<Figure size 432x288 with 1 Axes>"
      ]
     },
     "metadata": {
      "needs_background": "light"
     },
     "output_type": "display_data"
    }
   ],
   "source": [
    "# Plot decision boundary \n",
    "X_combined_std = np.vstack((X_train_std, X_test_std))\n",
    "y_combined = np.hstack((y_train, y_test))\n",
    "\n",
    "# M=1\n",
    "plot_decision_regions(X_combined_std, y_combined, \n",
    "                      classifier=adas1, test_idx=range(len(y_train), len(y_train) + len(y_test)))\n",
    "plt.title('Adaline - SGD with M=1')\n",
    "plt.xlabel('Petal length [Standardized]')\n",
    "plt.ylabel('Petal width [Standardized]')\n",
    "plt.legend(loc='upper left')\n",
    "plt.tight_layout()\n",
    "plt.savefig('./output/fig-adaline-sgd-boundary.png', dpi=300)\n",
    "plt.show()\n",
    "\n",
    "# M=5\n",
    "plot_decision_regions(X_combined_std, y_combined, \n",
    "                      classifier=adas2, test_idx=range(len(y_train), len(y_train) + len(y_test)))\n",
    "plt.title('Adaline - SGD with M=5')\n",
    "plt.xlabel('Petal length [Standardized]')\n",
    "plt.ylabel('Petal width [Standardized]')\n",
    "plt.legend(loc='upper left')\n",
    "plt.tight_layout()\n",
    "plt.savefig('./output/fig-adaline-sgd-boundary.png', dpi=300)\n",
    "plt.show()\n",
    "\n",
    "# M=10\n",
    "plot_decision_regions(X_combined_std, y_combined, \n",
    "                      classifier=adas3, test_idx=range(len(y_train), len(y_train) + len(y_test)))\n",
    "plt.title('Adaline - SGD with M=10')\n",
    "plt.xlabel('Petal length [Standardized]')\n",
    "plt.ylabel('Petal width [Standardized]')\n",
    "plt.legend(loc='upper left')\n",
    "plt.tight_layout()\n",
    "plt.savefig('./output/fig-adaline-sgd-boundary.png', dpi=300)\n",
    "plt.show()"
   ]
  }
 ],
 "metadata": {
  "kernelspec": {
   "display_name": "Python 3 (ipykernel)",
   "language": "python",
   "name": "python3"
  },
  "language_info": {
   "codemirror_mode": {
    "name": "ipython",
    "version": 3
   },
   "file_extension": ".py",
   "mimetype": "text/x-python",
   "name": "python",
   "nbconvert_exporter": "python",
   "pygments_lexer": "ipython3",
   "version": "3.8.11"
  }
 },
 "nbformat": 4,
 "nbformat_minor": 5
}
